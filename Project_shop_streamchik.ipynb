{
 "cells": [
  {
   "cell_type": "code",
   "execution_count": 1,
   "id": "c5451470",
   "metadata": {},
   "outputs": [
    {
     "name": "stdout",
     "output_type": "stream",
     "text": [
      "Defaulting to user installation because normal site-packages is not writeable\n",
      "Requirement already satisfied: matplotlib in c:\\users\\main\\appdata\\roaming\\python\\python39\\site-packages (3.6.2)\n",
      "Requirement already satisfied: fonttools>=4.22.0 in c:\\programdata\\anaconda3\\lib\\site-packages (from matplotlib) (4.25.0)\n",
      "Requirement already satisfied: cycler>=0.10 in c:\\programdata\\anaconda3\\lib\\site-packages (from matplotlib) (0.11.0)\n",
      "Requirement already satisfied: pyparsing>=2.2.1 in c:\\programdata\\anaconda3\\lib\\site-packages (from matplotlib) (3.0.4)\n",
      "Requirement already satisfied: kiwisolver>=1.0.1 in c:\\programdata\\anaconda3\\lib\\site-packages (from matplotlib) (1.3.2)\n",
      "Requirement already satisfied: packaging>=20.0 in c:\\programdata\\anaconda3\\lib\\site-packages (from matplotlib) (21.3)\n",
      "Requirement already satisfied: pillow>=6.2.0 in c:\\programdata\\anaconda3\\lib\\site-packages (from matplotlib) (9.0.1)\n",
      "Requirement already satisfied: contourpy>=1.0.1 in c:\\users\\main\\appdata\\roaming\\python\\python39\\site-packages (from matplotlib) (1.0.6)\n",
      "Requirement already satisfied: numpy>=1.19 in c:\\programdata\\anaconda3\\lib\\site-packages (from matplotlib) (1.21.5)\n",
      "Requirement already satisfied: python-dateutil>=2.7 in c:\\programdata\\anaconda3\\lib\\site-packages (from matplotlib) (2.8.2)\n",
      "Requirement already satisfied: six>=1.5 in c:\\programdata\\anaconda3\\lib\\site-packages (from python-dateutil>=2.7->matplotlib) (1.16.0)\n"
     ]
    }
   ],
   "source": [
    "try:\n",
    "    ! pip install matplotlib --upgrade\n",
    "except:\n",
    "    ! pip install matplotlib --upgrade --user"
   ]
  },
  {
   "cell_type": "markdown",
   "id": "6d9c1a68",
   "metadata": {},
   "source": [
    "<div class = \"alert alert-info\" style=\"border-left: 7px solid RED\">\n",
    "<b></b>\n",
    "    \n",
    "**После обновления модуля `matplotlib`, требуется перезапуск ядра!**\n",
    "</div>"
   ]
  },
  {
   "cell_type": "code",
   "execution_count": 2,
   "id": "c8a5b3e6",
   "metadata": {},
   "outputs": [
    {
     "name": "stdout",
     "output_type": "stream",
     "text": [
      "matplotlib: 3.6.2\n"
     ]
    }
   ],
   "source": [
    "import matplotlib \n",
    "print('matplotlib: {}'.format(matplotlib.__version__))"
   ]
  },
  {
   "cell_type": "markdown",
   "id": "5b3333c7",
   "metadata": {},
   "source": [
    "# Анализ данных интернет-магазина \"Стримчик\"\n",
    "\n",
    "**Описание проекта**\n",
    "Вы работаете в интернет-магазине «Стримчик», который продаёт по всему миру компьютерные игры. Из открытых источников доступны исторические данные о продажах игр, оценки пользователей и экспертов, жанры и платформы (например, Xbox или PlayStation). Вам нужно выявить определяющие успешность игры закономерности. Это позволит сделать ставку на потенциально популярный продукт и спланировать рекламные кампании.\n",
    "\n",
    "Перед вами данные до 2016 года. Представим, что сейчас декабрь 2016 г., и вы планируете кампанию на 2017-й. Нужно отработать принцип работы с данными. Неважно, прогнозируете ли вы продажи на 2017 год по данным 2016-го или же 2027-й — по данным 2026 года.\n",
    "\n",
    "В наборе данных попадается аббревиатура ESRB (Entertainment Software Rating Board) — это ассоциация, определяющая возрастной рейтинг компьютерных игр. ESRB оценивает игровой контент и присваивает ему подходящую возрастную категорию, например, «Для взрослых», «Для детей младшего возраста» или «Для подростков».\n",
    "\n",
    "**Описание данных**\n",
    "\n",
    "- `Name` — название игры\n",
    "- `Platform` — платформа\n",
    "- `Year_of_Release` — год выпуска\n",
    "- `Genre` — жанр игры\n",
    "- `NA_sales` — продажи в Северной Америке (миллионы проданных копий)\n",
    "- `EU_sales` — продажи в Европе (миллионы проданных копий)\n",
    "- `JP_sales` — продажи в Японии (миллионы проданных копий)\n",
    "- `Other_sales` — продажи в других странах (миллионы проданных копий)\n",
    "- `Critic_Score` — оценка критиков (максимум 100)\n",
    "- `User_Score` — оценка пользователей (максимум 10)\n",
    "- `Rating` — рейтинг от организации ESRB (англ. Entertainment Software Rating Board). Эта ассоциация определяет рейтинг компьютерных игр и присваивает им подходящую возрастную категорию.\n",
    "\n",
    "Данные за 2016 год могут быть неполными.\n",
    "\n",
    "**План и цели проекта**\n",
    "\n",
    "- Подготовка данных\n",
    "- Иследовательский анализ данных\n",
    "- Составление портрета пользователя каждого региона\n",
    "- Проверка гипотез: \n",
    "\n",
    "`Средние пользовательские рейтинги платформ Xbox One и PC одинаковые;`.\n",
    "\n",
    "`Средние пользовательские рейтинги жанров Action (англ. «действие», экшен-игры) и Sports (англ. «спортивные соревнования») разные.`\n",
    "\n",
    "- Общий вывод\n",
    "\n",
    "\n",
    "# Шаг 1.\n",
    "## Ознакомление с датасетом"
   ]
  },
  {
   "cell_type": "code",
   "execution_count": 3,
   "id": "429c538f",
   "metadata": {},
   "outputs": [],
   "source": [
    "\n",
    "import pandas as pd\n",
    "import numpy as np\n",
    "import matplotlib.pyplot as plt\n",
    "import seaborn as sbn\n",
    "import scipy.stats as st\n",
    "import warnings\n",
    "import markdown\n",
    "\n",
    "warnings.filterwarnings('ignore')"
   ]
  },
  {
   "cell_type": "code",
   "execution_count": 4,
   "id": "cf1b73af",
   "metadata": {
    "scrolled": true
   },
   "outputs": [
    {
     "data": {
      "text/html": [
       "<div>\n",
       "<style scoped>\n",
       "    .dataframe tbody tr th:only-of-type {\n",
       "        vertical-align: middle;\n",
       "    }\n",
       "\n",
       "    .dataframe tbody tr th {\n",
       "        vertical-align: top;\n",
       "    }\n",
       "\n",
       "    .dataframe thead th {\n",
       "        text-align: right;\n",
       "    }\n",
       "</style>\n",
       "<table border=\"1\" class=\"dataframe\">\n",
       "  <thead>\n",
       "    <tr style=\"text-align: right;\">\n",
       "      <th></th>\n",
       "      <th>Name</th>\n",
       "      <th>Platform</th>\n",
       "      <th>Year_of_Release</th>\n",
       "      <th>Genre</th>\n",
       "      <th>NA_sales</th>\n",
       "      <th>EU_sales</th>\n",
       "      <th>JP_sales</th>\n",
       "      <th>Other_sales</th>\n",
       "      <th>Critic_Score</th>\n",
       "      <th>User_Score</th>\n",
       "      <th>Rating</th>\n",
       "    </tr>\n",
       "  </thead>\n",
       "  <tbody>\n",
       "    <tr>\n",
       "      <th>0</th>\n",
       "      <td>Wii Sports</td>\n",
       "      <td>Wii</td>\n",
       "      <td>2006.0</td>\n",
       "      <td>Sports</td>\n",
       "      <td>41.36</td>\n",
       "      <td>28.96</td>\n",
       "      <td>3.77</td>\n",
       "      <td>8.45</td>\n",
       "      <td>76.0</td>\n",
       "      <td>8</td>\n",
       "      <td>E</td>\n",
       "    </tr>\n",
       "    <tr>\n",
       "      <th>1</th>\n",
       "      <td>Super Mario Bros.</td>\n",
       "      <td>NES</td>\n",
       "      <td>1985.0</td>\n",
       "      <td>Platform</td>\n",
       "      <td>29.08</td>\n",
       "      <td>3.58</td>\n",
       "      <td>6.81</td>\n",
       "      <td>0.77</td>\n",
       "      <td>NaN</td>\n",
       "      <td>NaN</td>\n",
       "      <td>NaN</td>\n",
       "    </tr>\n",
       "    <tr>\n",
       "      <th>2</th>\n",
       "      <td>Mario Kart Wii</td>\n",
       "      <td>Wii</td>\n",
       "      <td>2008.0</td>\n",
       "      <td>Racing</td>\n",
       "      <td>15.68</td>\n",
       "      <td>12.76</td>\n",
       "      <td>3.79</td>\n",
       "      <td>3.29</td>\n",
       "      <td>82.0</td>\n",
       "      <td>8.3</td>\n",
       "      <td>E</td>\n",
       "    </tr>\n",
       "    <tr>\n",
       "      <th>3</th>\n",
       "      <td>Wii Sports Resort</td>\n",
       "      <td>Wii</td>\n",
       "      <td>2009.0</td>\n",
       "      <td>Sports</td>\n",
       "      <td>15.61</td>\n",
       "      <td>10.93</td>\n",
       "      <td>3.28</td>\n",
       "      <td>2.95</td>\n",
       "      <td>80.0</td>\n",
       "      <td>8</td>\n",
       "      <td>E</td>\n",
       "    </tr>\n",
       "    <tr>\n",
       "      <th>4</th>\n",
       "      <td>Pokemon Red/Pokemon Blue</td>\n",
       "      <td>GB</td>\n",
       "      <td>1996.0</td>\n",
       "      <td>Role-Playing</td>\n",
       "      <td>11.27</td>\n",
       "      <td>8.89</td>\n",
       "      <td>10.22</td>\n",
       "      <td>1.00</td>\n",
       "      <td>NaN</td>\n",
       "      <td>NaN</td>\n",
       "      <td>NaN</td>\n",
       "    </tr>\n",
       "  </tbody>\n",
       "</table>\n",
       "</div>"
      ],
      "text/plain": [
       "                       Name Platform  Year_of_Release         Genre  NA_sales  \\\n",
       "0                Wii Sports      Wii           2006.0        Sports     41.36   \n",
       "1         Super Mario Bros.      NES           1985.0      Platform     29.08   \n",
       "2            Mario Kart Wii      Wii           2008.0        Racing     15.68   \n",
       "3         Wii Sports Resort      Wii           2009.0        Sports     15.61   \n",
       "4  Pokemon Red/Pokemon Blue       GB           1996.0  Role-Playing     11.27   \n",
       "\n",
       "   EU_sales  JP_sales  Other_sales  Critic_Score User_Score Rating  \n",
       "0     28.96      3.77         8.45          76.0          8      E  \n",
       "1      3.58      6.81         0.77           NaN        NaN    NaN  \n",
       "2     12.76      3.79         3.29          82.0        8.3      E  \n",
       "3     10.93      3.28         2.95          80.0          8      E  \n",
       "4      8.89     10.22         1.00           NaN        NaN    NaN  "
      ]
     },
     "execution_count": 4,
     "metadata": {},
     "output_type": "execute_result"
    }
   ],
   "source": [
    "try:\n",
    "  df = pd.read_csv('games.csv')\n",
    "except:\n",
    "  df = pd.read_csv('https://code.s3.yandex.net/datasets/games.csv')\n",
    "\n",
    "df.head()"
   ]
  },
  {
   "cell_type": "code",
   "execution_count": 5,
   "id": "f867cf33",
   "metadata": {},
   "outputs": [
    {
     "name": "stdout",
     "output_type": "stream",
     "text": [
      "<class 'pandas.core.frame.DataFrame'>\n",
      "RangeIndex: 16715 entries, 0 to 16714\n",
      "Data columns (total 11 columns):\n",
      " #   Column           Non-Null Count  Dtype  \n",
      "---  ------           --------------  -----  \n",
      " 0   Name             16713 non-null  object \n",
      " 1   Platform         16715 non-null  object \n",
      " 2   Year_of_Release  16446 non-null  float64\n",
      " 3   Genre            16713 non-null  object \n",
      " 4   NA_sales         16715 non-null  float64\n",
      " 5   EU_sales         16715 non-null  float64\n",
      " 6   JP_sales         16715 non-null  float64\n",
      " 7   Other_sales      16715 non-null  float64\n",
      " 8   Critic_Score     8137 non-null   float64\n",
      " 9   User_Score       10014 non-null  object \n",
      " 10  Rating           9949 non-null   object \n",
      "dtypes: float64(6), object(5)\n",
      "memory usage: 1.4+ MB\n"
     ]
    }
   ],
   "source": [
    "df.info()"
   ]
  },
  {
   "cell_type": "code",
   "execution_count": 6,
   "id": "fe95078a",
   "metadata": {},
   "outputs": [
    {
     "data": {
      "image/png": "[encoded data removed]",
      "text/plain": [
       "<Figure size 1080x1440 with 6 Axes>"
      ]
     },
     "metadata": {
      "needs_background": "light"
     },
     "output_type": "display_data"
    }
   ],
   "source": [
    "df.hist(figsize=(15,20));"
   ]
  },
  {
   "cell_type": "code",
   "execution_count": 7,
   "id": "6c44e28f",
   "metadata": {
    "scrolled": true
   },
   "outputs": [
    {
     "data": {
      "text/html": [
       "<div>\n",
       "<style scoped>\n",
       "    .dataframe tbody tr th:only-of-type {\n",
       "        vertical-align: middle;\n",
       "    }\n",
       "\n",
       "    .dataframe tbody tr th {\n",
       "        vertical-align: top;\n",
       "    }\n",
       "\n",
       "    .dataframe thead th {\n",
       "        text-align: right;\n",
       "    }\n",
       "</style>\n",
       "<table border=\"1\" class=\"dataframe\">\n",
       "  <thead>\n",
       "    <tr style=\"text-align: right;\">\n",
       "      <th></th>\n",
       "      <th>Year_of_Release</th>\n",
       "      <th>NA_sales</th>\n",
       "      <th>EU_sales</th>\n",
       "      <th>JP_sales</th>\n",
       "      <th>Other_sales</th>\n",
       "      <th>Critic_Score</th>\n",
       "    </tr>\n",
       "  </thead>\n",
       "  <tbody>\n",
       "    <tr>\n",
       "      <th>count</th>\n",
       "      <td>16446.000000</td>\n",
       "      <td>16715.000000</td>\n",
       "      <td>16715.000000</td>\n",
       "      <td>16715.000000</td>\n",
       "      <td>16715.000000</td>\n",
       "      <td>8137.000000</td>\n",
       "    </tr>\n",
       "    <tr>\n",
       "      <th>mean</th>\n",
       "      <td>2006.484616</td>\n",
       "      <td>0.263377</td>\n",
       "      <td>0.145060</td>\n",
       "      <td>0.077617</td>\n",
       "      <td>0.047342</td>\n",
       "      <td>68.967679</td>\n",
       "    </tr>\n",
       "    <tr>\n",
       "      <th>std</th>\n",
       "      <td>5.877050</td>\n",
       "      <td>0.813604</td>\n",
       "      <td>0.503339</td>\n",
       "      <td>0.308853</td>\n",
       "      <td>0.186731</td>\n",
       "      <td>13.938165</td>\n",
       "    </tr>\n",
       "    <tr>\n",
       "      <th>min</th>\n",
       "      <td>1980.000000</td>\n",
       "      <td>0.000000</td>\n",
       "      <td>0.000000</td>\n",
       "      <td>0.000000</td>\n",
       "      <td>0.000000</td>\n",
       "      <td>13.000000</td>\n",
       "    </tr>\n",
       "    <tr>\n",
       "      <th>25%</th>\n",
       "      <td>2003.000000</td>\n",
       "      <td>0.000000</td>\n",
       "      <td>0.000000</td>\n",
       "      <td>0.000000</td>\n",
       "      <td>0.000000</td>\n",
       "      <td>60.000000</td>\n",
       "    </tr>\n",
       "    <tr>\n",
       "      <th>50%</th>\n",
       "      <td>2007.000000</td>\n",
       "      <td>0.080000</td>\n",
       "      <td>0.020000</td>\n",
       "      <td>0.000000</td>\n",
       "      <td>0.010000</td>\n",
       "      <td>71.000000</td>\n",
       "    </tr>\n",
       "    <tr>\n",
       "      <th>75%</th>\n",
       "      <td>2010.000000</td>\n",
       "      <td>0.240000</td>\n",
       "      <td>0.110000</td>\n",
       "      <td>0.040000</td>\n",
       "      <td>0.030000</td>\n",
       "      <td>79.000000</td>\n",
       "    </tr>\n",
       "    <tr>\n",
       "      <th>max</th>\n",
       "      <td>2016.000000</td>\n",
       "      <td>41.360000</td>\n",
       "      <td>28.960000</td>\n",
       "      <td>10.220000</td>\n",
       "      <td>10.570000</td>\n",
       "      <td>98.000000</td>\n",
       "    </tr>\n",
       "  </tbody>\n",
       "</table>\n",
       "</div>"
      ],
      "text/plain": [
       "       Year_of_Release      NA_sales      EU_sales      JP_sales  \\\n",
       "count     16446.000000  16715.000000  16715.000000  16715.000000   \n",
       "mean       2006.484616      0.263377      0.145060      0.077617   \n",
       "std           5.877050      0.813604      0.503339      0.308853   \n",
       "min        1980.000000      0.000000      0.000000      0.000000   \n",
       "25%        2003.000000      0.000000      0.000000      0.000000   \n",
       "50%        2007.000000      0.080000      0.020000      0.000000   \n",
       "75%        2010.000000      0.240000      0.110000      0.040000   \n",
       "max        2016.000000     41.360000     28.960000     10.220000   \n",
       "\n",
       "        Other_sales  Critic_Score  \n",
       "count  16715.000000   8137.000000  \n",
       "mean       0.047342     68.967679  \n",
       "std        0.186731     13.938165  \n",
       "min        0.000000     13.000000  \n",
       "25%        0.000000     60.000000  \n",
       "50%        0.010000     71.000000  \n",
       "75%        0.030000     79.000000  \n",
       "max       10.570000     98.000000  "
      ]
     },
     "execution_count": 7,
     "metadata": {},
     "output_type": "execute_result"
    }
   ],
   "source": [
    "df.describe()"
   ]
  },
  {
   "cell_type": "code",
   "execution_count": 8,
   "id": "f42ff136",
   "metadata": {
    "scrolled": true
   },
   "outputs": [
    {
     "data": {
      "text/html": [
       "<style type=\"text/css\">\n",
       "#T_624f4_row0_col0, #T_624f4_row1_col0, #T_624f4_row3_col0, #T_624f4_row4_col0, #T_624f4_row5_col0, #T_624f4_row6_col0, #T_624f4_row7_col0 {\n",
       "  background-color: #3b4cc0;\n",
       "  color: #f1f1f1;\n",
       "}\n",
       "#T_624f4_row2_col0 {\n",
       "  background-color: #465ecf;\n",
       "  color: #f1f1f1;\n",
       "}\n",
       "#T_624f4_row8_col0 {\n",
       "  background-color: #b40426;\n",
       "  color: #f1f1f1;\n",
       "}\n",
       "#T_624f4_row9_col0, #T_624f4_row10_col0 {\n",
       "  background-color: #f08b6e;\n",
       "  color: #f1f1f1;\n",
       "}\n",
       "</style>\n",
       "<table id=\"T_624f4\">\n",
       "  <thead>\n",
       "    <tr>\n",
       "      <th class=\"blank level0\" >&nbsp;</th>\n",
       "      <th id=\"T_624f4_level0_col0\" class=\"col_heading level0 col0\" >0</th>\n",
       "    </tr>\n",
       "  </thead>\n",
       "  <tbody>\n",
       "    <tr>\n",
       "      <th id=\"T_624f4_level0_row0\" class=\"row_heading level0 row0\" >Name</th>\n",
       "      <td id=\"T_624f4_row0_col0\" class=\"data row0 col0\" >0.000000</td>\n",
       "    </tr>\n",
       "    <tr>\n",
       "      <th id=\"T_624f4_level0_row1\" class=\"row_heading level0 row1\" >Platform</th>\n",
       "      <td id=\"T_624f4_row1_col0\" class=\"data row1 col0\" >0.000000</td>\n",
       "    </tr>\n",
       "    <tr>\n",
       "      <th id=\"T_624f4_level0_row2\" class=\"row_heading level0 row2\" >Year_of_Release</th>\n",
       "      <td id=\"T_624f4_row2_col0\" class=\"data row2 col0\" >2.000000</td>\n",
       "    </tr>\n",
       "    <tr>\n",
       "      <th id=\"T_624f4_level0_row3\" class=\"row_heading level0 row3\" >Genre</th>\n",
       "      <td id=\"T_624f4_row3_col0\" class=\"data row3 col0\" >0.000000</td>\n",
       "    </tr>\n",
       "    <tr>\n",
       "      <th id=\"T_624f4_level0_row4\" class=\"row_heading level0 row4\" >NA_sales</th>\n",
       "      <td id=\"T_624f4_row4_col0\" class=\"data row4 col0\" >0.000000</td>\n",
       "    </tr>\n",
       "    <tr>\n",
       "      <th id=\"T_624f4_level0_row5\" class=\"row_heading level0 row5\" >EU_sales</th>\n",
       "      <td id=\"T_624f4_row5_col0\" class=\"data row5 col0\" >0.000000</td>\n",
       "    </tr>\n",
       "    <tr>\n",
       "      <th id=\"T_624f4_level0_row6\" class=\"row_heading level0 row6\" >JP_sales</th>\n",
       "      <td id=\"T_624f4_row6_col0\" class=\"data row6 col0\" >0.000000</td>\n",
       "    </tr>\n",
       "    <tr>\n",
       "      <th id=\"T_624f4_level0_row7\" class=\"row_heading level0 row7\" >Other_sales</th>\n",
       "      <td id=\"T_624f4_row7_col0\" class=\"data row7 col0\" >0.000000</td>\n",
       "    </tr>\n",
       "    <tr>\n",
       "      <th id=\"T_624f4_level0_row8\" class=\"row_heading level0 row8\" >Critic_Score</th>\n",
       "      <td id=\"T_624f4_row8_col0\" class=\"data row8 col0\" >51.000000</td>\n",
       "    </tr>\n",
       "    <tr>\n",
       "      <th id=\"T_624f4_level0_row9\" class=\"row_heading level0 row9\" >User_Score</th>\n",
       "      <td id=\"T_624f4_row9_col0\" class=\"data row9 col0\" >40.000000</td>\n",
       "    </tr>\n",
       "    <tr>\n",
       "      <th id=\"T_624f4_level0_row10\" class=\"row_heading level0 row10\" >Rating</th>\n",
       "      <td id=\"T_624f4_row10_col0\" class=\"data row10 col0\" >40.000000</td>\n",
       "    </tr>\n",
       "  </tbody>\n",
       "</table>\n"
      ],
      "text/plain": [
       "<pandas.io.formats.style.Styler at 0x2107a930dc0>"
      ]
     },
     "execution_count": 8,
     "metadata": {},
     "output_type": "execute_result"
    }
   ],
   "source": [
    "pd.DataFrame(round(df.isna().mean()*100,)).style.background_gradient('coolwarm')"
   ]
  },
  {
   "cell_type": "markdown",
   "id": "bee534bb",
   "metadata": {},
   "source": [
    "**Первый взгляд на датасет**\n",
    "\n",
    "- `Name` - наличие пропусков\n",
    "- `Year_of_Release` наличие пропусков и неправильный тип\n",
    "- `Genre` - наличие пропусков\n",
    "- `Critic_Score` - наличие пропусков\n",
    "- `User_Score` - наличие пропусков и неправильный тип\n",
    "- `Rating` - наличие пропусков\n",
    "\n",
    "Так же видим, что названия столбцов находятся в разном регистре. Исправим это\n",
    "\n",
    "# Шаг 2.\n",
    "\n",
    "## Подготовка данных"
   ]
  },
  {
   "cell_type": "code",
   "execution_count": 9,
   "id": "9a18f0bb",
   "metadata": {
    "scrolled": true
   },
   "outputs": [
    {
     "data": {
      "text/plain": [
       "Index(['name', 'platform', 'year_of_release', 'genre', 'na_sales', 'eu_sales',\n",
       "       'jp_sales', 'other_sales', 'critic_score', 'user_score', 'rating'],\n",
       "      dtype='object')"
      ]
     },
     "execution_count": 9,
     "metadata": {},
     "output_type": "execute_result"
    }
   ],
   "source": [
    "df.columns = df.columns.str.lower()\n",
    "df.columns"
   ]
  },
  {
   "cell_type": "markdown",
   "id": "16e9de15",
   "metadata": {},
   "source": [
    "**Приведем к нижнему регистру данные в столбцах содержащих текст**"
   ]
  },
  {
   "cell_type": "code",
   "execution_count": 10,
   "id": "c237e91c",
   "metadata": {},
   "outputs": [],
   "source": [
    "for column in ['name','platform','genre','rating']:\n",
    "    df[column] = df[column].str.lower()"
   ]
  },
  {
   "cell_type": "markdown",
   "id": "ecc2b571",
   "metadata": {},
   "source": [
    "**Всего 2% пропущенных значений в столбце год релиза, удалим строки и изменим тип на целое число**"
   ]
  },
  {
   "cell_type": "code",
   "execution_count": 11,
   "id": "06bde4cc",
   "metadata": {},
   "outputs": [
    {
     "data": {
      "text/html": [
       "<div>\n",
       "<style scoped>\n",
       "    .dataframe tbody tr th:only-of-type {\n",
       "        vertical-align: middle;\n",
       "    }\n",
       "\n",
       "    .dataframe tbody tr th {\n",
       "        vertical-align: top;\n",
       "    }\n",
       "\n",
       "    .dataframe thead th {\n",
       "        text-align: right;\n",
       "    }\n",
       "</style>\n",
       "<table border=\"1\" class=\"dataframe\">\n",
       "  <thead>\n",
       "    <tr style=\"text-align: right;\">\n",
       "      <th></th>\n",
       "      <th>name</th>\n",
       "      <th>platform</th>\n",
       "      <th>year_of_release</th>\n",
       "      <th>genre</th>\n",
       "      <th>na_sales</th>\n",
       "      <th>eu_sales</th>\n",
       "      <th>jp_sales</th>\n",
       "      <th>other_sales</th>\n",
       "      <th>critic_score</th>\n",
       "      <th>user_score</th>\n",
       "      <th>rating</th>\n",
       "    </tr>\n",
       "  </thead>\n",
       "  <tbody>\n",
       "    <tr>\n",
       "      <th>0</th>\n",
       "      <td>wii sports</td>\n",
       "      <td>wii</td>\n",
       "      <td>2006</td>\n",
       "      <td>sports</td>\n",
       "      <td>41.36</td>\n",
       "      <td>28.96</td>\n",
       "      <td>3.77</td>\n",
       "      <td>8.45</td>\n",
       "      <td>76.0</td>\n",
       "      <td>8</td>\n",
       "      <td>e</td>\n",
       "    </tr>\n",
       "    <tr>\n",
       "      <th>1</th>\n",
       "      <td>super mario bros.</td>\n",
       "      <td>nes</td>\n",
       "      <td>1985</td>\n",
       "      <td>platform</td>\n",
       "      <td>29.08</td>\n",
       "      <td>3.58</td>\n",
       "      <td>6.81</td>\n",
       "      <td>0.77</td>\n",
       "      <td>NaN</td>\n",
       "      <td>NaN</td>\n",
       "      <td>NaN</td>\n",
       "    </tr>\n",
       "    <tr>\n",
       "      <th>2</th>\n",
       "      <td>mario kart wii</td>\n",
       "      <td>wii</td>\n",
       "      <td>2008</td>\n",
       "      <td>racing</td>\n",
       "      <td>15.68</td>\n",
       "      <td>12.76</td>\n",
       "      <td>3.79</td>\n",
       "      <td>3.29</td>\n",
       "      <td>82.0</td>\n",
       "      <td>8.3</td>\n",
       "      <td>e</td>\n",
       "    </tr>\n",
       "    <tr>\n",
       "      <th>3</th>\n",
       "      <td>wii sports resort</td>\n",
       "      <td>wii</td>\n",
       "      <td>2009</td>\n",
       "      <td>sports</td>\n",
       "      <td>15.61</td>\n",
       "      <td>10.93</td>\n",
       "      <td>3.28</td>\n",
       "      <td>2.95</td>\n",
       "      <td>80.0</td>\n",
       "      <td>8</td>\n",
       "      <td>e</td>\n",
       "    </tr>\n",
       "    <tr>\n",
       "      <th>4</th>\n",
       "      <td>pokemon red/pokemon blue</td>\n",
       "      <td>gb</td>\n",
       "      <td>1996</td>\n",
       "      <td>role-playing</td>\n",
       "      <td>11.27</td>\n",
       "      <td>8.89</td>\n",
       "      <td>10.22</td>\n",
       "      <td>1.00</td>\n",
       "      <td>NaN</td>\n",
       "      <td>NaN</td>\n",
       "      <td>NaN</td>\n",
       "    </tr>\n",
       "  </tbody>\n",
       "</table>\n",
       "</div>"
      ],
      "text/plain": [
       "                       name platform  year_of_release         genre  na_sales  \\\n",
       "0                wii sports      wii             2006        sports     41.36   \n",
       "1         super mario bros.      nes             1985      platform     29.08   \n",
       "2            mario kart wii      wii             2008        racing     15.68   \n",
       "3         wii sports resort      wii             2009        sports     15.61   \n",
       "4  pokemon red/pokemon blue       gb             1996  role-playing     11.27   \n",
       "\n",
       "   eu_sales  jp_sales  other_sales  critic_score user_score rating  \n",
       "0     28.96      3.77         8.45          76.0          8      e  \n",
       "1      3.58      6.81         0.77           NaN        NaN    NaN  \n",
       "2     12.76      3.79         3.29          82.0        8.3      e  \n",
       "3     10.93      3.28         2.95          80.0          8      e  \n",
       "4      8.89     10.22         1.00           NaN        NaN    NaN  "
      ]
     },
     "execution_count": 11,
     "metadata": {},
     "output_type": "execute_result"
    }
   ],
   "source": [
    "df = df.dropna(subset=['year_of_release'])\n",
    "df['year_of_release'] = df['year_of_release'].astype('int')\n",
    "df.head()"
   ]
  },
  {
   "cell_type": "markdown",
   "id": "35a47044",
   "metadata": {},
   "source": [
    "**В столбце оценки пользователей присутствует аббревиатура 'tbd' (to be determined), чтобы удобней было работать с данными, заменим 'tbd' на NaN.**"
   ]
  },
  {
   "cell_type": "code",
   "execution_count": 12,
   "id": "a8b4564b",
   "metadata": {},
   "outputs": [
    {
     "data": {
      "text/plain": [
       "array(['8', nan, '8.3', '8.5', '6.6', '8.4', '8.6', '7.7', '6.3', '7.4',\n",
       "       '8.2', '9', '7.9', '8.1', '8.7', '7.1', '3.4', '5.3', '4.8', '3.2',\n",
       "       '8.9', '6.4', '7.8', '7.5', '2.6', '7.2', '9.2', '7', '7.3', '4.3',\n",
       "       '7.6', '5.7', '5', '9.1', '6.5', '8.8', '6.9', '9.4', '6.8', '6.1',\n",
       "       '6.7', '5.4', '4', '4.9', '4.5', '9.3', '6.2', '4.2', '6', '3.7',\n",
       "       '4.1', '5.8', '5.6', '5.5', '4.4', '4.6', '5.9', '3.9', '3.1',\n",
       "       '2.9', '5.2', '3.3', '4.7', '5.1', '3.5', '2.5', '1.9', '3', '2.7',\n",
       "       '2.2', '2', '9.5', '2.1', '3.6', '2.8', '1.8', '3.8', '0', '1.6',\n",
       "       '9.6', '2.4', '1.7', '1.1', '0.3', '1.5', '0.7', '1.2', '2.3',\n",
       "       '0.5', '1.3', '0.2', '0.6', '1.4', '0.9', '1', '9.7'], dtype=object)"
      ]
     },
     "execution_count": 12,
     "metadata": {},
     "output_type": "execute_result"
    }
   ],
   "source": [
    "df['user_score'] = df['user_score'].replace('tbd', np.NaN)\n",
    "df['user_score'].unique()"
   ]
  },
  {
   "cell_type": "markdown",
   "id": "d882ad20",
   "metadata": {},
   "source": [
    "**Изменим формат ячеек `user_score`**"
   ]
  },
  {
   "cell_type": "code",
   "execution_count": 13,
   "id": "3b700d7e",
   "metadata": {},
   "outputs": [],
   "source": [
    "df['user_score'] = df['user_score'].astype('float64')"
   ]
  },
  {
   "cell_type": "code",
   "execution_count": 14,
   "id": "c1a67cf9",
   "metadata": {},
   "outputs": [
    {
     "data": {
      "text/html": [
       "<div>\n",
       "<style scoped>\n",
       "    .dataframe tbody tr th:only-of-type {\n",
       "        vertical-align: middle;\n",
       "    }\n",
       "\n",
       "    .dataframe tbody tr th {\n",
       "        vertical-align: top;\n",
       "    }\n",
       "\n",
       "    .dataframe thead th {\n",
       "        text-align: right;\n",
       "    }\n",
       "</style>\n",
       "<table border=\"1\" class=\"dataframe\">\n",
       "  <thead>\n",
       "    <tr style=\"text-align: right;\">\n",
       "      <th></th>\n",
       "      <th>name</th>\n",
       "      <th>platform</th>\n",
       "      <th>year_of_release</th>\n",
       "      <th>genre</th>\n",
       "      <th>na_sales</th>\n",
       "      <th>eu_sales</th>\n",
       "      <th>jp_sales</th>\n",
       "      <th>other_sales</th>\n",
       "      <th>critic_score</th>\n",
       "      <th>user_score</th>\n",
       "      <th>rating</th>\n",
       "    </tr>\n",
       "  </thead>\n",
       "  <tbody>\n",
       "    <tr>\n",
       "      <th>659</th>\n",
       "      <td>NaN</td>\n",
       "      <td>gen</td>\n",
       "      <td>1993</td>\n",
       "      <td>NaN</td>\n",
       "      <td>1.78</td>\n",
       "      <td>0.53</td>\n",
       "      <td>0.00</td>\n",
       "      <td>0.08</td>\n",
       "      <td>NaN</td>\n",
       "      <td>NaN</td>\n",
       "      <td>NaN</td>\n",
       "    </tr>\n",
       "    <tr>\n",
       "      <th>14244</th>\n",
       "      <td>NaN</td>\n",
       "      <td>gen</td>\n",
       "      <td>1993</td>\n",
       "      <td>NaN</td>\n",
       "      <td>0.00</td>\n",
       "      <td>0.00</td>\n",
       "      <td>0.03</td>\n",
       "      <td>0.00</td>\n",
       "      <td>NaN</td>\n",
       "      <td>NaN</td>\n",
       "      <td>NaN</td>\n",
       "    </tr>\n",
       "  </tbody>\n",
       "</table>\n",
       "</div>"
      ],
      "text/plain": [
       "      name platform  year_of_release genre  na_sales  eu_sales  jp_sales  \\\n",
       "659    NaN      gen             1993   NaN      1.78      0.53      0.00   \n",
       "14244  NaN      gen             1993   NaN      0.00      0.00      0.03   \n",
       "\n",
       "       other_sales  critic_score  user_score rating  \n",
       "659           0.08           NaN         NaN    NaN  \n",
       "14244         0.00           NaN         NaN    NaN  "
      ]
     },
     "execution_count": 14,
     "metadata": {},
     "output_type": "execute_result"
    }
   ],
   "source": [
    "df[df['name'].isna()]"
   ]
  },
  {
   "cell_type": "markdown",
   "id": "d25d8bf1",
   "metadata": {},
   "source": [
    "**Наличие пропусков в столбцах `name` и `genre` составляет всего 2 строки и имеют пропуски почти во всех столбцах, удалим эти строки**"
   ]
  },
  {
   "cell_type": "code",
   "execution_count": 15,
   "id": "7f72349e",
   "metadata": {},
   "outputs": [
    {
     "data": {
      "text/html": [
       "<div>\n",
       "<style scoped>\n",
       "    .dataframe tbody tr th:only-of-type {\n",
       "        vertical-align: middle;\n",
       "    }\n",
       "\n",
       "    .dataframe tbody tr th {\n",
       "        vertical-align: top;\n",
       "    }\n",
       "\n",
       "    .dataframe thead th {\n",
       "        text-align: right;\n",
       "    }\n",
       "</style>\n",
       "<table border=\"1\" class=\"dataframe\">\n",
       "  <thead>\n",
       "    <tr style=\"text-align: right;\">\n",
       "      <th></th>\n",
       "      <th>name</th>\n",
       "      <th>platform</th>\n",
       "      <th>year_of_release</th>\n",
       "      <th>genre</th>\n",
       "      <th>na_sales</th>\n",
       "      <th>eu_sales</th>\n",
       "      <th>jp_sales</th>\n",
       "      <th>other_sales</th>\n",
       "      <th>critic_score</th>\n",
       "      <th>user_score</th>\n",
       "      <th>rating</th>\n",
       "    </tr>\n",
       "  </thead>\n",
       "  <tbody>\n",
       "    <tr>\n",
       "      <th>0</th>\n",
       "      <td>wii sports</td>\n",
       "      <td>wii</td>\n",
       "      <td>2006</td>\n",
       "      <td>sports</td>\n",
       "      <td>41.36</td>\n",
       "      <td>28.96</td>\n",
       "      <td>3.77</td>\n",
       "      <td>8.45</td>\n",
       "      <td>76.0</td>\n",
       "      <td>8.0</td>\n",
       "      <td>e</td>\n",
       "    </tr>\n",
       "    <tr>\n",
       "      <th>1</th>\n",
       "      <td>super mario bros.</td>\n",
       "      <td>nes</td>\n",
       "      <td>1985</td>\n",
       "      <td>platform</td>\n",
       "      <td>29.08</td>\n",
       "      <td>3.58</td>\n",
       "      <td>6.81</td>\n",
       "      <td>0.77</td>\n",
       "      <td>NaN</td>\n",
       "      <td>NaN</td>\n",
       "      <td>NaN</td>\n",
       "    </tr>\n",
       "    <tr>\n",
       "      <th>2</th>\n",
       "      <td>mario kart wii</td>\n",
       "      <td>wii</td>\n",
       "      <td>2008</td>\n",
       "      <td>racing</td>\n",
       "      <td>15.68</td>\n",
       "      <td>12.76</td>\n",
       "      <td>3.79</td>\n",
       "      <td>3.29</td>\n",
       "      <td>82.0</td>\n",
       "      <td>8.3</td>\n",
       "      <td>e</td>\n",
       "    </tr>\n",
       "    <tr>\n",
       "      <th>3</th>\n",
       "      <td>wii sports resort</td>\n",
       "      <td>wii</td>\n",
       "      <td>2009</td>\n",
       "      <td>sports</td>\n",
       "      <td>15.61</td>\n",
       "      <td>10.93</td>\n",
       "      <td>3.28</td>\n",
       "      <td>2.95</td>\n",
       "      <td>80.0</td>\n",
       "      <td>8.0</td>\n",
       "      <td>e</td>\n",
       "    </tr>\n",
       "    <tr>\n",
       "      <th>4</th>\n",
       "      <td>pokemon red/pokemon blue</td>\n",
       "      <td>gb</td>\n",
       "      <td>1996</td>\n",
       "      <td>role-playing</td>\n",
       "      <td>11.27</td>\n",
       "      <td>8.89</td>\n",
       "      <td>10.22</td>\n",
       "      <td>1.00</td>\n",
       "      <td>NaN</td>\n",
       "      <td>NaN</td>\n",
       "      <td>NaN</td>\n",
       "    </tr>\n",
       "    <tr>\n",
       "      <th>...</th>\n",
       "      <td>...</td>\n",
       "      <td>...</td>\n",
       "      <td>...</td>\n",
       "      <td>...</td>\n",
       "      <td>...</td>\n",
       "      <td>...</td>\n",
       "      <td>...</td>\n",
       "      <td>...</td>\n",
       "      <td>...</td>\n",
       "      <td>...</td>\n",
       "      <td>...</td>\n",
       "    </tr>\n",
       "    <tr>\n",
       "      <th>16439</th>\n",
       "      <td>samurai warriors: sanada maru</td>\n",
       "      <td>ps3</td>\n",
       "      <td>2016</td>\n",
       "      <td>action</td>\n",
       "      <td>0.00</td>\n",
       "      <td>0.00</td>\n",
       "      <td>0.01</td>\n",
       "      <td>0.00</td>\n",
       "      <td>NaN</td>\n",
       "      <td>NaN</td>\n",
       "      <td>NaN</td>\n",
       "    </tr>\n",
       "    <tr>\n",
       "      <th>16440</th>\n",
       "      <td>lma manager 2007</td>\n",
       "      <td>x360</td>\n",
       "      <td>2006</td>\n",
       "      <td>sports</td>\n",
       "      <td>0.00</td>\n",
       "      <td>0.01</td>\n",
       "      <td>0.00</td>\n",
       "      <td>0.00</td>\n",
       "      <td>NaN</td>\n",
       "      <td>NaN</td>\n",
       "      <td>NaN</td>\n",
       "    </tr>\n",
       "    <tr>\n",
       "      <th>16441</th>\n",
       "      <td>haitaka no psychedelica</td>\n",
       "      <td>psv</td>\n",
       "      <td>2016</td>\n",
       "      <td>adventure</td>\n",
       "      <td>0.00</td>\n",
       "      <td>0.00</td>\n",
       "      <td>0.01</td>\n",
       "      <td>0.00</td>\n",
       "      <td>NaN</td>\n",
       "      <td>NaN</td>\n",
       "      <td>NaN</td>\n",
       "    </tr>\n",
       "    <tr>\n",
       "      <th>16442</th>\n",
       "      <td>spirits &amp; spells</td>\n",
       "      <td>gba</td>\n",
       "      <td>2003</td>\n",
       "      <td>platform</td>\n",
       "      <td>0.01</td>\n",
       "      <td>0.00</td>\n",
       "      <td>0.00</td>\n",
       "      <td>0.00</td>\n",
       "      <td>NaN</td>\n",
       "      <td>NaN</td>\n",
       "      <td>NaN</td>\n",
       "    </tr>\n",
       "    <tr>\n",
       "      <th>16443</th>\n",
       "      <td>winning post 8 2016</td>\n",
       "      <td>psv</td>\n",
       "      <td>2016</td>\n",
       "      <td>simulation</td>\n",
       "      <td>0.00</td>\n",
       "      <td>0.00</td>\n",
       "      <td>0.01</td>\n",
       "      <td>0.00</td>\n",
       "      <td>NaN</td>\n",
       "      <td>NaN</td>\n",
       "      <td>NaN</td>\n",
       "    </tr>\n",
       "  </tbody>\n",
       "</table>\n",
       "<p>16444 rows × 11 columns</p>\n",
       "</div>"
      ],
      "text/plain": [
       "                                name platform  year_of_release         genre  \\\n",
       "0                         wii sports      wii             2006        sports   \n",
       "1                  super mario bros.      nes             1985      platform   \n",
       "2                     mario kart wii      wii             2008        racing   \n",
       "3                  wii sports resort      wii             2009        sports   \n",
       "4           pokemon red/pokemon blue       gb             1996  role-playing   \n",
       "...                              ...      ...              ...           ...   \n",
       "16439  samurai warriors: sanada maru      ps3             2016        action   \n",
       "16440               lma manager 2007     x360             2006        sports   \n",
       "16441        haitaka no psychedelica      psv             2016     adventure   \n",
       "16442               spirits & spells      gba             2003      platform   \n",
       "16443            winning post 8 2016      psv             2016    simulation   \n",
       "\n",
       "       na_sales  eu_sales  jp_sales  other_sales  critic_score  user_score  \\\n",
       "0         41.36     28.96      3.77         8.45          76.0         8.0   \n",
       "1         29.08      3.58      6.81         0.77           NaN         NaN   \n",
       "2         15.68     12.76      3.79         3.29          82.0         8.3   \n",
       "3         15.61     10.93      3.28         2.95          80.0         8.0   \n",
       "4         11.27      8.89     10.22         1.00           NaN         NaN   \n",
       "...         ...       ...       ...          ...           ...         ...   \n",
       "16439      0.00      0.00      0.01         0.00           NaN         NaN   \n",
       "16440      0.00      0.01      0.00         0.00           NaN         NaN   \n",
       "16441      0.00      0.00      0.01         0.00           NaN         NaN   \n",
       "16442      0.01      0.00      0.00         0.00           NaN         NaN   \n",
       "16443      0.00      0.00      0.01         0.00           NaN         NaN   \n",
       "\n",
       "      rating  \n",
       "0          e  \n",
       "1        NaN  \n",
       "2          e  \n",
       "3          e  \n",
       "4        NaN  \n",
       "...      ...  \n",
       "16439    NaN  \n",
       "16440    NaN  \n",
       "16441    NaN  \n",
       "16442    NaN  \n",
       "16443    NaN  \n",
       "\n",
       "[16444 rows x 11 columns]"
      ]
     },
     "execution_count": 15,
     "metadata": {},
     "output_type": "execute_result"
    }
   ],
   "source": [
    "df = df.dropna(subset=['name'])\n",
    "df.reset_index(drop=True)"
   ]
  },
  {
   "cell_type": "markdown",
   "id": "8b779f59",
   "metadata": {},
   "source": [
    "**Заменим пропуски в `rating` на \"не определен\" 'tbd'**"
   ]
  },
  {
   "cell_type": "code",
   "execution_count": 16,
   "id": "324a790e",
   "metadata": {},
   "outputs": [],
   "source": [
    "df['rating'] = df['rating'].fillna('tbd')"
   ]
  },
  {
   "cell_type": "code",
   "execution_count": 17,
   "id": "19f1023a",
   "metadata": {},
   "outputs": [
    {
     "data": {
      "text/plain": [
       "array(['e', 'tbd', 'm', 't', 'e10+', 'k-a', 'ao', 'ec', 'rp'],\n",
       "      dtype=object)"
      ]
     },
     "execution_count": 17,
     "metadata": {},
     "output_type": "execute_result"
    }
   ],
   "source": [
    "df['rating'].unique()"
   ]
  },
  {
   "cell_type": "code",
   "execution_count": 18,
   "id": "ba5f0237",
   "metadata": {
    "scrolled": true
   },
   "outputs": [
    {
     "data": {
      "text/plain": [
       "0"
      ]
     },
     "execution_count": 18,
     "metadata": {},
     "output_type": "execute_result"
    }
   ],
   "source": [
    "df.duplicated().sum()"
   ]
  },
  {
   "cell_type": "markdown",
   "id": "83f4ac81",
   "metadata": {},
   "source": [
    "**Посчитаем суммарные продажи во всех регионах и запишием их в отдельный столбец. `total_sales`**"
   ]
  },
  {
   "cell_type": "code",
   "execution_count": 19,
   "id": "ff5eaa00",
   "metadata": {
    "scrolled": true
   },
   "outputs": [
    {
     "data": {
      "text/html": [
       "<div>\n",
       "<style scoped>\n",
       "    .dataframe tbody tr th:only-of-type {\n",
       "        vertical-align: middle;\n",
       "    }\n",
       "\n",
       "    .dataframe tbody tr th {\n",
       "        vertical-align: top;\n",
       "    }\n",
       "\n",
       "    .dataframe thead th {\n",
       "        text-align: right;\n",
       "    }\n",
       "</style>\n",
       "<table border=\"1\" class=\"dataframe\">\n",
       "  <thead>\n",
       "    <tr style=\"text-align: right;\">\n",
       "      <th></th>\n",
       "      <th>name</th>\n",
       "      <th>platform</th>\n",
       "      <th>year_of_release</th>\n",
       "      <th>genre</th>\n",
       "      <th>na_sales</th>\n",
       "      <th>eu_sales</th>\n",
       "      <th>jp_sales</th>\n",
       "      <th>other_sales</th>\n",
       "      <th>critic_score</th>\n",
       "      <th>user_score</th>\n",
       "      <th>rating</th>\n",
       "      <th>total_sales</th>\n",
       "    </tr>\n",
       "  </thead>\n",
       "  <tbody>\n",
       "    <tr>\n",
       "      <th>0</th>\n",
       "      <td>wii sports</td>\n",
       "      <td>wii</td>\n",
       "      <td>2006</td>\n",
       "      <td>sports</td>\n",
       "      <td>41.36</td>\n",
       "      <td>28.96</td>\n",
       "      <td>3.77</td>\n",
       "      <td>8.45</td>\n",
       "      <td>76.0</td>\n",
       "      <td>8.0</td>\n",
       "      <td>e</td>\n",
       "      <td>82.54</td>\n",
       "    </tr>\n",
       "    <tr>\n",
       "      <th>1</th>\n",
       "      <td>super mario bros.</td>\n",
       "      <td>nes</td>\n",
       "      <td>1985</td>\n",
       "      <td>platform</td>\n",
       "      <td>29.08</td>\n",
       "      <td>3.58</td>\n",
       "      <td>6.81</td>\n",
       "      <td>0.77</td>\n",
       "      <td>NaN</td>\n",
       "      <td>NaN</td>\n",
       "      <td>tbd</td>\n",
       "      <td>40.24</td>\n",
       "    </tr>\n",
       "    <tr>\n",
       "      <th>2</th>\n",
       "      <td>mario kart wii</td>\n",
       "      <td>wii</td>\n",
       "      <td>2008</td>\n",
       "      <td>racing</td>\n",
       "      <td>15.68</td>\n",
       "      <td>12.76</td>\n",
       "      <td>3.79</td>\n",
       "      <td>3.29</td>\n",
       "      <td>82.0</td>\n",
       "      <td>8.3</td>\n",
       "      <td>e</td>\n",
       "      <td>35.52</td>\n",
       "    </tr>\n",
       "    <tr>\n",
       "      <th>3</th>\n",
       "      <td>wii sports resort</td>\n",
       "      <td>wii</td>\n",
       "      <td>2009</td>\n",
       "      <td>sports</td>\n",
       "      <td>15.61</td>\n",
       "      <td>10.93</td>\n",
       "      <td>3.28</td>\n",
       "      <td>2.95</td>\n",
       "      <td>80.0</td>\n",
       "      <td>8.0</td>\n",
       "      <td>e</td>\n",
       "      <td>32.77</td>\n",
       "    </tr>\n",
       "    <tr>\n",
       "      <th>4</th>\n",
       "      <td>pokemon red/pokemon blue</td>\n",
       "      <td>gb</td>\n",
       "      <td>1996</td>\n",
       "      <td>role-playing</td>\n",
       "      <td>11.27</td>\n",
       "      <td>8.89</td>\n",
       "      <td>10.22</td>\n",
       "      <td>1.00</td>\n",
       "      <td>NaN</td>\n",
       "      <td>NaN</td>\n",
       "      <td>tbd</td>\n",
       "      <td>31.38</td>\n",
       "    </tr>\n",
       "  </tbody>\n",
       "</table>\n",
       "</div>"
      ],
      "text/plain": [
       "                       name platform  year_of_release         genre  na_sales  \\\n",
       "0                wii sports      wii             2006        sports     41.36   \n",
       "1         super mario bros.      nes             1985      platform     29.08   \n",
       "2            mario kart wii      wii             2008        racing     15.68   \n",
       "3         wii sports resort      wii             2009        sports     15.61   \n",
       "4  pokemon red/pokemon blue       gb             1996  role-playing     11.27   \n",
       "\n",
       "   eu_sales  jp_sales  other_sales  critic_score  user_score rating  \\\n",
       "0     28.96      3.77         8.45          76.0         8.0      e   \n",
       "1      3.58      6.81         0.77           NaN         NaN    tbd   \n",
       "2     12.76      3.79         3.29          82.0         8.3      e   \n",
       "3     10.93      3.28         2.95          80.0         8.0      e   \n",
       "4      8.89     10.22         1.00           NaN         NaN    tbd   \n",
       "\n",
       "   total_sales  \n",
       "0        82.54  \n",
       "1        40.24  \n",
       "2        35.52  \n",
       "3        32.77  \n",
       "4        31.38  "
      ]
     },
     "execution_count": 19,
     "metadata": {},
     "output_type": "execute_result"
    }
   ],
   "source": [
    "df['total_sales'] = df['na_sales'] + df['eu_sales'] + df['jp_sales'] + df['other_sales']\n",
    "df.head()"
   ]
  },
  {
   "cell_type": "markdown",
   "id": "72ba3d5d",
   "metadata": {},
   "source": [
    "### Вывод\n",
    "\n",
    "Изменили типы столбцов, избавились от пропусков, где это было возможно, что касается оставшихся пропусков, для их устранения недостаточно данных, а удаление может привести к большой потери данных. Проверили датасет на дубликаты (отсутствуют) и добавили столбец `total_sales` - суммарная продажа во всех регионах.\n",
    "\n",
    "# Шаг 3.\n",
    "\n",
    "## Исследовательский анализ данных\n",
    "\n",
    "### Посмотрим, сколько игр выпускалось в разные годы"
   ]
  },
  {
   "cell_type": "code",
   "execution_count": 20,
   "id": "d015f51d",
   "metadata": {
    "scrolled": false
   },
   "outputs": [
    {
     "data": {
      "text/plain": [
       "count    16444.000000\n",
       "mean      2006.486256\n",
       "std          5.875525\n",
       "min       1980.000000\n",
       "25%       2003.000000\n",
       "50%       2007.000000\n",
       "75%       2010.000000\n",
       "max       2016.000000\n",
       "Name: year_of_release, dtype: float64"
      ]
     },
     "execution_count": 20,
     "metadata": {},
     "output_type": "execute_result"
    },
    {
     "data": {
      "image/png": "[encoded data removed]",
      "text/plain": [
       "<Figure size 720x432 with 1 Axes>"
      ]
     },
     "metadata": {
      "needs_background": "light"
     },
     "output_type": "display_data"
    }
   ],
   "source": [
    "count_of_year = df.pivot_table(index='year_of_release', values='name', aggfunc='count')\n",
    "plt.figure(figsize=(10,6))\n",
    "sbn.lineplot(data=count_of_year)\n",
    "sbn.set_style('darkgrid')\n",
    "plt.title(\"Количество игр по годам\")\n",
    "plt.legend(['Количество релизов'])\n",
    "df['year_of_release'].describe()"
   ]
  },
  {
   "cell_type": "code",
   "execution_count": 21,
   "id": "3f4dd5fa",
   "metadata": {},
   "outputs": [
    {
     "data": {
      "text/html": [
       "<div>\n",
       "<style scoped>\n",
       "    .dataframe tbody tr th:only-of-type {\n",
       "        vertical-align: middle;\n",
       "    }\n",
       "\n",
       "    .dataframe tbody tr th {\n",
       "        vertical-align: top;\n",
       "    }\n",
       "\n",
       "    .dataframe thead th {\n",
       "        text-align: right;\n",
       "    }\n",
       "</style>\n",
       "<table border=\"1\" class=\"dataframe\">\n",
       "  <thead>\n",
       "    <tr style=\"text-align: right;\">\n",
       "      <th></th>\n",
       "      <th>count</th>\n",
       "      <th>unique</th>\n",
       "      <th>top</th>\n",
       "      <th>freq</th>\n",
       "    </tr>\n",
       "    <tr>\n",
       "      <th>year_of_release</th>\n",
       "      <th></th>\n",
       "      <th></th>\n",
       "      <th></th>\n",
       "      <th></th>\n",
       "    </tr>\n",
       "  </thead>\n",
       "  <tbody>\n",
       "    <tr>\n",
       "      <th>1980</th>\n",
       "      <td>9</td>\n",
       "      <td>9</td>\n",
       "      <td>asteroids</td>\n",
       "      <td>1</td>\n",
       "    </tr>\n",
       "    <tr>\n",
       "      <th>1981</th>\n",
       "      <td>46</td>\n",
       "      <td>46</td>\n",
       "      <td>pitfall!</td>\n",
       "      <td>1</td>\n",
       "    </tr>\n",
       "    <tr>\n",
       "      <th>1982</th>\n",
       "      <td>36</td>\n",
       "      <td>36</td>\n",
       "      <td>pac-man</td>\n",
       "      <td>1</td>\n",
       "    </tr>\n",
       "    <tr>\n",
       "      <th>1983</th>\n",
       "      <td>17</td>\n",
       "      <td>17</td>\n",
       "      <td>baseball</td>\n",
       "      <td>1</td>\n",
       "    </tr>\n",
       "    <tr>\n",
       "      <th>1984</th>\n",
       "      <td>14</td>\n",
       "      <td>14</td>\n",
       "      <td>duck hunt</td>\n",
       "      <td>1</td>\n",
       "    </tr>\n",
       "    <tr>\n",
       "      <th>1985</th>\n",
       "      <td>14</td>\n",
       "      <td>14</td>\n",
       "      <td>super mario bros.</td>\n",
       "      <td>1</td>\n",
       "    </tr>\n",
       "    <tr>\n",
       "      <th>1986</th>\n",
       "      <td>21</td>\n",
       "      <td>21</td>\n",
       "      <td>the legend of zelda</td>\n",
       "      <td>1</td>\n",
       "    </tr>\n",
       "    <tr>\n",
       "      <th>1987</th>\n",
       "      <td>16</td>\n",
       "      <td>16</td>\n",
       "      <td>zelda ii: the adventure of link</td>\n",
       "      <td>1</td>\n",
       "    </tr>\n",
       "    <tr>\n",
       "      <th>1988</th>\n",
       "      <td>15</td>\n",
       "      <td>15</td>\n",
       "      <td>super mario bros. 3</td>\n",
       "      <td>1</td>\n",
       "    </tr>\n",
       "    <tr>\n",
       "      <th>1989</th>\n",
       "      <td>17</td>\n",
       "      <td>17</td>\n",
       "      <td>tetris</td>\n",
       "      <td>1</td>\n",
       "    </tr>\n",
       "    <tr>\n",
       "      <th>1990</th>\n",
       "      <td>16</td>\n",
       "      <td>16</td>\n",
       "      <td>super mario world</td>\n",
       "      <td>1</td>\n",
       "    </tr>\n",
       "    <tr>\n",
       "      <th>1991</th>\n",
       "      <td>41</td>\n",
       "      <td>40</td>\n",
       "      <td>yoshi</td>\n",
       "      <td>2</td>\n",
       "    </tr>\n",
       "    <tr>\n",
       "      <th>1992</th>\n",
       "      <td>43</td>\n",
       "      <td>41</td>\n",
       "      <td>teenage mutant ninja turtles: tournament fighters</td>\n",
       "      <td>2</td>\n",
       "    </tr>\n",
       "    <tr>\n",
       "      <th>1993</th>\n",
       "      <td>60</td>\n",
       "      <td>59</td>\n",
       "      <td>super street fighter ii</td>\n",
       "      <td>2</td>\n",
       "    </tr>\n",
       "    <tr>\n",
       "      <th>1994</th>\n",
       "      <td>121</td>\n",
       "      <td>117</td>\n",
       "      <td>theme park</td>\n",
       "      <td>2</td>\n",
       "    </tr>\n",
       "    <tr>\n",
       "      <th>1995</th>\n",
       "      <td>219</td>\n",
       "      <td>215</td>\n",
       "      <td>detana twinbee yahho! deluxe pack</td>\n",
       "      <td>2</td>\n",
       "    </tr>\n",
       "    <tr>\n",
       "      <th>1996</th>\n",
       "      <td>263</td>\n",
       "      <td>258</td>\n",
       "      <td>tokimeki memorial: taisen pazurudama</td>\n",
       "      <td>2</td>\n",
       "    </tr>\n",
       "    <tr>\n",
       "      <th>1997</th>\n",
       "      <td>289</td>\n",
       "      <td>282</td>\n",
       "      <td>mortal kombat mythologies: sub-zero</td>\n",
       "      <td>2</td>\n",
       "    </tr>\n",
       "    <tr>\n",
       "      <th>1998</th>\n",
       "      <td>379</td>\n",
       "      <td>364</td>\n",
       "      <td>the king of fighters '97</td>\n",
       "      <td>2</td>\n",
       "    </tr>\n",
       "    <tr>\n",
       "      <th>1999</th>\n",
       "      <td>338</td>\n",
       "      <td>326</td>\n",
       "      <td>hot wheels turbo racing</td>\n",
       "      <td>2</td>\n",
       "    </tr>\n",
       "    <tr>\n",
       "      <th>2000</th>\n",
       "      <td>350</td>\n",
       "      <td>325</td>\n",
       "      <td>madden nfl 2001</td>\n",
       "      <td>3</td>\n",
       "    </tr>\n",
       "    <tr>\n",
       "      <th>2001</th>\n",
       "      <td>482</td>\n",
       "      <td>428</td>\n",
       "      <td>madden nfl 2002</td>\n",
       "      <td>5</td>\n",
       "    </tr>\n",
       "    <tr>\n",
       "      <th>2002</th>\n",
       "      <td>829</td>\n",
       "      <td>631</td>\n",
       "      <td>harry potter and the chamber of secrets</td>\n",
       "      <td>6</td>\n",
       "    </tr>\n",
       "    <tr>\n",
       "      <th>2003</th>\n",
       "      <td>775</td>\n",
       "      <td>546</td>\n",
       "      <td>need for speed underground</td>\n",
       "      <td>5</td>\n",
       "    </tr>\n",
       "    <tr>\n",
       "      <th>2004</th>\n",
       "      <td>762</td>\n",
       "      <td>550</td>\n",
       "      <td>spider-man 2</td>\n",
       "      <td>5</td>\n",
       "    </tr>\n",
       "    <tr>\n",
       "      <th>2005</th>\n",
       "      <td>939</td>\n",
       "      <td>657</td>\n",
       "      <td>need for speed: most wanted</td>\n",
       "      <td>7</td>\n",
       "    </tr>\n",
       "    <tr>\n",
       "      <th>2006</th>\n",
       "      <td>1006</td>\n",
       "      <td>773</td>\n",
       "      <td>cars</td>\n",
       "      <td>8</td>\n",
       "    </tr>\n",
       "    <tr>\n",
       "      <th>2007</th>\n",
       "      <td>1197</td>\n",
       "      <td>884</td>\n",
       "      <td>ratatouille</td>\n",
       "      <td>9</td>\n",
       "    </tr>\n",
       "    <tr>\n",
       "      <th>2008</th>\n",
       "      <td>1427</td>\n",
       "      <td>1039</td>\n",
       "      <td>wall-e</td>\n",
       "      <td>7</td>\n",
       "    </tr>\n",
       "    <tr>\n",
       "      <th>2009</th>\n",
       "      <td>1426</td>\n",
       "      <td>1001</td>\n",
       "      <td>harry potter and the half-blood prince</td>\n",
       "      <td>7</td>\n",
       "    </tr>\n",
       "    <tr>\n",
       "      <th>2010</th>\n",
       "      <td>1255</td>\n",
       "      <td>900</td>\n",
       "      <td>fifa soccer 11</td>\n",
       "      <td>7</td>\n",
       "    </tr>\n",
       "    <tr>\n",
       "      <th>2011</th>\n",
       "      <td>1136</td>\n",
       "      <td>779</td>\n",
       "      <td>major league baseball 2k11</td>\n",
       "      <td>7</td>\n",
       "    </tr>\n",
       "    <tr>\n",
       "      <th>2012</th>\n",
       "      <td>653</td>\n",
       "      <td>446</td>\n",
       "      <td>fifa soccer 13</td>\n",
       "      <td>8</td>\n",
       "    </tr>\n",
       "    <tr>\n",
       "      <th>2013</th>\n",
       "      <td>544</td>\n",
       "      <td>335</td>\n",
       "      <td>lego marvel super heroes</td>\n",
       "      <td>9</td>\n",
       "    </tr>\n",
       "    <tr>\n",
       "      <th>2014</th>\n",
       "      <td>581</td>\n",
       "      <td>319</td>\n",
       "      <td>the lego movie videogame</td>\n",
       "      <td>8</td>\n",
       "    </tr>\n",
       "    <tr>\n",
       "      <th>2015</th>\n",
       "      <td>606</td>\n",
       "      <td>362</td>\n",
       "      <td>lego jurassic world</td>\n",
       "      <td>8</td>\n",
       "    </tr>\n",
       "    <tr>\n",
       "      <th>2016</th>\n",
       "      <td>502</td>\n",
       "      <td>297</td>\n",
       "      <td>lego marvel's avengers</td>\n",
       "      <td>7</td>\n",
       "    </tr>\n",
       "  </tbody>\n",
       "</table>\n",
       "</div>"
      ],
      "text/plain": [
       "                count unique  \\\n",
       "year_of_release                \n",
       "1980                9      9   \n",
       "1981               46     46   \n",
       "1982               36     36   \n",
       "1983               17     17   \n",
       "1984               14     14   \n",
       "1985               14     14   \n",
       "1986               21     21   \n",
       "1987               16     16   \n",
       "1988               15     15   \n",
       "1989               17     17   \n",
       "1990               16     16   \n",
       "1991               41     40   \n",
       "1992               43     41   \n",
       "1993               60     59   \n",
       "1994              121    117   \n",
       "1995              219    215   \n",
       "1996              263    258   \n",
       "1997              289    282   \n",
       "1998              379    364   \n",
       "1999              338    326   \n",
       "2000              350    325   \n",
       "2001              482    428   \n",
       "2002              829    631   \n",
       "2003              775    546   \n",
       "2004              762    550   \n",
       "2005              939    657   \n",
       "2006             1006    773   \n",
       "2007             1197    884   \n",
       "2008             1427   1039   \n",
       "2009             1426   1001   \n",
       "2010             1255    900   \n",
       "2011             1136    779   \n",
       "2012              653    446   \n",
       "2013              544    335   \n",
       "2014              581    319   \n",
       "2015              606    362   \n",
       "2016              502    297   \n",
       "\n",
       "                                                               top freq  \n",
       "year_of_release                                                          \n",
       "1980                                                     asteroids    1  \n",
       "1981                                                      pitfall!    1  \n",
       "1982                                                       pac-man    1  \n",
       "1983                                                      baseball    1  \n",
       "1984                                                     duck hunt    1  \n",
       "1985                                             super mario bros.    1  \n",
       "1986                                           the legend of zelda    1  \n",
       "1987                               zelda ii: the adventure of link    1  \n",
       "1988                                           super mario bros. 3    1  \n",
       "1989                                                        tetris    1  \n",
       "1990                                             super mario world    1  \n",
       "1991                                                         yoshi    2  \n",
       "1992             teenage mutant ninja turtles: tournament fighters    2  \n",
       "1993                                       super street fighter ii    2  \n",
       "1994                                                    theme park    2  \n",
       "1995                             detana twinbee yahho! deluxe pack    2  \n",
       "1996                          tokimeki memorial: taisen pazurudama    2  \n",
       "1997                           mortal kombat mythologies: sub-zero    2  \n",
       "1998                                      the king of fighters '97    2  \n",
       "1999                                       hot wheels turbo racing    2  \n",
       "2000                                               madden nfl 2001    3  \n",
       "2001                                               madden nfl 2002    5  \n",
       "2002                       harry potter and the chamber of secrets    6  \n",
       "2003                                    need for speed underground    5  \n",
       "2004                                                  spider-man 2    5  \n",
       "2005                                   need for speed: most wanted    7  \n",
       "2006                                                          cars    8  \n",
       "2007                                                   ratatouille    9  \n",
       "2008                                                        wall-e    7  \n",
       "2009                        harry potter and the half-blood prince    7  \n",
       "2010                                                fifa soccer 11    7  \n",
       "2011                                    major league baseball 2k11    7  \n",
       "2012                                                fifa soccer 13    8  \n",
       "2013                                      lego marvel super heroes    9  \n",
       "2014                                      the lego movie videogame    8  \n",
       "2015                                           lego jurassic world    8  \n",
       "2016                                        lego marvel's avengers    7  "
      ]
     },
     "execution_count": 21,
     "metadata": {},
     "output_type": "execute_result"
    }
   ],
   "source": [
    "sample11 = df.groupby('year_of_release') \n",
    "sample11['name'].describe()"
   ]
  },
  {
   "cell_type": "markdown",
   "id": "88739c6a",
   "metadata": {},
   "source": [
    "Как мы видим по графику, начиная с `1990` года количество выпущенных игр начало значительно увеличиваться, пик выпущенных игр пришелся на `2007-2010` года. Начиная с `2000` года количество выпущенных игр в год не опускалось ниже `400` игр в год. Увеличение релизов еще связано с тем, что увеличивалось число различных платформ и некоторые игры выпускались сразу на нескольких платформах.\n",
    "\n",
    "### Посмотрим, как менялись продажи по платформам. Выберите платформы с наибольшими суммарными продажами и постройте распределение по годам. За какой характерный срок появляются новые и исчезают старые платформы?"
   ]
  },
  {
   "cell_type": "code",
   "execution_count": 22,
   "id": "8956ba12",
   "metadata": {},
   "outputs": [],
   "source": [
    "platforms_leaders = df.groupby('platform')['total_sales'].sum().sort_values(ascending=False)"
   ]
  },
  {
   "cell_type": "code",
   "execution_count": 23,
   "id": "2d5c69bf",
   "metadata": {},
   "outputs": [
    {
     "data": {
      "text/plain": [
       "count      31.000000\n",
       "mean      284.334516\n",
       "std       343.954144\n",
       "min         0.030000\n",
       "25%        22.150000\n",
       "50%       200.040000\n",
       "75%       301.205000\n",
       "max      1233.560000\n",
       "Name: total_sales, dtype: float64"
      ]
     },
     "execution_count": 23,
     "metadata": {},
     "output_type": "execute_result"
    },
    {
     "data": {
      "image/png": "[encoded data removed]",
      "text/plain": [
       "<Figure size 720x432 with 1 Axes>"
      ]
     },
     "metadata": {},
     "output_type": "display_data"
    }
   ],
   "source": [
    "platforms_leaders.plot(kind='bar', grid=True, figsize=(10,6))\n",
    "platforms_leaders.describe()"
   ]
  },
  {
   "cell_type": "markdown",
   "id": "d0419cd4",
   "metadata": {},
   "source": [
    "**Возьмем топ6 самых выделяющихся платформ и создатим список с их названиями. Посмотрим распределение по годам для каждой платформы**"
   ]
  },
  {
   "cell_type": "code",
   "execution_count": 24,
   "id": "e9c2fb7b",
   "metadata": {},
   "outputs": [
    {
     "data": {
      "text/plain": [
       "['ps2', 'x360', 'ps3', 'wii', 'ds', 'ps']"
      ]
     },
     "execution_count": 24,
     "metadata": {},
     "output_type": "execute_result"
    }
   ],
   "source": [
    "top_platforms_list = ['ps2', 'x360', 'ps3', 'wii', 'ds', 'ps']\n",
    "top_platforms_list"
   ]
  },
  {
   "cell_type": "code",
   "execution_count": 25,
   "id": "81d6fd5a",
   "metadata": {
    "scrolled": false
   },
   "outputs": [
    {
     "data": {
      "image/png": "[encoded data removed]",
      "text/plain": [
       "<Figure size 720x288 with 1 Axes>"
      ]
     },
     "metadata": {},
     "output_type": "display_data"
    },
    {
     "data": {
      "image/png": "[encoded data removed]",
      "text/plain": [
       "<Figure size 720x288 with 1 Axes>"
      ]
     },
     "metadata": {},
     "output_type": "display_data"
    },
    {
     "data": {
      "image/png": "[encoded data removed]",
      "text/plain": [
       "<Figure size 720x288 with 1 Axes>"
      ]
     },
     "metadata": {},
     "output_type": "display_data"
    },
    {
     "data": {
      "image/png": "[encoded data removed]",
      "text/plain": [
       "<Figure size 720x288 with 1 Axes>"
      ]
     },
     "metadata": {},
     "output_type": "display_data"
    },
    {
     "data": {
      "image/png": "[encoded data removed]",
      "text/plain": [
       "<Figure size 720x288 with 1 Axes>"
      ]
     },
     "metadata": {},
     "output_type": "display_data"
    },
    {
     "data": {
      "image/png": "[encoded data removed]",
      "text/plain": [
       "<Figure size 720x288 with 1 Axes>"
      ]
     },
     "metadata": {},
     "output_type": "display_data"
    }
   ],
   "source": [
    "for platform in top_platforms_list:\n",
    "    df[df['platform'] == platform].pivot_table(index='year_of_release', values='total_sales', aggfunc='sum').plot(\n",
    "        kind='bar', figsize=(10,4))\n",
    "    plt.title(platform)"
   ]
  },
  {
   "cell_type": "markdown",
   "id": "5a55eafb",
   "metadata": {},
   "source": [
    "**Взглянув на диаграммы распределения, можно сделать вывод, что в среднем платформы популярны 8-10 лет.\n",
    "На смену одной платформе приходит другая, допустим в начале 2000х `PS` теряет популярность, потому что производитель `Sony` выпускает `PS2` и так далее и по сей день.**\n",
    "\n",
    "---------------------------------------------\n",
    "\n",
    "### Возьмем период где данные наиболее волатильны это с 2014 по 2016 год, и мы увидим в данных более менее современные платформы которые будут отражать текущую действительность"
   ]
  },
  {
   "cell_type": "code",
   "execution_count": 26,
   "id": "d2d186c2",
   "metadata": {
    "scrolled": false
   },
   "outputs": [
    {
     "data": {
      "text/html": [
       "<div>\n",
       "<style scoped>\n",
       "    .dataframe tbody tr th:only-of-type {\n",
       "        vertical-align: middle;\n",
       "    }\n",
       "\n",
       "    .dataframe tbody tr th {\n",
       "        vertical-align: top;\n",
       "    }\n",
       "\n",
       "    .dataframe thead th {\n",
       "        text-align: right;\n",
       "    }\n",
       "</style>\n",
       "<table border=\"1\" class=\"dataframe\">\n",
       "  <thead>\n",
       "    <tr style=\"text-align: right;\">\n",
       "      <th></th>\n",
       "      <th>index</th>\n",
       "      <th>name</th>\n",
       "      <th>platform</th>\n",
       "      <th>year_of_release</th>\n",
       "      <th>genre</th>\n",
       "      <th>na_sales</th>\n",
       "      <th>eu_sales</th>\n",
       "      <th>jp_sales</th>\n",
       "      <th>other_sales</th>\n",
       "      <th>critic_score</th>\n",
       "      <th>user_score</th>\n",
       "      <th>rating</th>\n",
       "      <th>total_sales</th>\n",
       "    </tr>\n",
       "  </thead>\n",
       "  <tbody>\n",
       "    <tr>\n",
       "      <th>0</th>\n",
       "      <td>31</td>\n",
       "      <td>call of duty: black ops 3</td>\n",
       "      <td>ps4</td>\n",
       "      <td>2015</td>\n",
       "      <td>shooter</td>\n",
       "      <td>6.03</td>\n",
       "      <td>5.86</td>\n",
       "      <td>0.36</td>\n",
       "      <td>2.38</td>\n",
       "      <td>NaN</td>\n",
       "      <td>NaN</td>\n",
       "      <td>tbd</td>\n",
       "      <td>14.63</td>\n",
       "    </tr>\n",
       "    <tr>\n",
       "      <th>1</th>\n",
       "      <td>42</td>\n",
       "      <td>grand theft auto v</td>\n",
       "      <td>ps4</td>\n",
       "      <td>2014</td>\n",
       "      <td>action</td>\n",
       "      <td>3.96</td>\n",
       "      <td>6.31</td>\n",
       "      <td>0.38</td>\n",
       "      <td>1.97</td>\n",
       "      <td>97.0</td>\n",
       "      <td>8.3</td>\n",
       "      <td>m</td>\n",
       "      <td>12.62</td>\n",
       "    </tr>\n",
       "    <tr>\n",
       "      <th>2</th>\n",
       "      <td>47</td>\n",
       "      <td>pokemon omega ruby/pokemon alpha sapphire</td>\n",
       "      <td>3ds</td>\n",
       "      <td>2014</td>\n",
       "      <td>role-playing</td>\n",
       "      <td>4.35</td>\n",
       "      <td>3.49</td>\n",
       "      <td>3.10</td>\n",
       "      <td>0.74</td>\n",
       "      <td>NaN</td>\n",
       "      <td>NaN</td>\n",
       "      <td>tbd</td>\n",
       "      <td>11.68</td>\n",
       "    </tr>\n",
       "    <tr>\n",
       "      <th>3</th>\n",
       "      <td>77</td>\n",
       "      <td>fifa 16</td>\n",
       "      <td>ps4</td>\n",
       "      <td>2015</td>\n",
       "      <td>sports</td>\n",
       "      <td>1.12</td>\n",
       "      <td>6.12</td>\n",
       "      <td>0.06</td>\n",
       "      <td>1.28</td>\n",
       "      <td>82.0</td>\n",
       "      <td>4.3</td>\n",
       "      <td>e</td>\n",
       "      <td>8.58</td>\n",
       "    </tr>\n",
       "    <tr>\n",
       "      <th>4</th>\n",
       "      <td>87</td>\n",
       "      <td>star wars battlefront (2015)</td>\n",
       "      <td>ps4</td>\n",
       "      <td>2015</td>\n",
       "      <td>shooter</td>\n",
       "      <td>2.99</td>\n",
       "      <td>3.49</td>\n",
       "      <td>0.22</td>\n",
       "      <td>1.28</td>\n",
       "      <td>NaN</td>\n",
       "      <td>NaN</td>\n",
       "      <td>tbd</td>\n",
       "      <td>7.98</td>\n",
       "    </tr>\n",
       "    <tr>\n",
       "      <th>...</th>\n",
       "      <td>...</td>\n",
       "      <td>...</td>\n",
       "      <td>...</td>\n",
       "      <td>...</td>\n",
       "      <td>...</td>\n",
       "      <td>...</td>\n",
       "      <td>...</td>\n",
       "      <td>...</td>\n",
       "      <td>...</td>\n",
       "      <td>...</td>\n",
       "      <td>...</td>\n",
       "      <td>...</td>\n",
       "      <td>...</td>\n",
       "    </tr>\n",
       "    <tr>\n",
       "      <th>1684</th>\n",
       "      <td>16703</td>\n",
       "      <td>strawberry nauts</td>\n",
       "      <td>psv</td>\n",
       "      <td>2016</td>\n",
       "      <td>adventure</td>\n",
       "      <td>0.00</td>\n",
       "      <td>0.00</td>\n",
       "      <td>0.01</td>\n",
       "      <td>0.00</td>\n",
       "      <td>NaN</td>\n",
       "      <td>NaN</td>\n",
       "      <td>tbd</td>\n",
       "      <td>0.01</td>\n",
       "    </tr>\n",
       "    <tr>\n",
       "      <th>1685</th>\n",
       "      <td>16707</td>\n",
       "      <td>aiyoku no eustia</td>\n",
       "      <td>psv</td>\n",
       "      <td>2014</td>\n",
       "      <td>misc</td>\n",
       "      <td>0.00</td>\n",
       "      <td>0.00</td>\n",
       "      <td>0.01</td>\n",
       "      <td>0.00</td>\n",
       "      <td>NaN</td>\n",
       "      <td>NaN</td>\n",
       "      <td>tbd</td>\n",
       "      <td>0.01</td>\n",
       "    </tr>\n",
       "    <tr>\n",
       "      <th>1686</th>\n",
       "      <td>16710</td>\n",
       "      <td>samurai warriors: sanada maru</td>\n",
       "      <td>ps3</td>\n",
       "      <td>2016</td>\n",
       "      <td>action</td>\n",
       "      <td>0.00</td>\n",
       "      <td>0.00</td>\n",
       "      <td>0.01</td>\n",
       "      <td>0.00</td>\n",
       "      <td>NaN</td>\n",
       "      <td>NaN</td>\n",
       "      <td>tbd</td>\n",
       "      <td>0.01</td>\n",
       "    </tr>\n",
       "    <tr>\n",
       "      <th>1687</th>\n",
       "      <td>16712</td>\n",
       "      <td>haitaka no psychedelica</td>\n",
       "      <td>psv</td>\n",
       "      <td>2016</td>\n",
       "      <td>adventure</td>\n",
       "      <td>0.00</td>\n",
       "      <td>0.00</td>\n",
       "      <td>0.01</td>\n",
       "      <td>0.00</td>\n",
       "      <td>NaN</td>\n",
       "      <td>NaN</td>\n",
       "      <td>tbd</td>\n",
       "      <td>0.01</td>\n",
       "    </tr>\n",
       "    <tr>\n",
       "      <th>1688</th>\n",
       "      <td>16714</td>\n",
       "      <td>winning post 8 2016</td>\n",
       "      <td>psv</td>\n",
       "      <td>2016</td>\n",
       "      <td>simulation</td>\n",
       "      <td>0.00</td>\n",
       "      <td>0.00</td>\n",
       "      <td>0.01</td>\n",
       "      <td>0.00</td>\n",
       "      <td>NaN</td>\n",
       "      <td>NaN</td>\n",
       "      <td>tbd</td>\n",
       "      <td>0.01</td>\n",
       "    </tr>\n",
       "  </tbody>\n",
       "</table>\n",
       "<p>1689 rows × 13 columns</p>\n",
       "</div>"
      ],
      "text/plain": [
       "      index                                       name platform  \\\n",
       "0        31                  call of duty: black ops 3      ps4   \n",
       "1        42                         grand theft auto v      ps4   \n",
       "2        47  pokemon omega ruby/pokemon alpha sapphire      3ds   \n",
       "3        77                                    fifa 16      ps4   \n",
       "4        87               star wars battlefront (2015)      ps4   \n",
       "...     ...                                        ...      ...   \n",
       "1684  16703                           strawberry nauts      psv   \n",
       "1685  16707                           aiyoku no eustia      psv   \n",
       "1686  16710              samurai warriors: sanada maru      ps3   \n",
       "1687  16712                    haitaka no psychedelica      psv   \n",
       "1688  16714                        winning post 8 2016      psv   \n",
       "\n",
       "      year_of_release         genre  na_sales  eu_sales  jp_sales  \\\n",
       "0                2015       shooter      6.03      5.86      0.36   \n",
       "1                2014        action      3.96      6.31      0.38   \n",
       "2                2014  role-playing      4.35      3.49      3.10   \n",
       "3                2015        sports      1.12      6.12      0.06   \n",
       "4                2015       shooter      2.99      3.49      0.22   \n",
       "...               ...           ...       ...       ...       ...   \n",
       "1684             2016     adventure      0.00      0.00      0.01   \n",
       "1685             2014          misc      0.00      0.00      0.01   \n",
       "1686             2016        action      0.00      0.00      0.01   \n",
       "1687             2016     adventure      0.00      0.00      0.01   \n",
       "1688             2016    simulation      0.00      0.00      0.01   \n",
       "\n",
       "      other_sales  critic_score  user_score rating  total_sales  \n",
       "0            2.38           NaN         NaN    tbd        14.63  \n",
       "1            1.97          97.0         8.3      m        12.62  \n",
       "2            0.74           NaN         NaN    tbd        11.68  \n",
       "3            1.28          82.0         4.3      e         8.58  \n",
       "4            1.28           NaN         NaN    tbd         7.98  \n",
       "...           ...           ...         ...    ...          ...  \n",
       "1684         0.00           NaN         NaN    tbd         0.01  \n",
       "1685         0.00           NaN         NaN    tbd         0.01  \n",
       "1686         0.00           NaN         NaN    tbd         0.01  \n",
       "1687         0.00           NaN         NaN    tbd         0.01  \n",
       "1688         0.00           NaN         NaN    tbd         0.01  \n",
       "\n",
       "[1689 rows x 13 columns]"
      ]
     },
     "execution_count": 26,
     "metadata": {},
     "output_type": "execute_result"
    }
   ],
   "source": [
    "actual_period_df = df[df['year_of_release'] >= 2014]\n",
    "actual_period_df.reset_index()"
   ]
  },
  {
   "cell_type": "markdown",
   "id": "a6ebbdab",
   "metadata": {},
   "source": [
    "### Посмотрим какие платформы лидируют по продажам в актуальном периоде, растут или падают?"
   ]
  },
  {
   "cell_type": "code",
   "execution_count": 27,
   "id": "67ef3813",
   "metadata": {},
   "outputs": [],
   "source": [
    "actual_platforms_leaders = actual_period_df.groupby('platform')['total_sales'].sum().sort_values(ascending=False)"
   ]
  },
  {
   "cell_type": "code",
   "execution_count": 28,
   "id": "1e6dbdc0",
   "metadata": {},
   "outputs": [
    {
     "data": {
      "text/plain": [
       "count     10.000000\n",
       "mean      72.945000\n",
       "std       86.355404\n",
       "min        0.360000\n",
       "25%       23.562500\n",
       "50%       45.600000\n",
       "75%       82.055000\n",
       "max      288.150000\n",
       "Name: total_sales, dtype: float64"
      ]
     },
     "execution_count": 28,
     "metadata": {},
     "output_type": "execute_result"
    },
    {
     "data": {
      "image/png": "[encoded data removed]",
      "text/plain": [
       "<Figure size 720x432 with 1 Axes>"
      ]
     },
     "metadata": {},
     "output_type": "display_data"
    }
   ],
   "source": [
    "actual_platforms_leaders.plot(kind='bar', grid=True, figsize=(10,6))\n",
    "actual_platforms_leaders.describe()"
   ]
  },
  {
   "cell_type": "code",
   "execution_count": 29,
   "id": "c8c09318",
   "metadata": {},
   "outputs": [
    {
     "data": {
      "text/plain": [
       "['ps4', 'xone', '3ds', 'ps3', 'x360']"
      ]
     },
     "execution_count": 29,
     "metadata": {},
     "output_type": "execute_result"
    }
   ],
   "source": [
    "actual_top_platforms_list = ['ps4', 'xone', '3ds', 'ps3', 'x360']\n",
    "actual_top_platforms_list"
   ]
  },
  {
   "cell_type": "code",
   "execution_count": 30,
   "id": "5c97e463",
   "metadata": {
    "scrolled": false
   },
   "outputs": [
    {
     "data": {
      "image/png": "[encoded data removed]",
      "text/plain": [
       "<Figure size 720x288 with 1 Axes>"
      ]
     },
     "metadata": {},
     "output_type": "display_data"
    },
    {
     "data": {
      "image/png": "[encoded data removed]",
      "text/plain": [
       "<Figure size 720x288 with 1 Axes>"
      ]
     },
     "metadata": {},
     "output_type": "display_data"
    },
    {
     "data": {
      "image/png": "[encoded data removed]",
      "text/plain": [
       "<Figure size 720x288 with 1 Axes>"
      ]
     },
     "metadata": {},
     "output_type": "display_data"
    },
    {
     "data": {
      "image/png": "[encoded data removed]",
      "text/plain": [
       "<Figure size 720x288 with 1 Axes>"
      ]
     },
     "metadata": {},
     "output_type": "display_data"
    },
    {
     "data": {
      "image/png": "[encoded data removed]",
      "text/plain": [
       "<Figure size 720x288 with 1 Axes>"
      ]
     },
     "metadata": {},
     "output_type": "display_data"
    }
   ],
   "source": [
    "for platform in actual_top_platforms_list:\n",
    "    actual_period_df[actual_period_df['platform'] == platform].pivot_table(index='year_of_release', values='total_sales', aggfunc='sum').plot(\n",
    "        kind='bar', figsize=(10,4))\n",
    "    plt.title(platform)"
   ]
  },
  {
   "cell_type": "markdown",
   "id": "732b3c22",
   "metadata": {},
   "source": [
    "**Взглянув на диаграммы распределения, можно сделать вывод, что среди платформ уверенно лидирует `Ps4`, так же видим, как в период с 2014-2015 год на смену старым версиям приставок `x360` и `ps3` пришло новое поколение приставок `Ps4` и `xone`. Данные за 2016 год немного искажают видимость, потому что в базе данных представлен не весь год.**"
   ]
  },
  {
   "cell_type": "markdown",
   "id": "0bc9b686",
   "metadata": {},
   "source": [
    "### Построим график «ящик с усами» по глобальным продажам игр в разбивке по платформам."
   ]
  },
  {
   "cell_type": "code",
   "execution_count": 31,
   "id": "22caa1c6",
   "metadata": {},
   "outputs": [],
   "source": [
    "list_of_top_6 = ['ps4','xone','pc','wiiu','3ds', 'psv']\n",
    "top_6_platforms = actual_period_df[actual_period_df['platform'].isin(['ps4','xone','pc','wiiu','3ds', 'psv'])]\n"
   ]
  },
  {
   "cell_type": "code",
   "execution_count": 32,
   "id": "c26d123f",
   "metadata": {},
   "outputs": [
    {
     "data": {
      "text/plain": [
       "count    1335.000000\n",
       "mean        0.455146\n",
       "std         1.142703\n",
       "min         0.010000\n",
       "25%         0.030000\n",
       "50%         0.090000\n",
       "75%         0.340000\n",
       "max        14.630000\n",
       "Name: total_sales, dtype: float64"
      ]
     },
     "execution_count": 32,
     "metadata": {},
     "output_type": "execute_result"
    }
   ],
   "source": [
    "top_6_platforms['total_sales'].describe()"
   ]
  },
  {
   "cell_type": "code",
   "execution_count": 33,
   "id": "5df9ff7c",
   "metadata": {},
   "outputs": [
    {
     "data": {
      "text/html": [
       "<div>\n",
       "<style scoped>\n",
       "    .dataframe tbody tr th:only-of-type {\n",
       "        vertical-align: middle;\n",
       "    }\n",
       "\n",
       "    .dataframe tbody tr th {\n",
       "        vertical-align: top;\n",
       "    }\n",
       "\n",
       "    .dataframe thead th {\n",
       "        text-align: right;\n",
       "    }\n",
       "</style>\n",
       "<table border=\"1\" class=\"dataframe\">\n",
       "  <thead>\n",
       "    <tr style=\"text-align: right;\">\n",
       "      <th></th>\n",
       "      <th>count</th>\n",
       "      <th>mean</th>\n",
       "      <th>std</th>\n",
       "      <th>min</th>\n",
       "      <th>25%</th>\n",
       "      <th>50%</th>\n",
       "      <th>75%</th>\n",
       "      <th>max</th>\n",
       "    </tr>\n",
       "    <tr>\n",
       "      <th>platform</th>\n",
       "      <th></th>\n",
       "      <th></th>\n",
       "      <th></th>\n",
       "      <th></th>\n",
       "      <th></th>\n",
       "      <th></th>\n",
       "      <th></th>\n",
       "      <th></th>\n",
       "    </tr>\n",
       "  </thead>\n",
       "  <tbody>\n",
       "    <tr>\n",
       "      <th>3ds</th>\n",
       "      <td>212.0</td>\n",
       "      <td>0.408868</td>\n",
       "      <td>1.188368</td>\n",
       "      <td>0.01</td>\n",
       "      <td>0.0300</td>\n",
       "      <td>0.090</td>\n",
       "      <td>0.2500</td>\n",
       "      <td>11.68</td>\n",
       "    </tr>\n",
       "    <tr>\n",
       "      <th>pc</th>\n",
       "      <td>151.0</td>\n",
       "      <td>0.179139</td>\n",
       "      <td>0.329359</td>\n",
       "      <td>0.01</td>\n",
       "      <td>0.0200</td>\n",
       "      <td>0.060</td>\n",
       "      <td>0.2000</td>\n",
       "      <td>3.05</td>\n",
       "    </tr>\n",
       "    <tr>\n",
       "      <th>ps4</th>\n",
       "      <td>376.0</td>\n",
       "      <td>0.766356</td>\n",
       "      <td>1.614969</td>\n",
       "      <td>0.01</td>\n",
       "      <td>0.0575</td>\n",
       "      <td>0.185</td>\n",
       "      <td>0.6900</td>\n",
       "      <td>14.63</td>\n",
       "    </tr>\n",
       "    <tr>\n",
       "      <th>psv</th>\n",
       "      <td>295.0</td>\n",
       "      <td>0.075932</td>\n",
       "      <td>0.141591</td>\n",
       "      <td>0.01</td>\n",
       "      <td>0.0200</td>\n",
       "      <td>0.040</td>\n",
       "      <td>0.0900</td>\n",
       "      <td>1.96</td>\n",
       "    </tr>\n",
       "    <tr>\n",
       "      <th>wiiu</th>\n",
       "      <td>73.0</td>\n",
       "      <td>0.588767</td>\n",
       "      <td>1.161467</td>\n",
       "      <td>0.01</td>\n",
       "      <td>0.0500</td>\n",
       "      <td>0.190</td>\n",
       "      <td>0.5700</td>\n",
       "      <td>7.09</td>\n",
       "    </tr>\n",
       "    <tr>\n",
       "      <th>xone</th>\n",
       "      <td>228.0</td>\n",
       "      <td>0.615614</td>\n",
       "      <td>1.046513</td>\n",
       "      <td>0.01</td>\n",
       "      <td>0.0500</td>\n",
       "      <td>0.205</td>\n",
       "      <td>0.6325</td>\n",
       "      <td>7.39</td>\n",
       "    </tr>\n",
       "  </tbody>\n",
       "</table>\n",
       "</div>"
      ],
      "text/plain": [
       "          count      mean       std   min     25%    50%     75%    max\n",
       "platform                                                               \n",
       "3ds       212.0  0.408868  1.188368  0.01  0.0300  0.090  0.2500  11.68\n",
       "pc        151.0  0.179139  0.329359  0.01  0.0200  0.060  0.2000   3.05\n",
       "ps4       376.0  0.766356  1.614969  0.01  0.0575  0.185  0.6900  14.63\n",
       "psv       295.0  0.075932  0.141591  0.01  0.0200  0.040  0.0900   1.96\n",
       "wiiu       73.0  0.588767  1.161467  0.01  0.0500  0.190  0.5700   7.09\n",
       "xone      228.0  0.615614  1.046513  0.01  0.0500  0.205  0.6325   7.39"
      ]
     },
     "execution_count": 33,
     "metadata": {},
     "output_type": "execute_result"
    }
   ],
   "source": [
    "top_6_platforms.groupby('platform')['total_sales'].describe()"
   ]
  },
  {
   "cell_type": "code",
   "execution_count": 34,
   "id": "2bf3d292",
   "metadata": {
    "scrolled": false
   },
   "outputs": [
    {
     "data": {
      "text/plain": [
       "Text(0, 0.5, 'Общие продажи')"
      ]
     },
     "execution_count": 34,
     "metadata": {},
     "output_type": "execute_result"
    },
    {
     "data": {
      "image/png": "[encoded data removed]",
      "text/plain": [
       "<Figure size 864x720 with 1 Axes>"
      ]
     },
     "metadata": {},
     "output_type": "display_data"
    }
   ],
   "source": [
    "plt.figure(figsize=(12,10))\n",
    "sbn.boxplot(data=top_6_platforms, x='platform', y='total_sales')\n",
    "plt.title('Ящик с усами', fontsize=15)\n",
    "plt.ylabel('Общие продажи',fontsize=12)"
   ]
  },
  {
   "cell_type": "code",
   "execution_count": 35,
   "id": "cd980a03",
   "metadata": {},
   "outputs": [
    {
     "data": {
      "text/plain": [
       "Text(0, 0.5, 'Общие продажи')"
      ]
     },
     "execution_count": 35,
     "metadata": {},
     "output_type": "execute_result"
    },
    {
     "data": {
      "image/png": "[encoded data removed]",
      "text/plain": [
       "<Figure size 864x720 with 1 Axes>"
      ]
     },
     "metadata": {},
     "output_type": "display_data"
    }
   ],
   "source": [
    "\n",
    "plt.figure(figsize=(12,10))\n",
    "sbn.boxplot(data=top_6_platforms, x='platform', y='total_sales', showfliers=False)\n",
    "plt.title('Ящик с усами без выбросов', fontsize=15)\n",
    "plt.ylabel('Общие продажи',fontsize=12)"
   ]
  },
  {
   "cell_type": "markdown",
   "id": "4194ab28",
   "metadata": {},
   "source": [
    "**Как мы видим больше всех продаж у WiiU и XOne, далее идут PS4, 3DS, PC и PSV на последнем месте. Исходя из графиков и описания видно, что медиана протекает у всех по разному.**\n",
    "- Успех WiiU можно понять по причине цен относительно остальных приставок, в кризис 2008 года, Wii была спасением для многих семей, на консоль была поставлена цена в 200 долларов, в отличии от Xbox 360 и PS3 за 300долларов и 500долларов соответственно. \n",
    "- Положение Xbox One и PlayStation 4 можно объяснить тем, что данные приставки позднее остальных вышли на рынки. Часть стран увидела их в конце 2013, часть только во второй половине 2014.  \n",
    "- ПК на данном промежутке времени отошли на второй план, уступив место приставкам.\n",
    "\n",
    "----------------------------------\n",
    "\n",
    "### Посмотрим, как влияют на продажи внутри одной популярной платформы отзывы пользователей и критиков. Построем диаграмму рассеяния и посчитаем корреляцию между отзывами и продажами."
   ]
  },
  {
   "cell_type": "code",
   "execution_count": 36,
   "id": "4a1466f1",
   "metadata": {},
   "outputs": [
    {
     "data": {
      "image/png": "[encoded data removed]",
      "text/plain": [
       "<Figure size 540x540 with 12 Axes>"
      ]
     },
     "metadata": {},
     "output_type": "display_data"
    }
   ],
   "source": [
    "sbn.pairplot(actual_period_df[actual_period_df['platform'] == \"ps4\"][['total_sales', 'critic_score', 'user_score']])\n",
    "plt.show()"
   ]
  },
  {
   "cell_type": "code",
   "execution_count": 37,
   "id": "23bddd64",
   "metadata": {},
   "outputs": [
    {
     "data": {
      "text/html": [
       "<div>\n",
       "<style scoped>\n",
       "    .dataframe tbody tr th:only-of-type {\n",
       "        vertical-align: middle;\n",
       "    }\n",
       "\n",
       "    .dataframe tbody tr th {\n",
       "        vertical-align: top;\n",
       "    }\n",
       "\n",
       "    .dataframe thead th {\n",
       "        text-align: right;\n",
       "    }\n",
       "</style>\n",
       "<table border=\"1\" class=\"dataframe\">\n",
       "  <thead>\n",
       "    <tr style=\"text-align: right;\">\n",
       "      <th></th>\n",
       "      <th>total_sales</th>\n",
       "      <th>critic_score</th>\n",
       "      <th>user_score</th>\n",
       "    </tr>\n",
       "  </thead>\n",
       "  <tbody>\n",
       "    <tr>\n",
       "      <th>total_sales</th>\n",
       "      <td>1.000000</td>\n",
       "      <td>0.402661</td>\n",
       "      <td>-0.040132</td>\n",
       "    </tr>\n",
       "    <tr>\n",
       "      <th>critic_score</th>\n",
       "      <td>0.402661</td>\n",
       "      <td>1.000000</td>\n",
       "      <td>0.546434</td>\n",
       "    </tr>\n",
       "    <tr>\n",
       "      <th>user_score</th>\n",
       "      <td>-0.040132</td>\n",
       "      <td>0.546434</td>\n",
       "      <td>1.000000</td>\n",
       "    </tr>\n",
       "  </tbody>\n",
       "</table>\n",
       "</div>"
      ],
      "text/plain": [
       "              total_sales  critic_score  user_score\n",
       "total_sales      1.000000      0.402661   -0.040132\n",
       "critic_score     0.402661      1.000000    0.546434\n",
       "user_score      -0.040132      0.546434    1.000000"
      ]
     },
     "execution_count": 37,
     "metadata": {},
     "output_type": "execute_result"
    }
   ],
   "source": [
    "actual_period_df[actual_period_df['platform'] == \"ps4\"][['total_sales', 'critic_score', 'user_score']].corr()"
   ]
  },
  {
   "cell_type": "markdown",
   "id": "741f6c14",
   "metadata": {},
   "source": [
    "**Корреляция между `total_sales` и `user_score` отрицательная, почти нулевая. Игры, у которых высокая оценка критиков как правило лучше продаются, есть игры, которые продаются не так хорошо, но имеют высокую оценку пользователей. Корреляция между `total_sales` и `critic_score` равна 0.4, что ожидаемо, мы углядели эту зависимость на графике.**\n",
    "\n",
    "------------------------------\n",
    "\n",
    "### Соотнесем выводы с продажами игр на других платформах."
   ]
  },
  {
   "cell_type": "code",
   "execution_count": 38,
   "id": "df8398d7",
   "metadata": {},
   "outputs": [
    {
     "data": {
      "image/png": "[encoded data removed]",
      "text/plain": [
       "<Figure size 540x540 with 12 Axes>"
      ]
     },
     "metadata": {},
     "output_type": "display_data"
    }
   ],
   "source": [
    "sbn.pairplot(actual_period_df[actual_period_df['platform'] == \"xone\"][['total_sales', 'critic_score', 'user_score']])\n",
    "plt.show()"
   ]
  },
  {
   "cell_type": "code",
   "execution_count": 39,
   "id": "13ff7bde",
   "metadata": {},
   "outputs": [
    {
     "data": {
      "text/html": [
       "<div>\n",
       "<style scoped>\n",
       "    .dataframe tbody tr th:only-of-type {\n",
       "        vertical-align: middle;\n",
       "    }\n",
       "\n",
       "    .dataframe tbody tr th {\n",
       "        vertical-align: top;\n",
       "    }\n",
       "\n",
       "    .dataframe thead th {\n",
       "        text-align: right;\n",
       "    }\n",
       "</style>\n",
       "<table border=\"1\" class=\"dataframe\">\n",
       "  <thead>\n",
       "    <tr style=\"text-align: right;\">\n",
       "      <th></th>\n",
       "      <th>total_sales</th>\n",
       "      <th>critic_score</th>\n",
       "      <th>user_score</th>\n",
       "    </tr>\n",
       "  </thead>\n",
       "  <tbody>\n",
       "    <tr>\n",
       "      <th>total_sales</th>\n",
       "      <td>1.000000</td>\n",
       "      <td>0.428677</td>\n",
       "      <td>-0.070384</td>\n",
       "    </tr>\n",
       "    <tr>\n",
       "      <th>critic_score</th>\n",
       "      <td>0.428677</td>\n",
       "      <td>1.000000</td>\n",
       "      <td>0.440977</td>\n",
       "    </tr>\n",
       "    <tr>\n",
       "      <th>user_score</th>\n",
       "      <td>-0.070384</td>\n",
       "      <td>0.440977</td>\n",
       "      <td>1.000000</td>\n",
       "    </tr>\n",
       "  </tbody>\n",
       "</table>\n",
       "</div>"
      ],
      "text/plain": [
       "              total_sales  critic_score  user_score\n",
       "total_sales      1.000000      0.428677   -0.070384\n",
       "critic_score     0.428677      1.000000    0.440977\n",
       "user_score      -0.070384      0.440977    1.000000"
      ]
     },
     "execution_count": 39,
     "metadata": {},
     "output_type": "execute_result"
    }
   ],
   "source": [
    "actual_period_df[actual_period_df['platform'] == \"xone\"][['total_sales', 'critic_score', 'user_score']].corr()"
   ]
  },
  {
   "cell_type": "markdown",
   "id": "0c4c3276",
   "metadata": {},
   "source": [
    "**Данные на платформе `xone` аналогичны. Корреляция между `total_sales` и `user_score` отрицательная, почти нулевая. Игры, у которых высокая оценка критиков как правило лучше продаются, есть игры, которые продаются не так хорошо, но имеют высокую оценку пользователей. Корреляция между `total_sale`s и `critic_scor`e равна 0.4.**"
   ]
  },
  {
   "cell_type": "code",
   "execution_count": 40,
   "id": "f34a7d23",
   "metadata": {},
   "outputs": [
    {
     "data": {
      "image/png": "[encoded data removed]",
      "text/plain": [
       "<Figure size 540x540 with 12 Axes>"
      ]
     },
     "metadata": {},
     "output_type": "display_data"
    }
   ],
   "source": [
    "sbn.pairplot(actual_period_df[actual_period_df['platform'] == \"wiiu\"][['total_sales', 'critic_score', 'user_score']])\n",
    "plt.show()"
   ]
  },
  {
   "cell_type": "code",
   "execution_count": 41,
   "id": "923c8e1a",
   "metadata": {},
   "outputs": [
    {
     "data": {
      "text/html": [
       "<div>\n",
       "<style scoped>\n",
       "    .dataframe tbody tr th:only-of-type {\n",
       "        vertical-align: middle;\n",
       "    }\n",
       "\n",
       "    .dataframe tbody tr th {\n",
       "        vertical-align: top;\n",
       "    }\n",
       "\n",
       "    .dataframe thead th {\n",
       "        text-align: right;\n",
       "    }\n",
       "</style>\n",
       "<table border=\"1\" class=\"dataframe\">\n",
       "  <thead>\n",
       "    <tr style=\"text-align: right;\">\n",
       "      <th></th>\n",
       "      <th>total_sales</th>\n",
       "      <th>critic_score</th>\n",
       "      <th>user_score</th>\n",
       "    </tr>\n",
       "  </thead>\n",
       "  <tbody>\n",
       "    <tr>\n",
       "      <th>total_sales</th>\n",
       "      <td>1.000000</td>\n",
       "      <td>0.370201</td>\n",
       "      <td>0.407926</td>\n",
       "    </tr>\n",
       "    <tr>\n",
       "      <th>critic_score</th>\n",
       "      <td>0.370201</td>\n",
       "      <td>1.000000</td>\n",
       "      <td>0.763536</td>\n",
       "    </tr>\n",
       "    <tr>\n",
       "      <th>user_score</th>\n",
       "      <td>0.407926</td>\n",
       "      <td>0.763536</td>\n",
       "      <td>1.000000</td>\n",
       "    </tr>\n",
       "  </tbody>\n",
       "</table>\n",
       "</div>"
      ],
      "text/plain": [
       "              total_sales  critic_score  user_score\n",
       "total_sales      1.000000      0.370201    0.407926\n",
       "critic_score     0.370201      1.000000    0.763536\n",
       "user_score       0.407926      0.763536    1.000000"
      ]
     },
     "execution_count": 41,
     "metadata": {},
     "output_type": "execute_result"
    }
   ],
   "source": [
    "actual_period_df[actual_period_df['platform'] == \"wiiu\"][['total_sales', 'critic_score', 'user_score']].corr()"
   ]
  },
  {
   "cell_type": "markdown",
   "id": "2663392d",
   "metadata": {},
   "source": [
    "**А вот на плафторме `wiiu` видим, что корреляция между оценками пользователей и уровнем продаж положительная. Кореляция по оценке критиков чуть меньше, чем на предыдущих платформах.**"
   ]
  },
  {
   "cell_type": "markdown",
   "id": "d94251c4",
   "metadata": {},
   "source": [
    "**У PS4, Xbox One, WiiU наблюдается связь между оценками критиков и продажами. А связь между оценками пользователей и продажами отрицательная у  `PS4, Xbox One`, либо её совсем нет. Только у WiiU корреляция между отзывами пользователей и продажами положительная. Это говорит о том, что покупатели прислушиваются больше к критикам, нежели к оценкам других пользователей. Но, опять же, пользователи платформы WiiU: смотрят на оценки других пользователей. Связь продаж с оценками критиков (`0,4`) слабая**"
   ]
  },
  {
   "cell_type": "markdown",
   "id": "b07c57c3",
   "metadata": {},
   "source": [
    "------------------\n",
    "\n",
    "### Посмотрим на общее распределение игр по жанрам. Что можно сказать о самых прибыльных жанрах? Выделяются ли жанры с высокими и низкими продажами?"
   ]
  },
  {
   "cell_type": "code",
   "execution_count": 42,
   "id": "2caf8ec8",
   "metadata": {},
   "outputs": [
    {
     "data": {
      "text/html": [
       "<div>\n",
       "<style scoped>\n",
       "    .dataframe tbody tr th:only-of-type {\n",
       "        vertical-align: middle;\n",
       "    }\n",
       "\n",
       "    .dataframe tbody tr th {\n",
       "        vertical-align: top;\n",
       "    }\n",
       "\n",
       "    .dataframe thead th {\n",
       "        text-align: right;\n",
       "    }\n",
       "</style>\n",
       "<table border=\"1\" class=\"dataframe\">\n",
       "  <thead>\n",
       "    <tr style=\"text-align: right;\">\n",
       "      <th></th>\n",
       "      <th>genre</th>\n",
       "      <th>sum_total_sales</th>\n",
       "      <th>count</th>\n",
       "      <th>median</th>\n",
       "      <th>mean</th>\n",
       "    </tr>\n",
       "  </thead>\n",
       "  <tbody>\n",
       "    <tr>\n",
       "      <th>0</th>\n",
       "      <td>action</td>\n",
       "      <td>199.36</td>\n",
       "      <td>619</td>\n",
       "      <td>0.090</td>\n",
       "      <td>0.322068</td>\n",
       "    </tr>\n",
       "    <tr>\n",
       "      <th>1</th>\n",
       "      <td>shooter</td>\n",
       "      <td>170.94</td>\n",
       "      <td>128</td>\n",
       "      <td>0.515</td>\n",
       "      <td>1.335469</td>\n",
       "    </tr>\n",
       "    <tr>\n",
       "      <th>2</th>\n",
       "      <td>sports</td>\n",
       "      <td>109.48</td>\n",
       "      <td>161</td>\n",
       "      <td>0.180</td>\n",
       "      <td>0.680000</td>\n",
       "    </tr>\n",
       "    <tr>\n",
       "      <th>3</th>\n",
       "      <td>role-playing</td>\n",
       "      <td>101.44</td>\n",
       "      <td>221</td>\n",
       "      <td>0.110</td>\n",
       "      <td>0.459005</td>\n",
       "    </tr>\n",
       "    <tr>\n",
       "      <th>4</th>\n",
       "      <td>misc</td>\n",
       "      <td>37.55</td>\n",
       "      <td>113</td>\n",
       "      <td>0.090</td>\n",
       "      <td>0.332301</td>\n",
       "    </tr>\n",
       "    <tr>\n",
       "      <th>5</th>\n",
       "      <td>fighting</td>\n",
       "      <td>28.22</td>\n",
       "      <td>60</td>\n",
       "      <td>0.125</td>\n",
       "      <td>0.470333</td>\n",
       "    </tr>\n",
       "    <tr>\n",
       "      <th>6</th>\n",
       "      <td>racing</td>\n",
       "      <td>27.52</td>\n",
       "      <td>69</td>\n",
       "      <td>0.090</td>\n",
       "      <td>0.398841</td>\n",
       "    </tr>\n",
       "    <tr>\n",
       "      <th>7</th>\n",
       "      <td>platform</td>\n",
       "      <td>18.09</td>\n",
       "      <td>38</td>\n",
       "      <td>0.140</td>\n",
       "      <td>0.476053</td>\n",
       "    </tr>\n",
       "    <tr>\n",
       "      <th>8</th>\n",
       "      <td>adventure</td>\n",
       "      <td>17.55</td>\n",
       "      <td>185</td>\n",
       "      <td>0.030</td>\n",
       "      <td>0.094865</td>\n",
       "    </tr>\n",
       "    <tr>\n",
       "      <th>9</th>\n",
       "      <td>simulation</td>\n",
       "      <td>13.13</td>\n",
       "      <td>44</td>\n",
       "      <td>0.100</td>\n",
       "      <td>0.298409</td>\n",
       "    </tr>\n",
       "    <tr>\n",
       "      <th>10</th>\n",
       "      <td>strategy</td>\n",
       "      <td>3.96</td>\n",
       "      <td>37</td>\n",
       "      <td>0.060</td>\n",
       "      <td>0.107027</td>\n",
       "    </tr>\n",
       "    <tr>\n",
       "      <th>11</th>\n",
       "      <td>puzzle</td>\n",
       "      <td>2.21</td>\n",
       "      <td>14</td>\n",
       "      <td>0.045</td>\n",
       "      <td>0.157857</td>\n",
       "    </tr>\n",
       "  </tbody>\n",
       "</table>\n",
       "</div>"
      ],
      "text/plain": [
       "           genre  sum_total_sales  count  median      mean\n",
       "0         action           199.36    619   0.090  0.322068\n",
       "1        shooter           170.94    128   0.515  1.335469\n",
       "2         sports           109.48    161   0.180  0.680000\n",
       "3   role-playing           101.44    221   0.110  0.459005\n",
       "4           misc            37.55    113   0.090  0.332301\n",
       "5       fighting            28.22     60   0.125  0.470333\n",
       "6         racing            27.52     69   0.090  0.398841\n",
       "7       platform            18.09     38   0.140  0.476053\n",
       "8      adventure            17.55    185   0.030  0.094865\n",
       "9     simulation            13.13     44   0.100  0.298409\n",
       "10      strategy             3.96     37   0.060  0.107027\n",
       "11        puzzle             2.21     14   0.045  0.157857"
      ]
     },
     "execution_count": 42,
     "metadata": {},
     "output_type": "execute_result"
    }
   ],
   "source": [
    "df_genre = actual_period_df.pivot_table(index = 'genre', values = 'total_sales', aggfunc = ['sum', 'count', 'median', 'mean'])     \n",
    "df_genre.columns = ['sum_total_sales', 'count', 'median', 'mean']\n",
    "df_genre = df_genre.sort_values(by = 'sum_total_sales', ascending=False).reset_index()\n",
    "df_genre"
   ]
  },
  {
   "cell_type": "code",
   "execution_count": 43,
   "id": "9df9a0f7",
   "metadata": {},
   "outputs": [
    {
     "data": {
      "text/plain": [
       "Text(0, 0.5, 'Общие продажи')"
      ]
     },
     "execution_count": 43,
     "metadata": {},
     "output_type": "execute_result"
    },
    {
     "data": {
      "image/png": "[encoded data removed]",
      "text/plain": [
       "<Figure size 864x720 with 1 Axes>"
      ]
     },
     "metadata": {},
     "output_type": "display_data"
    }
   ],
   "source": [
    "plt.figure(figsize=(12,10))\n",
    "sbn.boxplot(data=actual_period_df, x='genre', y='total_sales')\n",
    "plt.title('Ящик с усами без выбросов', fontsize=15)\n",
    "plt.ylabel('Общие продажи',fontsize=12)"
   ]
  },
  {
   "cell_type": "code",
   "execution_count": 44,
   "id": "d68971bc",
   "metadata": {},
   "outputs": [
    {
     "data": {
      "text/plain": [
       "Text(0, 0.5, 'Общие продажи')"
      ]
     },
     "execution_count": 44,
     "metadata": {},
     "output_type": "execute_result"
    },
    {
     "data": {
      "image/png": "[encoded data removed]",
      "text/plain": [
       "<Figure size 864x720 with 1 Axes>"
      ]
     },
     "metadata": {},
     "output_type": "display_data"
    }
   ],
   "source": [
    "plt.figure(figsize=(12,10))\n",
    "sbn.boxplot(data=actual_period_df, x='genre', y='total_sales', showfliers=False)\n",
    "plt.title('Ящик с усами без выбросов', fontsize=15)\n",
    "plt.ylabel('Общие продажи',fontsize=12)"
   ]
  },
  {
   "cell_type": "markdown",
   "id": "913b6605",
   "metadata": {},
   "source": [
    "**Самые продаваемые игры жанров: `Shooter, Role-Playing, Action`. При этом дисперсия жанра `Shooter` самая большая из всех жанров, а `Action` имеет самую маленькую дисперсию. Хуже всего в актуальном периоде продаются игры `Puzzle, Adventure и Strategy`, они имеют самый маленький размах и не имеют игр-хитов. Получается, что жанры с большим количеством продаж выделяются из общего распределения наличием большого числа игр-хитов, а игры с малым количеством продаж не могут похвастаться бестселлерами.**"
   ]
  },
  {
   "cell_type": "markdown",
   "id": "b8a30933",
   "metadata": {},
   "source": [
    "**Вывод**\n",
    "\n",
    "**Количество игр на игровые приставки и компьютеры начало расти с большой скоростью с 90х годов до 2008 года. Самые популярные игровые платформы за весь период : `Sony PlayStation 2, Xbox 360, Sony Playstation 3, Nintendo WII, Nintendo DS, Sony Playstation`. Средняя жизнь игровой платформы составляет 8-10 лет. Пик продаж наступает примерно через 5 лет после выхода приставки.\n",
    "Больше всего было продано игр на `Sony Playstation и Xbox 360`. У анализируемых нами платформ наблюдается взаимосвязь между продажами и оценками критиков. Пользовательские же оценки почти не играют значимой роли. Это значит, что для людей мнение критиков важнее мнения других пользователей.\n",
    "Самый популярный жанр: `Action`. Якорем висит жанр `Strategy`.**\n",
    "\n",
    "-----------------------\n",
    "\n",
    "# Шаг 4.\n",
    "\n",
    "## Составляем портрет пользователя каждого региона\n",
    "\n",
    "\n",
    "\n"
   ]
  },
  {
   "cell_type": "markdown",
   "id": "e194f79d",
   "metadata": {},
   "source": [
    "**Найдем самые популярные платформы (топ-5)**"
   ]
  },
  {
   "cell_type": "code",
   "execution_count": 45,
   "id": "893ea679",
   "metadata": {},
   "outputs": [],
   "source": [
    "#функция для поиска топ5 по регионам\n",
    "def top_in_regions(groupby, region_sales, text):\n",
    "    pivot = (\n",
    "        actual_period_df.groupby([groupby])\n",
    "        .agg({region_sales: 'sum'}).reset_index()\n",
    "        .sort_values(by=region_sales, ascending=False)\n",
    "        .reset_index(drop=True)[:5]\n",
    "    )\n",
    "    print(text)\n",
    "    display(pivot)\n",
    "    print('___________________')\n",
    "    print()\n",
    "    return pivot\n"
   ]
  },
  {
   "cell_type": "code",
   "execution_count": 46,
   "id": "0ff1f7a5",
   "metadata": {},
   "outputs": [
    {
     "name": "stdout",
     "output_type": "stream",
     "text": [
      "ТОП5 платформ Северной Америки\n"
     ]
    },
    {
     "data": {
      "text/html": [
       "<div>\n",
       "<style scoped>\n",
       "    .dataframe tbody tr th:only-of-type {\n",
       "        vertical-align: middle;\n",
       "    }\n",
       "\n",
       "    .dataframe tbody tr th {\n",
       "        vertical-align: top;\n",
       "    }\n",
       "\n",
       "    .dataframe thead th {\n",
       "        text-align: right;\n",
       "    }\n",
       "</style>\n",
       "<table border=\"1\" class=\"dataframe\">\n",
       "  <thead>\n",
       "    <tr style=\"text-align: right;\">\n",
       "      <th></th>\n",
       "      <th>platform</th>\n",
       "      <th>na_sales</th>\n",
       "    </tr>\n",
       "  </thead>\n",
       "  <tbody>\n",
       "    <tr>\n",
       "      <th>0</th>\n",
       "      <td>ps4</td>\n",
       "      <td>98.61</td>\n",
       "    </tr>\n",
       "    <tr>\n",
       "      <th>1</th>\n",
       "      <td>xone</td>\n",
       "      <td>81.27</td>\n",
       "    </tr>\n",
       "    <tr>\n",
       "      <th>2</th>\n",
       "      <td>x360</td>\n",
       "      <td>28.30</td>\n",
       "    </tr>\n",
       "    <tr>\n",
       "      <th>3</th>\n",
       "      <td>3ds</td>\n",
       "      <td>22.64</td>\n",
       "    </tr>\n",
       "    <tr>\n",
       "      <th>4</th>\n",
       "      <td>ps3</td>\n",
       "      <td>22.05</td>\n",
       "    </tr>\n",
       "  </tbody>\n",
       "</table>\n",
       "</div>"
      ],
      "text/plain": [
       "  platform  na_sales\n",
       "0      ps4     98.61\n",
       "1     xone     81.27\n",
       "2     x360     28.30\n",
       "3      3ds     22.64\n",
       "4      ps3     22.05"
      ]
     },
     "metadata": {},
     "output_type": "display_data"
    },
    {
     "name": "stdout",
     "output_type": "stream",
     "text": [
      "___________________\n",
      "\n",
      "ТОП5 платформ Европы\n"
     ]
    },
    {
     "data": {
      "text/html": [
       "<div>\n",
       "<style scoped>\n",
       "    .dataframe tbody tr th:only-of-type {\n",
       "        vertical-align: middle;\n",
       "    }\n",
       "\n",
       "    .dataframe tbody tr th {\n",
       "        vertical-align: top;\n",
       "    }\n",
       "\n",
       "    .dataframe thead th {\n",
       "        text-align: right;\n",
       "    }\n",
       "</style>\n",
       "<table border=\"1\" class=\"dataframe\">\n",
       "  <thead>\n",
       "    <tr style=\"text-align: right;\">\n",
       "      <th></th>\n",
       "      <th>platform</th>\n",
       "      <th>eu_sales</th>\n",
       "    </tr>\n",
       "  </thead>\n",
       "  <tbody>\n",
       "    <tr>\n",
       "      <th>0</th>\n",
       "      <td>ps4</td>\n",
       "      <td>130.04</td>\n",
       "    </tr>\n",
       "    <tr>\n",
       "      <th>1</th>\n",
       "      <td>xone</td>\n",
       "      <td>46.25</td>\n",
       "    </tr>\n",
       "    <tr>\n",
       "      <th>2</th>\n",
       "      <td>ps3</td>\n",
       "      <td>25.54</td>\n",
       "    </tr>\n",
       "    <tr>\n",
       "      <th>3</th>\n",
       "      <td>pc</td>\n",
       "      <td>17.97</td>\n",
       "    </tr>\n",
       "    <tr>\n",
       "      <th>4</th>\n",
       "      <td>3ds</td>\n",
       "      <td>16.12</td>\n",
       "    </tr>\n",
       "  </tbody>\n",
       "</table>\n",
       "</div>"
      ],
      "text/plain": [
       "  platform  eu_sales\n",
       "0      ps4    130.04\n",
       "1     xone     46.25\n",
       "2      ps3     25.54\n",
       "3       pc     17.97\n",
       "4      3ds     16.12"
      ]
     },
     "metadata": {},
     "output_type": "display_data"
    },
    {
     "name": "stdout",
     "output_type": "stream",
     "text": [
      "___________________\n",
      "\n",
      "ТОП5 платформ Японии\n"
     ]
    },
    {
     "data": {
      "text/html": [
       "<div>\n",
       "<style scoped>\n",
       "    .dataframe tbody tr th:only-of-type {\n",
       "        vertical-align: middle;\n",
       "    }\n",
       "\n",
       "    .dataframe tbody tr th {\n",
       "        vertical-align: top;\n",
       "    }\n",
       "\n",
       "    .dataframe thead th {\n",
       "        text-align: right;\n",
       "    }\n",
       "</style>\n",
       "<table border=\"1\" class=\"dataframe\">\n",
       "  <thead>\n",
       "    <tr style=\"text-align: right;\">\n",
       "      <th></th>\n",
       "      <th>platform</th>\n",
       "      <th>jp_sales</th>\n",
       "    </tr>\n",
       "  </thead>\n",
       "  <tbody>\n",
       "    <tr>\n",
       "      <th>0</th>\n",
       "      <td>3ds</td>\n",
       "      <td>44.24</td>\n",
       "    </tr>\n",
       "    <tr>\n",
       "      <th>1</th>\n",
       "      <td>ps4</td>\n",
       "      <td>15.02</td>\n",
       "    </tr>\n",
       "    <tr>\n",
       "      <th>2</th>\n",
       "      <td>psv</td>\n",
       "      <td>14.54</td>\n",
       "    </tr>\n",
       "    <tr>\n",
       "      <th>3</th>\n",
       "      <td>ps3</td>\n",
       "      <td>11.22</td>\n",
       "    </tr>\n",
       "    <tr>\n",
       "      <th>4</th>\n",
       "      <td>wiiu</td>\n",
       "      <td>7.31</td>\n",
       "    </tr>\n",
       "  </tbody>\n",
       "</table>\n",
       "</div>"
      ],
      "text/plain": [
       "  platform  jp_sales\n",
       "0      3ds     44.24\n",
       "1      ps4     15.02\n",
       "2      psv     14.54\n",
       "3      ps3     11.22\n",
       "4     wiiu      7.31"
      ]
     },
     "metadata": {},
     "output_type": "display_data"
    },
    {
     "name": "stdout",
     "output_type": "stream",
     "text": [
      "___________________\n",
      "\n"
     ]
    }
   ],
   "source": [
    "na_sales_platform = top_in_regions('platform', 'na_sales', 'ТОП5 платформ Северной Америки')\n",
    "#na_sales_platform\n",
    "\n",
    "eu_sales_platform = top_in_regions('platform', 'eu_sales', 'ТОП5 платформ Европы')\n",
    "#eu_sales_platform\n",
    "\n",
    "jp_sales_platform = top_in_regions('platform', 'jp_sales', 'ТОП5 платформ Японии')\n",
    "#jp_sales_platform"
   ]
  },
  {
   "cell_type": "code",
   "execution_count": 60,
   "id": "4a16c852",
   "metadata": {
    "scrolled": true
   },
   "outputs": [
    {
     "data": {
      "text/html": [
       "<div>\n",
       "<style scoped>\n",
       "    .dataframe tbody tr th:only-of-type {\n",
       "        vertical-align: middle;\n",
       "    }\n",
       "\n",
       "    .dataframe tbody tr th {\n",
       "        vertical-align: top;\n",
       "    }\n",
       "\n",
       "    .dataframe thead th {\n",
       "        text-align: right;\n",
       "    }\n",
       "</style>\n",
       "<table border=\"1\" class=\"dataframe\">\n",
       "  <thead>\n",
       "    <tr style=\"text-align: right;\">\n",
       "      <th></th>\n",
       "      <th>platform</th>\n",
       "      <th>eu_sales</th>\n",
       "      <th>na_sales</th>\n",
       "      <th>jp_sales</th>\n",
       "    </tr>\n",
       "  </thead>\n",
       "  <tbody>\n",
       "    <tr>\n",
       "      <th>0</th>\n",
       "      <td>ps4</td>\n",
       "      <td>130.04</td>\n",
       "      <td>98.61</td>\n",
       "      <td>15.02</td>\n",
       "    </tr>\n",
       "    <tr>\n",
       "      <th>1</th>\n",
       "      <td>xone</td>\n",
       "      <td>46.25</td>\n",
       "      <td>81.27</td>\n",
       "      <td>NaN</td>\n",
       "    </tr>\n",
       "    <tr>\n",
       "      <th>2</th>\n",
       "      <td>ps3</td>\n",
       "      <td>25.54</td>\n",
       "      <td>22.05</td>\n",
       "      <td>11.22</td>\n",
       "    </tr>\n",
       "    <tr>\n",
       "      <th>3</th>\n",
       "      <td>pc</td>\n",
       "      <td>17.97</td>\n",
       "      <td>NaN</td>\n",
       "      <td>NaN</td>\n",
       "    </tr>\n",
       "    <tr>\n",
       "      <th>4</th>\n",
       "      <td>3ds</td>\n",
       "      <td>16.12</td>\n",
       "      <td>22.64</td>\n",
       "      <td>44.24</td>\n",
       "    </tr>\n",
       "    <tr>\n",
       "      <th>5</th>\n",
       "      <td>x360</td>\n",
       "      <td>NaN</td>\n",
       "      <td>28.30</td>\n",
       "      <td>NaN</td>\n",
       "    </tr>\n",
       "    <tr>\n",
       "      <th>6</th>\n",
       "      <td>psv</td>\n",
       "      <td>NaN</td>\n",
       "      <td>NaN</td>\n",
       "      <td>14.54</td>\n",
       "    </tr>\n",
       "    <tr>\n",
       "      <th>7</th>\n",
       "      <td>wiiu</td>\n",
       "      <td>NaN</td>\n",
       "      <td>NaN</td>\n",
       "      <td>7.31</td>\n",
       "    </tr>\n",
       "  </tbody>\n",
       "</table>\n",
       "</div>"
      ],
      "text/plain": [
       "  platform  eu_sales  na_sales  jp_sales\n",
       "0      ps4    130.04     98.61     15.02\n",
       "1     xone     46.25     81.27       NaN\n",
       "2      ps3     25.54     22.05     11.22\n",
       "3       pc     17.97       NaN       NaN\n",
       "4      3ds     16.12     22.64     44.24\n",
       "5     x360       NaN     28.30       NaN\n",
       "6      psv       NaN       NaN     14.54\n",
       "7     wiiu       NaN       NaN      7.31"
      ]
     },
     "execution_count": 60,
     "metadata": {},
     "output_type": "execute_result"
    }
   ],
   "source": [
    "#Соединяем полученные выше таблицы(топ5)\n",
    "platform_merge = pd.merge(na_sales_platform, jp_sales_platform, how=\"outer\", on='platform')\n",
    "platform_merge = pd.merge(eu_sales_platform, platform_merge, how='outer', on='platform')\n",
    "platform_merge"
   ]
  },
  {
   "cell_type": "code",
   "execution_count": 48,
   "id": "dc62090b",
   "metadata": {
    "scrolled": false
   },
   "outputs": [
    {
     "data": {
      "image/png": "[encoded data removed]",
      "text/plain": [
       "<Figure size 864x504 with 1 Axes>"
      ]
     },
     "metadata": {},
     "output_type": "display_data"
    }
   ],
   "source": [
    "\n",
    "x = np.arange(len(platform_merge['platform']))  \n",
    "width = 0.35  \n",
    "\n",
    "fig, ax = plt.subplots(figsize=(12, 7))\n",
    "rects1 = ax.bar(x - width/2, platform_merge['na_sales'], width, label='Топ Северной Америки')\n",
    "rects2 = ax.bar(x + width/2,  platform_merge['eu_sales'], width, label='Топ Европы')\n",
    "rects3 = ax.bar(x + width,  platform_merge['jp_sales'], width, label='Топ Японии')\n",
    "\n",
    "ax.set_title('Топ платформ по регионам')\n",
    "ax.set_xticks(x, platform_merge['platform'])\n",
    "ax.legend(loc='upper right', borderaxespad=0)\n",
    "\n",
    "ax.bar_label(rects1, padding=1)\n",
    "ax.bar_label(rects2, padding=2)\n",
    "ax.bar_label(rects3, padding=3)\n",
    "\n",
    "fig.tight_layout()\n",
    "\n",
    "plt.show()"
   ]
  },
  {
   "cell_type": "markdown",
   "id": "6e361456",
   "metadata": {},
   "source": [
    "**В `NA` и `EU` самые популярные платформы практически совпадают, отличаются лишь расположением мест.\n",
    "В `JP` топ сильно отличается от `NA и EU`, в топ5 входят такие платформы как: `psv`, `wiiu` - которые отсуствуют в `NA и EU`. `PS4` - популярна, входит в топ5 всех перечисленных регионов.**\n",
    "\n",
    "----------------------"
   ]
  },
  {
   "cell_type": "markdown",
   "id": "e163fe5f",
   "metadata": {},
   "source": [
    "**Найдем самые популярные топ5 жанров для каждого региона.**"
   ]
  },
  {
   "cell_type": "code",
   "execution_count": 49,
   "id": "986b0a7e",
   "metadata": {},
   "outputs": [
    {
     "name": "stdout",
     "output_type": "stream",
     "text": [
      "ТОП5 жанров Северной америки\n"
     ]
    },
    {
     "data": {
      "text/html": [
       "<div>\n",
       "<style scoped>\n",
       "    .dataframe tbody tr th:only-of-type {\n",
       "        vertical-align: middle;\n",
       "    }\n",
       "\n",
       "    .dataframe tbody tr th {\n",
       "        vertical-align: top;\n",
       "    }\n",
       "\n",
       "    .dataframe thead th {\n",
       "        text-align: right;\n",
       "    }\n",
       "</style>\n",
       "<table border=\"1\" class=\"dataframe\">\n",
       "  <thead>\n",
       "    <tr style=\"text-align: right;\">\n",
       "      <th></th>\n",
       "      <th>genre</th>\n",
       "      <th>na_sales</th>\n",
       "    </tr>\n",
       "  </thead>\n",
       "  <tbody>\n",
       "    <tr>\n",
       "      <th>0</th>\n",
       "      <td>shooter</td>\n",
       "      <td>79.02</td>\n",
       "    </tr>\n",
       "    <tr>\n",
       "      <th>1</th>\n",
       "      <td>action</td>\n",
       "      <td>72.53</td>\n",
       "    </tr>\n",
       "    <tr>\n",
       "      <th>2</th>\n",
       "      <td>sports</td>\n",
       "      <td>46.13</td>\n",
       "    </tr>\n",
       "    <tr>\n",
       "      <th>3</th>\n",
       "      <td>role-playing</td>\n",
       "      <td>33.47</td>\n",
       "    </tr>\n",
       "    <tr>\n",
       "      <th>4</th>\n",
       "      <td>misc</td>\n",
       "      <td>15.05</td>\n",
       "    </tr>\n",
       "  </tbody>\n",
       "</table>\n",
       "</div>"
      ],
      "text/plain": [
       "          genre  na_sales\n",
       "0       shooter     79.02\n",
       "1        action     72.53\n",
       "2        sports     46.13\n",
       "3  role-playing     33.47\n",
       "4          misc     15.05"
      ]
     },
     "metadata": {},
     "output_type": "display_data"
    },
    {
     "name": "stdout",
     "output_type": "stream",
     "text": [
      "___________________\n",
      "\n",
      "ТОП5 жанров Европы\n"
     ]
    },
    {
     "data": {
      "text/html": [
       "<div>\n",
       "<style scoped>\n",
       "    .dataframe tbody tr th:only-of-type {\n",
       "        vertical-align: middle;\n",
       "    }\n",
       "\n",
       "    .dataframe tbody tr th {\n",
       "        vertical-align: top;\n",
       "    }\n",
       "\n",
       "    .dataframe thead th {\n",
       "        text-align: right;\n",
       "    }\n",
       "</style>\n",
       "<table border=\"1\" class=\"dataframe\">\n",
       "  <thead>\n",
       "    <tr style=\"text-align: right;\">\n",
       "      <th></th>\n",
       "      <th>genre</th>\n",
       "      <th>eu_sales</th>\n",
       "    </tr>\n",
       "  </thead>\n",
       "  <tbody>\n",
       "    <tr>\n",
       "      <th>0</th>\n",
       "      <td>action</td>\n",
       "      <td>74.68</td>\n",
       "    </tr>\n",
       "    <tr>\n",
       "      <th>1</th>\n",
       "      <td>shooter</td>\n",
       "      <td>65.52</td>\n",
       "    </tr>\n",
       "    <tr>\n",
       "      <th>2</th>\n",
       "      <td>sports</td>\n",
       "      <td>45.73</td>\n",
       "    </tr>\n",
       "    <tr>\n",
       "      <th>3</th>\n",
       "      <td>role-playing</td>\n",
       "      <td>28.17</td>\n",
       "    </tr>\n",
       "    <tr>\n",
       "      <th>4</th>\n",
       "      <td>racing</td>\n",
       "      <td>14.13</td>\n",
       "    </tr>\n",
       "  </tbody>\n",
       "</table>\n",
       "</div>"
      ],
      "text/plain": [
       "          genre  eu_sales\n",
       "0        action     74.68\n",
       "1       shooter     65.52\n",
       "2        sports     45.73\n",
       "3  role-playing     28.17\n",
       "4        racing     14.13"
      ]
     },
     "metadata": {},
     "output_type": "display_data"
    },
    {
     "name": "stdout",
     "output_type": "stream",
     "text": [
      "___________________\n",
      "\n",
      "ТОП5 жанров Японии\n"
     ]
    },
    {
     "data": {
      "text/html": [
       "<div>\n",
       "<style scoped>\n",
       "    .dataframe tbody tr th:only-of-type {\n",
       "        vertical-align: middle;\n",
       "    }\n",
       "\n",
       "    .dataframe tbody tr th {\n",
       "        vertical-align: top;\n",
       "    }\n",
       "\n",
       "    .dataframe thead th {\n",
       "        text-align: right;\n",
       "    }\n",
       "</style>\n",
       "<table border=\"1\" class=\"dataframe\">\n",
       "  <thead>\n",
       "    <tr style=\"text-align: right;\">\n",
       "      <th></th>\n",
       "      <th>genre</th>\n",
       "      <th>jp_sales</th>\n",
       "    </tr>\n",
       "  </thead>\n",
       "  <tbody>\n",
       "    <tr>\n",
       "      <th>0</th>\n",
       "      <td>role-playing</td>\n",
       "      <td>31.16</td>\n",
       "    </tr>\n",
       "    <tr>\n",
       "      <th>1</th>\n",
       "      <td>action</td>\n",
       "      <td>29.58</td>\n",
       "    </tr>\n",
       "    <tr>\n",
       "      <th>2</th>\n",
       "      <td>fighting</td>\n",
       "      <td>6.37</td>\n",
       "    </tr>\n",
       "    <tr>\n",
       "      <th>3</th>\n",
       "      <td>misc</td>\n",
       "      <td>5.61</td>\n",
       "    </tr>\n",
       "    <tr>\n",
       "      <th>4</th>\n",
       "      <td>shooter</td>\n",
       "      <td>4.87</td>\n",
       "    </tr>\n",
       "  </tbody>\n",
       "</table>\n",
       "</div>"
      ],
      "text/plain": [
       "          genre  jp_sales\n",
       "0  role-playing     31.16\n",
       "1        action     29.58\n",
       "2      fighting      6.37\n",
       "3          misc      5.61\n",
       "4       shooter      4.87"
      ]
     },
     "metadata": {},
     "output_type": "display_data"
    },
    {
     "name": "stdout",
     "output_type": "stream",
     "text": [
      "___________________\n",
      "\n"
     ]
    }
   ],
   "source": [
    "   \n",
    "na_sales_genre = top_in_regions('genre', 'na_sales', 'ТОП5 жанров Северной америки')\n",
    "#na_sales_genre\n",
    "\n",
    "eu_sales_genre = top_in_regions('genre', 'eu_sales', 'ТОП5 жанров Европы')\n",
    "#eu_sales_genre\n",
    "\n",
    "jp_sales_genre = top_in_regions('genre', 'jp_sales', 'ТОП5 жанров Японии')\n",
    "#jp_sales_genre"
   ]
  },
  {
   "cell_type": "code",
   "execution_count": 50,
   "id": "06aadae2",
   "metadata": {},
   "outputs": [
    {
     "data": {
      "text/html": [
       "<div>\n",
       "<style scoped>\n",
       "    .dataframe tbody tr th:only-of-type {\n",
       "        vertical-align: middle;\n",
       "    }\n",
       "\n",
       "    .dataframe tbody tr th {\n",
       "        vertical-align: top;\n",
       "    }\n",
       "\n",
       "    .dataframe thead th {\n",
       "        text-align: right;\n",
       "    }\n",
       "</style>\n",
       "<table border=\"1\" class=\"dataframe\">\n",
       "  <thead>\n",
       "    <tr style=\"text-align: right;\">\n",
       "      <th></th>\n",
       "      <th>genre</th>\n",
       "      <th>eu_sales</th>\n",
       "      <th>na_sales</th>\n",
       "      <th>jp_sales</th>\n",
       "    </tr>\n",
       "  </thead>\n",
       "  <tbody>\n",
       "    <tr>\n",
       "      <th>0</th>\n",
       "      <td>action</td>\n",
       "      <td>74.68</td>\n",
       "      <td>72.53</td>\n",
       "      <td>29.58</td>\n",
       "    </tr>\n",
       "    <tr>\n",
       "      <th>1</th>\n",
       "      <td>shooter</td>\n",
       "      <td>65.52</td>\n",
       "      <td>79.02</td>\n",
       "      <td>4.87</td>\n",
       "    </tr>\n",
       "    <tr>\n",
       "      <th>2</th>\n",
       "      <td>sports</td>\n",
       "      <td>45.73</td>\n",
       "      <td>46.13</td>\n",
       "      <td>NaN</td>\n",
       "    </tr>\n",
       "    <tr>\n",
       "      <th>3</th>\n",
       "      <td>role-playing</td>\n",
       "      <td>28.17</td>\n",
       "      <td>33.47</td>\n",
       "      <td>31.16</td>\n",
       "    </tr>\n",
       "    <tr>\n",
       "      <th>4</th>\n",
       "      <td>racing</td>\n",
       "      <td>14.13</td>\n",
       "      <td>NaN</td>\n",
       "      <td>NaN</td>\n",
       "    </tr>\n",
       "    <tr>\n",
       "      <th>5</th>\n",
       "      <td>misc</td>\n",
       "      <td>NaN</td>\n",
       "      <td>15.05</td>\n",
       "      <td>5.61</td>\n",
       "    </tr>\n",
       "    <tr>\n",
       "      <th>6</th>\n",
       "      <td>fighting</td>\n",
       "      <td>NaN</td>\n",
       "      <td>NaN</td>\n",
       "      <td>6.37</td>\n",
       "    </tr>\n",
       "  </tbody>\n",
       "</table>\n",
       "</div>"
      ],
      "text/plain": [
       "          genre  eu_sales  na_sales  jp_sales\n",
       "0        action     74.68     72.53     29.58\n",
       "1       shooter     65.52     79.02      4.87\n",
       "2        sports     45.73     46.13       NaN\n",
       "3  role-playing     28.17     33.47     31.16\n",
       "4        racing     14.13       NaN       NaN\n",
       "5          misc       NaN     15.05      5.61\n",
       "6      fighting       NaN       NaN      6.37"
      ]
     },
     "execution_count": 50,
     "metadata": {},
     "output_type": "execute_result"
    }
   ],
   "source": [
    "#Соединяем полученные выше таблицы(топ5)\n",
    "genre_merge = pd.merge(na_sales_genre, jp_sales_genre, how=\"outer\", on=\"genre\")\n",
    "genre_merge = pd.merge(eu_sales_genre, genre_merge, how='outer', on='genre')\n",
    "genre_merge"
   ]
  },
  {
   "cell_type": "code",
   "execution_count": 51,
   "id": "2cb24e59",
   "metadata": {
    "scrolled": false
   },
   "outputs": [
    {
     "data": {
      "image/png": "[encoded data removed]",
      "text/plain": [
       "<Figure size 864x504 with 1 Axes>"
      ]
     },
     "metadata": {},
     "output_type": "display_data"
    }
   ],
   "source": [
    "x = np.arange(len(genre_merge['genre']))  \n",
    "width = 0.35  \n",
    "\n",
    "fig, ax = plt.subplots(figsize=(12, 7))\n",
    "rects1 = ax.bar(x - width/2, genre_merge['na_sales'], width, label='Топ Северной Америки')\n",
    "rects2 = ax.bar(x + width/2,  genre_merge['eu_sales'], width, label='Топ Европы')\n",
    "rects3 = ax.bar(x + width, genre_merge['jp_sales'], width, label='Топ Японии')\n",
    "\n",
    "\n",
    "ax.set_title('Топ жанров по регионам')\n",
    "ax.set_xticks(x, genre_merge['genre'])\n",
    "ax.legend(loc='upper right', borderaxespad=0)\n",
    "\n",
    "ax.bar_label(rects1, padding=4)\n",
    "ax.bar_label(rects2, padding=0)\n",
    "ax.bar_label(rects3, padding=3)\n",
    "\n",
    "fig.tight_layout()\n",
    "\n",
    "plt.show()"
   ]
  },
  {
   "cell_type": "markdown",
   "id": "7ce3e7da",
   "metadata": {},
   "source": [
    "**В `NA` и `EU` самые популярные жанры практически совпадают. Отличаются лишь пятые места в `NA` это `Misc`, а в `EU` это `Racing` так же выделим что жанр `Racing` отсуствует в топ 5 `NA и JP`. \n",
    "В `JP` же вкусы сильно отличаются от `NA и EU`, на первом месте стоит жанр `role-playing`, жанр `Shooter` на последнем месте в отличии от `NA и EU`, где он лидирует**\n",
    "\n",
    "-----------------------\n",
    "\n",
    "**Влияет ли рейтинг ESRB на продажи в отдельном регионе?**"
   ]
  },
  {
   "cell_type": "code",
   "execution_count": 52,
   "id": "9cba060d",
   "metadata": {},
   "outputs": [
    {
     "name": "stdout",
     "output_type": "stream",
     "text": [
      "Рейтинг в Северной Америке\n"
     ]
    },
    {
     "data": {
      "text/html": [
       "<div>\n",
       "<style scoped>\n",
       "    .dataframe tbody tr th:only-of-type {\n",
       "        vertical-align: middle;\n",
       "    }\n",
       "\n",
       "    .dataframe tbody tr th {\n",
       "        vertical-align: top;\n",
       "    }\n",
       "\n",
       "    .dataframe thead th {\n",
       "        text-align: right;\n",
       "    }\n",
       "</style>\n",
       "<table border=\"1\" class=\"dataframe\">\n",
       "  <thead>\n",
       "    <tr style=\"text-align: right;\">\n",
       "      <th></th>\n",
       "      <th>rating</th>\n",
       "      <th>na_sales</th>\n",
       "    </tr>\n",
       "  </thead>\n",
       "  <tbody>\n",
       "    <tr>\n",
       "      <th>0</th>\n",
       "      <td>m</td>\n",
       "      <td>96.42</td>\n",
       "    </tr>\n",
       "    <tr>\n",
       "      <th>1</th>\n",
       "      <td>tbd</td>\n",
       "      <td>64.72</td>\n",
       "    </tr>\n",
       "    <tr>\n",
       "      <th>2</th>\n",
       "      <td>e</td>\n",
       "      <td>50.74</td>\n",
       "    </tr>\n",
       "    <tr>\n",
       "      <th>3</th>\n",
       "      <td>t</td>\n",
       "      <td>38.95</td>\n",
       "    </tr>\n",
       "    <tr>\n",
       "      <th>4</th>\n",
       "      <td>e10+</td>\n",
       "      <td>33.23</td>\n",
       "    </tr>\n",
       "  </tbody>\n",
       "</table>\n",
       "</div>"
      ],
      "text/plain": [
       "  rating  na_sales\n",
       "0      m     96.42\n",
       "1    tbd     64.72\n",
       "2      e     50.74\n",
       "3      t     38.95\n",
       "4   e10+     33.23"
      ]
     },
     "metadata": {},
     "output_type": "display_data"
    },
    {
     "name": "stdout",
     "output_type": "stream",
     "text": [
      "___________________\n",
      "\n",
      "Рейтинг в Европе\n"
     ]
    },
    {
     "data": {
      "text/html": [
       "<div>\n",
       "<style scoped>\n",
       "    .dataframe tbody tr th:only-of-type {\n",
       "        vertical-align: middle;\n",
       "    }\n",
       "\n",
       "    .dataframe tbody tr th {\n",
       "        vertical-align: top;\n",
       "    }\n",
       "\n",
       "    .dataframe thead th {\n",
       "        text-align: right;\n",
       "    }\n",
       "</style>\n",
       "<table border=\"1\" class=\"dataframe\">\n",
       "  <thead>\n",
       "    <tr style=\"text-align: right;\">\n",
       "      <th></th>\n",
       "      <th>rating</th>\n",
       "      <th>eu_sales</th>\n",
       "    </tr>\n",
       "  </thead>\n",
       "  <tbody>\n",
       "    <tr>\n",
       "      <th>0</th>\n",
       "      <td>m</td>\n",
       "      <td>93.44</td>\n",
       "    </tr>\n",
       "    <tr>\n",
       "      <th>1</th>\n",
       "      <td>tbd</td>\n",
       "      <td>58.95</td>\n",
       "    </tr>\n",
       "    <tr>\n",
       "      <th>2</th>\n",
       "      <td>e</td>\n",
       "      <td>58.06</td>\n",
       "    </tr>\n",
       "    <tr>\n",
       "      <th>3</th>\n",
       "      <td>t</td>\n",
       "      <td>34.07</td>\n",
       "    </tr>\n",
       "    <tr>\n",
       "      <th>4</th>\n",
       "      <td>e10+</td>\n",
       "      <td>26.16</td>\n",
       "    </tr>\n",
       "  </tbody>\n",
       "</table>\n",
       "</div>"
      ],
      "text/plain": [
       "  rating  eu_sales\n",
       "0      m     93.44\n",
       "1    tbd     58.95\n",
       "2      e     58.06\n",
       "3      t     34.07\n",
       "4   e10+     26.16"
      ]
     },
     "metadata": {},
     "output_type": "display_data"
    },
    {
     "name": "stdout",
     "output_type": "stream",
     "text": [
      "___________________\n",
      "\n",
      "Рейтинг в Японии\n"
     ]
    },
    {
     "data": {
      "text/html": [
       "<div>\n",
       "<style scoped>\n",
       "    .dataframe tbody tr th:only-of-type {\n",
       "        vertical-align: middle;\n",
       "    }\n",
       "\n",
       "    .dataframe tbody tr th {\n",
       "        vertical-align: top;\n",
       "    }\n",
       "\n",
       "    .dataframe thead th {\n",
       "        text-align: right;\n",
       "    }\n",
       "</style>\n",
       "<table border=\"1\" class=\"dataframe\">\n",
       "  <thead>\n",
       "    <tr style=\"text-align: right;\">\n",
       "      <th></th>\n",
       "      <th>rating</th>\n",
       "      <th>jp_sales</th>\n",
       "    </tr>\n",
       "  </thead>\n",
       "  <tbody>\n",
       "    <tr>\n",
       "      <th>0</th>\n",
       "      <td>tbd</td>\n",
       "      <td>56.90</td>\n",
       "    </tr>\n",
       "    <tr>\n",
       "      <th>1</th>\n",
       "      <td>t</td>\n",
       "      <td>14.78</td>\n",
       "    </tr>\n",
       "    <tr>\n",
       "      <th>2</th>\n",
       "      <td>e</td>\n",
       "      <td>8.94</td>\n",
       "    </tr>\n",
       "    <tr>\n",
       "      <th>3</th>\n",
       "      <td>m</td>\n",
       "      <td>8.01</td>\n",
       "    </tr>\n",
       "    <tr>\n",
       "      <th>4</th>\n",
       "      <td>e10+</td>\n",
       "      <td>4.46</td>\n",
       "    </tr>\n",
       "  </tbody>\n",
       "</table>\n",
       "</div>"
      ],
      "text/plain": [
       "  rating  jp_sales\n",
       "0    tbd     56.90\n",
       "1      t     14.78\n",
       "2      e      8.94\n",
       "3      m      8.01\n",
       "4   e10+      4.46"
      ]
     },
     "metadata": {},
     "output_type": "display_data"
    },
    {
     "name": "stdout",
     "output_type": "stream",
     "text": [
      "___________________\n",
      "\n"
     ]
    }
   ],
   "source": [
    "na_sales_rating = top_in_regions('rating', 'na_sales', 'Рейтинг в Северной Америке')\n",
    "#na_sales_rating\n",
    "\n",
    "eu_sales_rating = top_in_regions('rating', 'eu_sales', 'Рейтинг в Европе')\n",
    "#eu_sales_rating\n",
    "\n",
    "jp_sales_rating = top_in_regions('rating', 'jp_sales', 'Рейтинг в Японии')\n",
    "#jp_sales_rating"
   ]
  },
  {
   "cell_type": "code",
   "execution_count": 53,
   "id": "670b4c26",
   "metadata": {
    "scrolled": false
   },
   "outputs": [
    {
     "data": {
      "text/html": [
       "<div>\n",
       "<style scoped>\n",
       "    .dataframe tbody tr th:only-of-type {\n",
       "        vertical-align: middle;\n",
       "    }\n",
       "\n",
       "    .dataframe tbody tr th {\n",
       "        vertical-align: top;\n",
       "    }\n",
       "\n",
       "    .dataframe thead th {\n",
       "        text-align: right;\n",
       "    }\n",
       "</style>\n",
       "<table border=\"1\" class=\"dataframe\">\n",
       "  <thead>\n",
       "    <tr style=\"text-align: right;\">\n",
       "      <th></th>\n",
       "      <th>rating</th>\n",
       "      <th>eu_sales</th>\n",
       "      <th>na_sales</th>\n",
       "      <th>jp_sales</th>\n",
       "    </tr>\n",
       "  </thead>\n",
       "  <tbody>\n",
       "    <tr>\n",
       "      <th>0</th>\n",
       "      <td>m</td>\n",
       "      <td>93.44</td>\n",
       "      <td>96.42</td>\n",
       "      <td>8.01</td>\n",
       "    </tr>\n",
       "    <tr>\n",
       "      <th>1</th>\n",
       "      <td>tbd</td>\n",
       "      <td>58.95</td>\n",
       "      <td>64.72</td>\n",
       "      <td>56.90</td>\n",
       "    </tr>\n",
       "    <tr>\n",
       "      <th>2</th>\n",
       "      <td>e</td>\n",
       "      <td>58.06</td>\n",
       "      <td>50.74</td>\n",
       "      <td>8.94</td>\n",
       "    </tr>\n",
       "    <tr>\n",
       "      <th>3</th>\n",
       "      <td>t</td>\n",
       "      <td>34.07</td>\n",
       "      <td>38.95</td>\n",
       "      <td>14.78</td>\n",
       "    </tr>\n",
       "    <tr>\n",
       "      <th>4</th>\n",
       "      <td>e10+</td>\n",
       "      <td>26.16</td>\n",
       "      <td>33.23</td>\n",
       "      <td>4.46</td>\n",
       "    </tr>\n",
       "  </tbody>\n",
       "</table>\n",
       "</div>"
      ],
      "text/plain": [
       "  rating  eu_sales  na_sales  jp_sales\n",
       "0      m     93.44     96.42      8.01\n",
       "1    tbd     58.95     64.72     56.90\n",
       "2      e     58.06     50.74      8.94\n",
       "3      t     34.07     38.95     14.78\n",
       "4   e10+     26.16     33.23      4.46"
      ]
     },
     "execution_count": 53,
     "metadata": {},
     "output_type": "execute_result"
    }
   ],
   "source": [
    "#Соединяем полученные выше таблицы(топ5)\n",
    "rating_merge = pd.merge(na_sales_rating, jp_sales_rating, how=\"outer\", on=\"rating\")\n",
    "rating_merge = pd.merge(eu_sales_rating, rating_merge, how='outer', on='rating')\n",
    "rating_merge"
   ]
  },
  {
   "cell_type": "code",
   "execution_count": 54,
   "id": "80a6b4b8",
   "metadata": {},
   "outputs": [
    {
     "data": {
      "image/png": "[encoded data removed]",
      "text/plain": [
       "<Figure size 864x504 with 1 Axes>"
      ]
     },
     "metadata": {},
     "output_type": "display_data"
    }
   ],
   "source": [
    "x = np.arange(len(rating_merge['rating']))  \n",
    "width = 0.35  \n",
    "\n",
    "fig, ax = plt.subplots(figsize=(12,7))\n",
    "rects1 = ax.bar(x - width/2, rating_merge['na_sales'], width, label='Топ Северной Америки')\n",
    "rects2 = ax.bar(x + width/2,  rating_merge['eu_sales'], width, label='Топ Европы')\n",
    "rects3 = ax.bar(x + width, rating_merge['jp_sales'], width, label='Топ Японии')\n",
    "\n",
    "\n",
    "ax.set_title('Топ рейтинга по регионам')\n",
    "ax.set_xticks(x, rating_merge['rating'])\n",
    "ax.legend(loc='upper right', borderaxespad=0)\n",
    "\n",
    "ax.bar_label(rects1, padding=4)\n",
    "ax.bar_label(rects2, padding=1)\n",
    "ax.bar_label(rects3, padding=0)\n",
    "\n",
    "fig.tight_layout()\n",
    "\n",
    "plt.show()"
   ]
  },
  {
   "cell_type": "markdown",
   "id": "97522beb",
   "metadata": {},
   "source": [
    "**Описание значений рейтинга:** \n",
    "\n",
    "- «EC» («Early childhood») — «Для детей младшего возраста»:\n",
    "- «E» («Everyone») — «Для всех»\n",
    "- «E10+» («Everyone 10 and older») — «Для всех от 10 лет и старше»\n",
    "- «T» («Teen») — «Подросткам»\n",
    "- «M» («Mature») — «Для взрослых»\n",
    "- «AO» («Adults Only 18+») — «Только для взрослых»\n",
    "- \"K-A\" for Kids to Adults: Games that contain content that is suitable for a general audience. This rating was used until the year 1998 when it renamed to E.\n",
    "- tbd - не определен"
   ]
  },
  {
   "cell_type": "markdown",
   "id": "50beea78",
   "metadata": {},
   "source": [
    "**На первом месте в `JP` рейтинг `tbd` (не определен) возможно это потому что в Японии своя система возрастных рейтингов вместо `ESRB` у них `CERO`, поэтому не все игры подвреглись присваению рейтинга от ассоциации. В `NA и EU` в лидерах игры с рейтингом `Для взрослых`.**"
   ]
  },
  {
   "cell_type": "markdown",
   "id": "e7e82e4e",
   "metadata": {},
   "source": [
    "**Вывод**\n",
    "\n",
    "Самые популярные игровые платформы в *Северной Америке* это: `PS4, XONE, X360, PS3, 3DS`. Топ 5 жанров в северной америке : `shooter, action, sports, role-playing, misc`. По рейтингам видно, что больше всего продаж у игр с рейтингом `Для взрослых`, так же в топе игры с рейтингом `Для всех` и игры с рейтингом `Подросткам`.\n",
    "\n",
    "Самые популярные игровые платформы в *Европе* это: `PS4, XONE, PS3, PC, 3DS`. Топ 5 жанров в Европе : `action, shooter, sports, role-playing, racing`. По рейтингам видно, что больше всего продаж у игр с рейтингом `Для взрослых`, так же в топе игры с рейтингом `Для всех` и игры с рейтингом `Подросткам`.\n",
    "\n",
    "Самые популярные игровые платформы в *Японии* это: `3DS, PS4, PSV, PS3, WiiU`. Топ 5 жанров в Японии : `Role-Playing, action, fighting, misc, shooter`. По рейтингам видно, что больше всего продаж у игр с рейтингом `Подросткам`, так же игры с рейтингом `Для всех` и игры с рейтингом `Для взрослых`.\n",
    "\n",
    "Для прогноза будущих мы взяли данные за последние 2 года, так как технологии стремительно развиваются, а вкусы людей могут меняться очень быстро. Соответственно, для 2017 года большую часть прибыли будут приносить игры жанра `Shooter`, для платформы `PS4` и с рейтингом от 17 и выше. На втором месте по продажам разместятся игры жанра `Action`, для платформы `PS4` и с рейтингом \"для всех\". И замкнут тройку лидеров тоже игры жанра `Shooter` с тем же рейтингом от 17 и выше, но уже для платформы `XOne`.\n",
    "\n",
    "-----------------------------\n",
    "\n",
    "# Шаг 5.\n",
    "\n",
    "## Проверка гипотез:\n",
    "\n",
    "- Средние пользовательские рейтинги платформ Xbox One и PC одинаковые;\n",
    "- Средние пользовательские рейтинги жанров Action (англ. «действие», экшен-игры) и Sports (англ. «спортивные соревнования») разные\n",
    "\n",
    "--------------------------------\n",
    "### Проверка первой гипотезы\n",
    "\n",
    "*Нулевая гипотеза*: Средние пользовательские рейтинги платформ Xbox One и PC - `равны`\n",
    "\n",
    "*Альтернативная гипотеза*: Средний пользовательские рейтингни платформ Xbox One и PC - `НЕ равны`"
   ]
  },
  {
   "cell_type": "code",
   "execution_count": 55,
   "id": "63663afa",
   "metadata": {},
   "outputs": [
    {
     "data": {
      "text/plain": [
       "0"
      ]
     },
     "execution_count": 55,
     "metadata": {},
     "output_type": "execute_result"
    }
   ],
   "source": [
    "#Возьмем срез: актуальный период, без пропусков\n",
    "actual_period_df = actual_period_df.query('user_score.notna()')\n",
    "actual_period_df['user_score'].isna().sum()"
   ]
  },
  {
   "cell_type": "code",
   "execution_count": 56,
   "id": "d27ace13",
   "metadata": {
    "scrolled": true
   },
   "outputs": [
    {
     "name": "stdout",
     "output_type": "stream",
     "text": [
      "Средний рейтинг пользователей Xbox One 6.59\n",
      "Средний рейтинг пользователей PC 6.3\n"
     ]
    }
   ],
   "source": [
    "print('Средний рейтинг пользователей Xbox One', round(actual_period_df.query('platform == \"xone\"')['user_score'].mean(), 2))\n",
    "print('Средний рейтинг пользователей PC', round(actual_period_df.query('platform == \"pc\"')['user_score'].mean(), 2))"
   ]
  },
  {
   "cell_type": "code",
   "execution_count": 57,
   "id": "2ebff553",
   "metadata": {},
   "outputs": [
    {
     "name": "stdout",
     "output_type": "stream",
     "text": [
      "p-значение: 0.10450507919348415\n",
      "Не получилось отвергнуть нулевую гипотезу\n"
     ]
    }
   ],
   "source": [
    "alpha = .05 # критический уровень статистической значимости\n",
    "            # если p-value окажется меньше него - отвергнем гипотезу\n",
    "\n",
    "results = st.ttest_ind(\n",
    "    actual_period_df.query('platform == \"xone\"')['user_score'], \n",
    "    actual_period_df.query('platform == \"pc\"')['user_score'])\n",
    "\n",
    "print('p-значение:', results.pvalue)\n",
    "\n",
    "if (results.pvalue < alpha):\n",
    "    print(\"Отвергаем нулевую гипотезу\")\n",
    "else:\n",
    "    print(\"Не получилось отвергнуть нулевую гипотезу\")"
   ]
  },
  {
   "cell_type": "markdown",
   "id": "345bc9b7",
   "metadata": {},
   "source": [
    "**Тест показал, что нам не получилось отвергнуть нулевую гипотезу. Можем сделать вывод, что средние пользовательские рейтинги платформ Xbox One и PC равны!**"
   ]
  },
  {
   "cell_type": "markdown",
   "id": "72c47f35",
   "metadata": {},
   "source": [
    "------------------------\n",
    "\n",
    "### Проверка второй гипотезы\n",
    "\n",
    "*Нулевая гипотеза*: Средние пользовательские рейтинги жанров Action и Sports - `равны`\n",
    "\n",
    "*Альтернативная гипотеза*: Средние пользовательские рейтинги жанров Action  и Sports - `НЕ равны`"
   ]
  },
  {
   "cell_type": "code",
   "execution_count": 58,
   "id": "6a94dc5d",
   "metadata": {},
   "outputs": [
    {
     "name": "stdout",
     "output_type": "stream",
     "text": [
      "Средний рейтинг пользователей Action 6.76\n",
      "Средний рейтинг пользователей Sports 5.23\n"
     ]
    }
   ],
   "source": [
    "print('Средний рейтинг пользователей Action', round(actual_period_df.query('genre == \"action\"')['user_score'].mean(), 2))\n",
    "print('Средний рейтинг пользователей Sports', round(actual_period_df.query('genre == \"sports\"')['user_score'].mean(), 2))"
   ]
  },
  {
   "cell_type": "code",
   "execution_count": 59,
   "id": "aefe93bd",
   "metadata": {},
   "outputs": [
    {
     "name": "stdout",
     "output_type": "stream",
     "text": [
      "p-значение: 2.8711147985105864e-19\n",
      "Отвергаем нулевую гипотезу\n"
     ]
    }
   ],
   "source": [
    "alpha = .05 # критический уровень статистической значимости\n",
    "            # если p-value окажется меньше него - отвергнем гипотезу\n",
    "\n",
    "results = st.ttest_ind(\n",
    "    actual_period_df.query('genre == \"action\"')['user_score'], \n",
    "    actual_period_df.query('genre == \"sports\"')['user_score'])\n",
    "\n",
    "print('p-значение:', results.pvalue)\n",
    "\n",
    "if (results.pvalue < alpha):\n",
    "    print(\"Отвергаем нулевую гипотезу\")\n",
    "else:\n",
    "    print(\"Не получилось отвергнуть нулевую гипотезу\")"
   ]
  },
  {
   "cell_type": "markdown",
   "id": "bb8c6906",
   "metadata": {},
   "source": [
    "**Тест показал, что мы отвергаем нулевую гипотезу. Можем сделать вывод, что средние пользовательские рейтинги жанров Action и Sports разные.**\n",
    "\n",
    "-------------\n",
    "\n",
    "### Вывод\n",
    " \n",
    " **Проверили гипотезы по функции ttest_ind, вычисляющей t-тест двух независимых выборок:**\n",
    "\n",
    "- Гипотеза: \"Средние пользовательские рейтинги платформ Xbox one и PC одинаковые\". Не получилось отвергнуть нулевую гипотезу\n",
    "\n",
    "- Гипотеза: \"Средние пользовательские рейтинги жанров Action и Sports разные\". Отвергаем нулевую гипотезу."
   ]
  },
  {
   "cell_type": "markdown",
   "id": "390355d9",
   "metadata": {},
   "source": [
    "# Шаг 6.\n",
    "\n",
    "## Общий вывод\n",
    "\n",
    "Данные которые изначально были нам данны, имели пропуски, неправльные типы столбцов. Сначала я привел названия столбцов к нижнему регистру, избавился от пропусков, изменил типы столбцов.\n",
    "\n",
    "Затем приступил к иследовательскому анализу данных:\n",
    "- Посмотрел сколько игр выпускалось в разные года: \n",
    "\n",
    "*Начиная с 1990 года количество выпущенных игр начало значительно увеличиваться, пик выпущенных игр пришелся на 2007-2010 года. Начиная с 2000 года количество выпущенных игр в год не опускалось ниже 400 игр в год. Увеличение релизов еще связано с тем, что увеличивалось число различных платформ и некоторые игры выпускались сразу на нескольких платформах.*\n",
    "\n",
    "- Посмотрел, как менялись продажи по платформам:\n",
    "\n",
    "*В среднем платформы популярны 8-10 лет. На смену одной платформе приходит другая, допустим в начале 2000х PS теряет популярность, потому что производитель Sony выпускает PS2 и так далее и по сей день.*\n",
    "\n",
    "- Посмотрел какие платформы лидируют по продажам в актуальном периоде:\n",
    "\n",
    "*Взглянув на диаграммы распределения, можно сделать вывод, что среди платформ уверенно лидирует Ps4, так же видим, как в период с 2014-2015 год на смену старым версиям приставок x360 и ps3 пришло новое поколение приставок Ps4 и xone. Данные за 2016 год немного искажают видимость, потому что в базе данных представлен не весь год.*\n",
    "\n",
    "- Собрал график «ящик с усами» по глобальным продажам игр в разбивке по платформам:\n",
    "\n",
    "*Больше всех продаж у WiiU и XOne, далее идут PS4, 3DS, PC и PSV на последнем месте. Исходя из графиков и описания видно, что медиана протекает у всех по разному.Успех WiiU можно понять по причине цен относительно остальных приставок, в кризис 2008 года, Wii была спасением для многих семей, на консоль была поставлена цена в 200 долларов, в отличии от Xbox 360 и PS3 за 300долларов и 500долларов соответственно. Положение Xbox One и PlayStation 4 можно объяснить тем, что данные приставки позднее остальных вышли на рынки. Часть стран увидела их в конце 2013, часть только во второй половине 2014.\n",
    "ПК на данном промежутке времени отошли на второй план, уступив место приставкам.*\n",
    "\n",
    "- Посмотрел, как влияют на продажи внутри одной популярной платформы отзывы пользователей и критиков:\n",
    "\n",
    "*Корреляция между total_sales и user_score отрицательная, почти нулевая. Игры, у которых высокая оценка критиков как правило лучше продаются, есть игры, которые продаются не так хорошо, но имеют высокую оценку пользователей. Корреляция между total_sales и critic_score равна 0.4, что ожидаемо, мы углядели эту зависимость на графике.*\n",
    "\n",
    "- Соотнесли выводы с продажами игр на других платформах:\n",
    "\n",
    "*У PS4, Xbox One, WiiU наблюдается связь между оценками критиков и продажами. А связь между оценками пользователей и продажами отрицательная у PS4, Xbox One, либо её совсем нет. Только у WiiU корреляция между отзывами пользователей и продажами положительная. Это говорит о том, что покупатели прислушиваются больше к критикам, нежели к оценкам других пользователей. Но, опять же, пользователи платформы WiiU: смотрят на оценки других пользователей.*\n",
    "\n",
    "- Посмотрел на общее распределение игра по жанрам:\n",
    "\n",
    "*Самые продаваемые игры жанров: Shooter, Role-Playing, Action. При этом дисперсия жанра Shooter самая большая из всех жанров, а Action имеет самую маленькую дисперсию. Хуже всего в актуальном периоде продаются игры Puzzle, Adventure и Strategy, они имеют самый маленький размах и не имеют игр-хитов. Получается, что жанры с большим количеством продаж выделяются из общего распределения наличием большого числа игр-хитов, а игры с малым количеством продаж не могут похвастаться бестселлерами..*\n",
    "\n",
    "**Портрет пользовтаеля для каждого региона:**\n",
    "\n",
    "Если брать данные за последние 2 года (2014-2016):\n",
    "\n",
    "**в Северной Америке:**\n",
    "\n",
    "- Топ игровых платформ выглядит так: PS4, Xone, X360;\n",
    "- Топ Жанров игр: Shooter, Action, Sports;\n",
    "- Топ Рейтингов игр: \"Для взрослых\" , \"Подросткам\" и \"Для всех\".\n",
    "\n",
    "**В Европейском Союзе:**\n",
    "\n",
    "- Топ игровых платформ : PS4, Xone, PC;\n",
    "- Топ жанров: Shooter, Sports, Action;\n",
    "- Топ рейтингов: \"Для врзослых\", \"Для всех\", \"Подросткам\".\n",
    "\n",
    "**В Японии:**\n",
    "\n",
    "- Топ игровых платформ : 3DS, PS4, PSV;\n",
    "- Топ жанров: Action, Role-playing, Fighting;\n",
    "- Топ рейтингов: \"Подросткам\", \"Для всех\", \"Для взрослых\".\n",
    "\n",
    "**Проверили гипотезы:**\n",
    "\n",
    "Средние пользовательские рейтинги платформ Xbox One и PC равны - `Подтвердилась`\n",
    "\n",
    "Средние пользовательские рейтинги жанров Action и Sports разные -  `Подтвердилась`"
   ]
  }
 ],
 "metadata": {
  "ExecuteTimeLog": [
   {
    "duration": 1204,
    "start_time": "2022-11-22T14:39:12.061Z"
   },
   {
    "duration": 102,
    "start_time": "2022-11-22T14:39:13.267Z"
   },
   {
    "duration": 15,
    "start_time": "2022-11-22T14:39:13.370Z"
   },
   {
    "duration": 819,
    "start_time": "2022-11-22T14:39:13.387Z"
   },
   {
    "duration": 44,
    "start_time": "2022-11-22T14:39:14.208Z"
   },
   {
    "duration": 14,
    "start_time": "2022-11-22T14:39:14.254Z"
   },
   {
    "duration": 52,
    "start_time": "2022-11-22T14:39:14.270Z"
   },
   {
    "duration": 5,
    "start_time": "2022-11-22T14:48:04.853Z"
   },
   {
    "duration": 177,
    "start_time": "2022-11-22T14:48:04.860Z"
   },
   {
    "duration": 17,
    "start_time": "2022-11-22T14:48:05.039Z"
   },
   {
    "duration": 832,
    "start_time": "2022-11-22T14:48:05.058Z"
   },
   {
    "duration": 39,
    "start_time": "2022-11-22T14:48:05.893Z"
   },
   {
    "duration": 35,
    "start_time": "2022-11-22T14:48:05.933Z"
   },
   {
    "duration": 26,
    "start_time": "2022-11-22T14:48:05.970Z"
   },
   {
    "duration": 6,
    "start_time": "2022-11-22T14:48:05.998Z"
   },
   {
    "duration": 64,
    "start_time": "2022-11-22T14:48:06.005Z"
   },
   {
    "duration": 25,
    "start_time": "2022-11-22T14:48:06.071Z"
   },
   {
    "duration": 122,
    "start_time": "2022-11-22T14:48:06.100Z"
   },
   {
    "duration": 9,
    "start_time": "2022-11-22T14:48:06.224Z"
   },
   {
    "duration": 29,
    "start_time": "2022-11-22T14:48:06.235Z"
   },
   {
    "duration": 25,
    "start_time": "2022-11-22T14:48:06.266Z"
   },
   {
    "duration": 5,
    "start_time": "2022-11-22T14:48:06.292Z"
   },
   {
    "duration": 12,
    "start_time": "2022-11-22T14:48:06.299Z"
   },
   {
    "duration": 40,
    "start_time": "2022-11-22T14:48:06.313Z"
   },
   {
    "duration": 24,
    "start_time": "2022-11-22T14:48:06.355Z"
   },
   {
    "duration": 234,
    "start_time": "2022-11-22T14:48:06.381Z"
   },
   {
    "duration": 7,
    "start_time": "2022-11-22T14:48:06.617Z"
   },
   {
    "duration": 374,
    "start_time": "2022-11-22T14:48:06.626Z"
   },
   {
    "duration": 5,
    "start_time": "2022-11-22T14:48:07.001Z"
   },
   {
    "duration": 1483,
    "start_time": "2022-11-22T14:48:07.007Z"
   },
   {
    "duration": 25,
    "start_time": "2022-11-22T14:48:08.492Z"
   },
   {
    "duration": 7,
    "start_time": "2022-11-22T14:48:08.519Z"
   },
   {
    "duration": 28,
    "start_time": "2022-11-22T14:48:08.527Z"
   },
   {
    "duration": 27,
    "start_time": "2022-11-22T14:48:08.557Z"
   },
   {
    "duration": 262,
    "start_time": "2022-11-22T14:48:08.586Z"
   },
   {
    "duration": 34,
    "start_time": "2022-11-22T14:56:14.366Z"
   },
   {
    "duration": 30,
    "start_time": "2022-11-22T14:56:22.086Z"
   },
   {
    "duration": 5,
    "start_time": "2022-11-22T14:57:22.639Z"
   },
   {
    "duration": 10,
    "start_time": "2022-11-22T15:04:57.397Z"
   },
   {
    "duration": 8,
    "start_time": "2022-11-22T15:05:12.821Z"
   },
   {
    "duration": 7,
    "start_time": "2022-11-22T15:05:26.236Z"
   },
   {
    "duration": 10,
    "start_time": "2022-11-22T15:05:40.254Z"
   },
   {
    "duration": 7,
    "start_time": "2022-11-22T15:06:21.385Z"
   },
   {
    "duration": 4,
    "start_time": "2022-11-22T15:10:08.976Z"
   },
   {
    "duration": 111,
    "start_time": "2022-11-22T15:10:08.983Z"
   },
   {
    "duration": 16,
    "start_time": "2022-11-22T15:10:09.096Z"
   },
   {
    "duration": 1134,
    "start_time": "2022-11-22T15:10:09.114Z"
   },
   {
    "duration": 35,
    "start_time": "2022-11-22T15:10:10.250Z"
   },
   {
    "duration": 17,
    "start_time": "2022-11-22T15:10:10.288Z"
   },
   {
    "duration": 53,
    "start_time": "2022-11-22T15:10:10.308Z"
   },
   {
    "duration": 6,
    "start_time": "2022-11-22T15:10:10.363Z"
   },
   {
    "duration": 50,
    "start_time": "2022-11-22T15:10:10.373Z"
   },
   {
    "duration": 34,
    "start_time": "2022-11-22T15:10:10.428Z"
   },
   {
    "duration": 8,
    "start_time": "2022-11-22T15:10:10.465Z"
   },
   {
    "duration": 22,
    "start_time": "2022-11-22T15:10:10.475Z"
   },
   {
    "duration": 141,
    "start_time": "2022-11-22T15:10:10.500Z"
   },
   {
    "duration": 40,
    "start_time": "2022-11-22T15:10:10.642Z"
   },
   {
    "duration": 8,
    "start_time": "2022-11-22T15:10:10.684Z"
   },
   {
    "duration": 25,
    "start_time": "2022-11-22T15:10:10.694Z"
   },
   {
    "duration": 21,
    "start_time": "2022-11-22T15:10:10.721Z"
   },
   {
    "duration": 29,
    "start_time": "2022-11-22T15:10:10.751Z"
   },
   {
    "duration": 255,
    "start_time": "2022-11-22T15:10:10.782Z"
   },
   {
    "duration": 12,
    "start_time": "2022-11-22T15:10:11.039Z"
   },
   {
    "duration": 373,
    "start_time": "2022-11-22T15:10:11.053Z"
   },
   {
    "duration": 5,
    "start_time": "2022-11-22T15:10:11.428Z"
   },
   {
    "duration": 1374,
    "start_time": "2022-11-22T15:10:11.450Z"
   },
   {
    "duration": 35,
    "start_time": "2022-11-22T15:10:12.827Z"
   },
   {
    "duration": 7,
    "start_time": "2022-11-22T15:10:12.864Z"
   },
   {
    "duration": 10,
    "start_time": "2022-11-22T15:10:12.873Z"
   },
   {
    "duration": 32,
    "start_time": "2022-11-22T15:10:12.885Z"
   },
   {
    "duration": 265,
    "start_time": "2022-11-22T15:10:12.919Z"
   },
   {
    "duration": 5,
    "start_time": "2022-11-22T15:10:13.187Z"
   },
   {
    "duration": 1806,
    "start_time": "2022-11-22T15:10:13.194Z"
   },
   {
    "duration": 14,
    "start_time": "2022-11-22T15:10:15.003Z"
   },
   {
    "duration": 1711,
    "start_time": "2022-11-22T15:10:15.018Z"
   },
   {
    "duration": 20,
    "start_time": "2022-11-22T15:10:16.731Z"
   },
   {
    "duration": 1770,
    "start_time": "2022-11-22T15:10:16.753Z"
   },
   {
    "duration": 12,
    "start_time": "2022-11-22T15:10:18.525Z"
   },
   {
    "duration": 15,
    "start_time": "2022-11-22T15:10:18.539Z"
   },
   {
    "duration": 29,
    "start_time": "2022-11-22T15:10:18.556Z"
   },
   {
    "duration": 273,
    "start_time": "2022-11-22T15:10:18.587Z"
   },
   {
    "duration": 6,
    "start_time": "2022-11-22T15:10:18.862Z"
   },
   {
    "duration": 50,
    "start_time": "2022-11-22T15:10:18.871Z"
   },
   {
    "duration": 324,
    "start_time": "2022-11-22T15:10:18.922Z"
   },
   {
    "duration": 237,
    "start_time": "2022-11-22T15:11:10.794Z"
   },
   {
    "duration": 238,
    "start_time": "2022-11-22T15:11:31.020Z"
   },
   {
    "duration": 221,
    "start_time": "2022-11-22T15:11:35.770Z"
   },
   {
    "duration": 234,
    "start_time": "2022-11-22T15:11:44.754Z"
   },
   {
    "duration": 106,
    "start_time": "2022-11-22T15:15:32.573Z"
   },
   {
    "duration": 219,
    "start_time": "2022-11-22T15:15:39.237Z"
   },
   {
    "duration": 222,
    "start_time": "2022-11-22T15:15:53.991Z"
   },
   {
    "duration": 273,
    "start_time": "2022-11-22T15:16:10.126Z"
   },
   {
    "duration": 357,
    "start_time": "2022-11-22T15:16:19.863Z"
   },
   {
    "duration": 232,
    "start_time": "2022-11-22T15:16:30.365Z"
   },
   {
    "duration": 168,
    "start_time": "2022-11-22T15:18:20.042Z"
   },
   {
    "duration": 15,
    "start_time": "2022-11-22T15:18:59.632Z"
   },
   {
    "duration": 205,
    "start_time": "2022-11-22T15:19:09.640Z"
   },
   {
    "duration": 13,
    "start_time": "2022-11-22T15:19:12.964Z"
   },
   {
    "duration": 12,
    "start_time": "2022-11-22T15:23:18.002Z"
   },
   {
    "duration": 14,
    "start_time": "2022-11-22T15:23:19.163Z"
   },
   {
    "duration": 29,
    "start_time": "2022-11-22T15:23:36.002Z"
   },
   {
    "duration": 1184,
    "start_time": "2022-11-22T15:27:54.982Z"
   },
   {
    "duration": 110,
    "start_time": "2022-11-22T15:27:56.169Z"
   },
   {
    "duration": 16,
    "start_time": "2022-11-22T15:27:56.280Z"
   },
   {
    "duration": 810,
    "start_time": "2022-11-22T15:27:56.297Z"
   },
   {
    "duration": 44,
    "start_time": "2022-11-22T15:27:57.108Z"
   },
   {
    "duration": 15,
    "start_time": "2022-11-22T15:27:57.153Z"
   },
   {
    "duration": 55,
    "start_time": "2022-11-22T15:27:57.170Z"
   },
   {
    "duration": 25,
    "start_time": "2022-11-22T15:27:57.227Z"
   },
   {
    "duration": 24,
    "start_time": "2022-11-22T15:27:57.254Z"
   },
   {
    "duration": 22,
    "start_time": "2022-11-22T15:27:57.281Z"
   },
   {
    "duration": 10,
    "start_time": "2022-11-22T15:27:57.306Z"
   },
   {
    "duration": 33,
    "start_time": "2022-11-22T15:27:57.318Z"
   },
   {
    "duration": 20,
    "start_time": "2022-11-22T15:27:57.353Z"
   },
   {
    "duration": 26,
    "start_time": "2022-11-22T15:27:57.375Z"
   },
   {
    "duration": 5,
    "start_time": "2022-11-22T15:27:57.403Z"
   },
   {
    "duration": 14,
    "start_time": "2022-11-22T15:27:57.410Z"
   },
   {
    "duration": 51,
    "start_time": "2022-11-22T15:27:57.426Z"
   },
   {
    "duration": 22,
    "start_time": "2022-11-22T15:27:57.479Z"
   },
   {
    "duration": 236,
    "start_time": "2022-11-22T15:27:57.503Z"
   },
   {
    "duration": 13,
    "start_time": "2022-11-22T15:27:57.740Z"
   },
   {
    "duration": 358,
    "start_time": "2022-11-22T15:27:57.755Z"
   },
   {
    "duration": 5,
    "start_time": "2022-11-22T15:27:58.115Z"
   },
   {
    "duration": 1452,
    "start_time": "2022-11-22T15:27:58.122Z"
   },
   {
    "duration": 42,
    "start_time": "2022-11-22T15:27:59.579Z"
   },
   {
    "duration": 24,
    "start_time": "2022-11-22T15:27:59.623Z"
   },
   {
    "duration": 17,
    "start_time": "2022-11-22T15:27:59.650Z"
   },
   {
    "duration": 42,
    "start_time": "2022-11-22T15:27:59.669Z"
   },
   {
    "duration": 380,
    "start_time": "2022-11-22T15:27:59.717Z"
   },
   {
    "duration": 5,
    "start_time": "2022-11-22T15:28:00.099Z"
   },
   {
    "duration": 1794,
    "start_time": "2022-11-22T15:28:00.106Z"
   },
   {
    "duration": 14,
    "start_time": "2022-11-22T15:28:01.902Z"
   },
   {
    "duration": 1748,
    "start_time": "2022-11-22T15:28:01.918Z"
   },
   {
    "duration": 15,
    "start_time": "2022-11-22T15:28:03.668Z"
   },
   {
    "duration": 1636,
    "start_time": "2022-11-22T15:28:03.685Z"
   },
   {
    "duration": 13,
    "start_time": "2022-11-22T15:28:05.323Z"
   },
   {
    "duration": 9,
    "start_time": "2022-11-22T15:28:05.350Z"
   },
   {
    "duration": 27,
    "start_time": "2022-11-22T15:28:05.361Z"
   },
   {
    "duration": 280,
    "start_time": "2022-11-22T15:28:05.390Z"
   },
   {
    "duration": 5,
    "start_time": "2022-11-22T15:28:05.671Z"
   },
   {
    "duration": 178,
    "start_time": "2022-11-22T15:28:05.678Z"
   },
   {
    "duration": 238,
    "start_time": "2022-11-22T15:28:05.858Z"
   },
   {
    "duration": 35,
    "start_time": "2022-11-22T15:28:06.098Z"
   },
   {
    "duration": 247,
    "start_time": "2022-11-22T15:28:06.152Z"
   },
   {
    "duration": 51,
    "start_time": "2022-11-22T15:28:06.401Z"
   },
   {
    "duration": 216,
    "start_time": "2022-11-22T15:28:06.454Z"
   },
   {
    "duration": 13,
    "start_time": "2022-11-22T15:28:06.671Z"
   },
   {
    "duration": 12,
    "start_time": "2022-11-22T15:28:06.686Z"
   },
   {
    "duration": 21,
    "start_time": "2022-11-22T15:28:06.700Z"
   },
   {
    "duration": 37,
    "start_time": "2022-11-22T15:28:06.722Z"
   },
   {
    "duration": 1480,
    "start_time": "2022-11-25T17:33:53.633Z"
   },
   {
    "duration": 108,
    "start_time": "2022-11-25T17:33:55.122Z"
   },
   {
    "duration": 20,
    "start_time": "2022-11-25T17:33:55.232Z"
   },
   {
    "duration": 849,
    "start_time": "2022-11-25T17:33:55.254Z"
   },
   {
    "duration": 44,
    "start_time": "2022-11-25T17:33:56.105Z"
   },
   {
    "duration": 95,
    "start_time": "2022-11-25T17:33:56.151Z"
   },
   {
    "duration": 5,
    "start_time": "2022-11-25T17:33:56.248Z"
   },
   {
    "duration": 38,
    "start_time": "2022-11-25T17:33:56.255Z"
   },
   {
    "duration": 37,
    "start_time": "2022-11-25T17:33:56.295Z"
   },
   {
    "duration": 9,
    "start_time": "2022-11-25T17:33:56.336Z"
   },
   {
    "duration": 11,
    "start_time": "2022-11-25T17:33:56.347Z"
   },
   {
    "duration": 18,
    "start_time": "2022-11-25T17:33:56.361Z"
   },
   {
    "duration": 46,
    "start_time": "2022-11-25T17:33:56.380Z"
   },
   {
    "duration": 8,
    "start_time": "2022-11-25T17:33:56.429Z"
   },
   {
    "duration": 23,
    "start_time": "2022-11-25T17:33:56.439Z"
   },
   {
    "duration": 26,
    "start_time": "2022-11-25T17:33:56.466Z"
   },
   {
    "duration": 22,
    "start_time": "2022-11-25T17:33:56.494Z"
   },
   {
    "duration": 328,
    "start_time": "2022-11-25T17:33:56.518Z"
   },
   {
    "duration": 169,
    "start_time": "2022-11-25T17:33:56.848Z"
   },
   {
    "duration": 5,
    "start_time": "2022-11-25T17:33:57.019Z"
   },
   {
    "duration": 410,
    "start_time": "2022-11-25T17:33:57.026Z"
   },
   {
    "duration": 5,
    "start_time": "2022-11-25T17:33:57.437Z"
   },
   {
    "duration": 1440,
    "start_time": "2022-11-25T17:33:57.444Z"
   },
   {
    "duration": 45,
    "start_time": "2022-11-25T17:33:58.887Z"
   },
   {
    "duration": 5,
    "start_time": "2022-11-25T17:33:58.935Z"
   },
   {
    "duration": 292,
    "start_time": "2022-11-25T17:33:58.942Z"
   },
   {
    "duration": 5,
    "start_time": "2022-11-25T17:33:59.236Z"
   },
   {
    "duration": 794,
    "start_time": "2022-11-25T17:33:59.245Z"
   },
   {
    "duration": 5,
    "start_time": "2022-11-25T17:34:00.042Z"
   },
   {
    "duration": 15,
    "start_time": "2022-11-25T17:34:00.049Z"
   },
   {
    "duration": 56,
    "start_time": "2022-11-25T17:34:00.066Z"
   },
   {
    "duration": 268,
    "start_time": "2022-11-25T17:34:00.124Z"
   },
   {
    "duration": 374,
    "start_time": "2022-11-25T17:34:00.394Z"
   },
   {
    "duration": 1890,
    "start_time": "2022-11-25T17:34:00.769Z"
   },
   {
    "duration": 12,
    "start_time": "2022-11-25T17:34:02.661Z"
   },
   {
    "duration": 1870,
    "start_time": "2022-11-25T17:34:02.674Z"
   },
   {
    "duration": 11,
    "start_time": "2022-11-25T17:34:04.546Z"
   },
   {
    "duration": 1688,
    "start_time": "2022-11-25T17:34:04.559Z"
   },
   {
    "duration": 11,
    "start_time": "2022-11-25T17:34:06.249Z"
   },
   {
    "duration": 32,
    "start_time": "2022-11-25T17:34:06.261Z"
   },
   {
    "duration": 474,
    "start_time": "2022-11-25T17:34:06.295Z"
   },
   {
    "duration": 387,
    "start_time": "2022-11-25T17:34:06.772Z"
   },
   {
    "duration": 29,
    "start_time": "2022-11-25T17:34:07.161Z"
   },
   {
    "duration": 20,
    "start_time": "2022-11-25T17:34:07.214Z"
   },
   {
    "duration": 379,
    "start_time": "2022-11-25T17:34:07.236Z"
   },
   {
    "duration": 0,
    "start_time": "2022-11-25T17:34:07.621Z"
   },
   {
    "duration": 0,
    "start_time": "2022-11-25T17:34:07.622Z"
   },
   {
    "duration": 0,
    "start_time": "2022-11-25T17:34:07.623Z"
   },
   {
    "duration": 0,
    "start_time": "2022-11-25T17:34:07.624Z"
   },
   {
    "duration": 0,
    "start_time": "2022-11-25T17:34:07.625Z"
   },
   {
    "duration": 0,
    "start_time": "2022-11-25T17:34:07.626Z"
   },
   {
    "duration": 0,
    "start_time": "2022-11-25T17:34:07.627Z"
   },
   {
    "duration": 0,
    "start_time": "2022-11-25T17:34:07.628Z"
   },
   {
    "duration": 0,
    "start_time": "2022-11-25T17:34:07.629Z"
   },
   {
    "duration": 0,
    "start_time": "2022-11-25T17:34:07.631Z"
   },
   {
    "duration": 0,
    "start_time": "2022-11-25T17:34:07.632Z"
   },
   {
    "duration": 154,
    "start_time": "2022-11-25T17:35:37.339Z"
   },
   {
    "duration": 16,
    "start_time": "2022-11-25T17:35:41.649Z"
   },
   {
    "duration": 226,
    "start_time": "2022-11-25T17:35:43.082Z"
   },
   {
    "duration": 32,
    "start_time": "2022-11-25T17:36:13.074Z"
   },
   {
    "duration": 17,
    "start_time": "2022-11-25T17:36:18.038Z"
   },
   {
    "duration": 220,
    "start_time": "2022-11-25T17:36:19.162Z"
   },
   {
    "duration": 274,
    "start_time": "2022-11-26T08:54:26.460Z"
   },
   {
    "duration": 3,
    "start_time": "2022-11-26T09:11:32.008Z"
   },
   {
    "duration": 291,
    "start_time": "2022-11-26T09:16:35.516Z"
   },
   {
    "duration": 828,
    "start_time": "2022-11-26T09:16:35.808Z"
   },
   {
    "duration": 87,
    "start_time": "2022-11-26T09:16:36.637Z"
   },
   {
    "duration": 13,
    "start_time": "2022-11-26T09:16:36.725Z"
   },
   {
    "duration": 692,
    "start_time": "2022-11-26T09:16:36.740Z"
   },
   {
    "duration": 27,
    "start_time": "2022-11-26T09:16:37.433Z"
   },
   {
    "duration": 61,
    "start_time": "2022-11-26T09:16:37.461Z"
   },
   {
    "duration": 4,
    "start_time": "2022-11-26T09:16:37.524Z"
   },
   {
    "duration": 22,
    "start_time": "2022-11-26T09:16:37.530Z"
   },
   {
    "duration": 16,
    "start_time": "2022-11-26T09:16:37.554Z"
   },
   {
    "duration": 7,
    "start_time": "2022-11-26T09:16:37.571Z"
   },
   {
    "duration": 5,
    "start_time": "2022-11-26T09:16:37.579Z"
   },
   {
    "duration": 38,
    "start_time": "2022-11-26T09:16:37.585Z"
   },
   {
    "duration": 22,
    "start_time": "2022-11-26T09:16:37.624Z"
   },
   {
    "duration": 4,
    "start_time": "2022-11-26T09:16:37.647Z"
   },
   {
    "duration": 9,
    "start_time": "2022-11-26T09:16:37.652Z"
   },
   {
    "duration": 16,
    "start_time": "2022-11-26T09:16:37.662Z"
   },
   {
    "duration": 15,
    "start_time": "2022-11-26T09:16:37.679Z"
   },
   {
    "duration": 186,
    "start_time": "2022-11-26T09:16:37.721Z"
   },
   {
    "duration": 73,
    "start_time": "2022-11-26T09:16:37.908Z"
   },
   {
    "duration": 5,
    "start_time": "2022-11-26T09:16:37.983Z"
   },
   {
    "duration": 312,
    "start_time": "2022-11-26T09:16:37.989Z"
   },
   {
    "duration": 4,
    "start_time": "2022-11-26T09:16:38.302Z"
   },
   {
    "duration": 1198,
    "start_time": "2022-11-26T09:16:38.307Z"
   },
   {
    "duration": 28,
    "start_time": "2022-11-26T09:16:39.506Z"
   },
   {
    "duration": 4,
    "start_time": "2022-11-26T09:16:39.535Z"
   },
   {
    "duration": 168,
    "start_time": "2022-11-26T09:16:39.541Z"
   },
   {
    "duration": 10,
    "start_time": "2022-11-26T09:16:39.712Z"
   },
   {
    "duration": 630,
    "start_time": "2022-11-26T09:16:39.723Z"
   },
   {
    "duration": 4,
    "start_time": "2022-11-26T09:16:40.355Z"
   },
   {
    "duration": 19,
    "start_time": "2022-11-26T09:16:40.360Z"
   },
   {
    "duration": 31,
    "start_time": "2022-11-26T09:16:40.380Z"
   },
   {
    "duration": 215,
    "start_time": "2022-11-26T09:16:40.413Z"
   },
   {
    "duration": 204,
    "start_time": "2022-11-26T09:16:40.629Z"
   },
   {
    "duration": 1629,
    "start_time": "2022-11-26T09:16:40.834Z"
   },
   {
    "duration": 10,
    "start_time": "2022-11-26T09:16:42.465Z"
   },
   {
    "duration": 1448,
    "start_time": "2022-11-26T09:16:42.476Z"
   },
   {
    "duration": 10,
    "start_time": "2022-11-26T09:16:43.925Z"
   },
   {
    "duration": 1477,
    "start_time": "2022-11-26T09:16:43.937Z"
   },
   {
    "duration": 11,
    "start_time": "2022-11-26T09:16:45.420Z"
   },
   {
    "duration": 29,
    "start_time": "2022-11-26T09:16:45.432Z"
   },
   {
    "duration": 301,
    "start_time": "2022-11-26T09:16:45.463Z"
   },
   {
    "duration": 281,
    "start_time": "2022-11-26T09:16:45.765Z"
   },
   {
    "duration": 27,
    "start_time": "2022-11-26T09:16:46.047Z"
   },
   {
    "duration": 13,
    "start_time": "2022-11-26T09:16:46.075Z"
   },
   {
    "duration": 3,
    "start_time": "2022-11-26T09:16:46.090Z"
   },
   {
    "duration": 288,
    "start_time": "2022-11-26T09:16:46.094Z"
   },
   {
    "duration": 0,
    "start_time": "2022-11-26T09:16:46.384Z"
   },
   {
    "duration": 0,
    "start_time": "2022-11-26T09:16:46.385Z"
   },
   {
    "duration": 0,
    "start_time": "2022-11-26T09:16:46.386Z"
   },
   {
    "duration": 0,
    "start_time": "2022-11-26T09:16:46.387Z"
   },
   {
    "duration": 0,
    "start_time": "2022-11-26T09:16:46.388Z"
   },
   {
    "duration": 0,
    "start_time": "2022-11-26T09:16:46.389Z"
   },
   {
    "duration": 0,
    "start_time": "2022-11-26T09:16:46.390Z"
   },
   {
    "duration": 0,
    "start_time": "2022-11-26T09:16:46.392Z"
   },
   {
    "duration": 0,
    "start_time": "2022-11-26T09:16:46.392Z"
   },
   {
    "duration": 0,
    "start_time": "2022-11-26T09:16:46.393Z"
   },
   {
    "duration": 0,
    "start_time": "2022-11-26T09:16:46.394Z"
   },
   {
    "duration": 220,
    "start_time": "2022-11-26T09:19:32.554Z"
   },
   {
    "duration": 3,
    "start_time": "2022-11-26T09:23:48.580Z"
   },
   {
    "duration": 6945,
    "start_time": "2022-11-26T09:23:53.683Z"
   },
   {
    "duration": 3,
    "start_time": "2022-11-26T09:24:07.491Z"
   },
   {
    "duration": 3,
    "start_time": "2022-11-26T09:24:11.924Z"
   },
   {
    "duration": 241,
    "start_time": "2022-11-26T09:24:47.069Z"
   },
   {
    "duration": 369,
    "start_time": "2022-11-26T09:25:04.493Z"
   },
   {
    "duration": 895,
    "start_time": "2022-11-26T09:25:04.864Z"
   },
   {
    "duration": 100,
    "start_time": "2022-11-26T09:25:05.761Z"
   },
   {
    "duration": 14,
    "start_time": "2022-11-26T09:25:05.863Z"
   },
   {
    "duration": 1160,
    "start_time": "2022-11-26T09:25:05.879Z"
   },
   {
    "duration": 28,
    "start_time": "2022-11-26T09:25:07.041Z"
   },
   {
    "duration": 67,
    "start_time": "2022-11-26T09:25:07.071Z"
   },
   {
    "duration": 5,
    "start_time": "2022-11-26T09:25:07.140Z"
   },
   {
    "duration": 22,
    "start_time": "2022-11-26T09:25:07.147Z"
   },
   {
    "duration": 17,
    "start_time": "2022-11-26T09:25:07.172Z"
   },
   {
    "duration": 6,
    "start_time": "2022-11-26T09:25:07.191Z"
   },
   {
    "duration": 5,
    "start_time": "2022-11-26T09:25:07.221Z"
   },
   {
    "duration": 16,
    "start_time": "2022-11-26T09:25:07.227Z"
   },
   {
    "duration": 21,
    "start_time": "2022-11-26T09:25:07.245Z"
   },
   {
    "duration": 7,
    "start_time": "2022-11-26T09:25:07.268Z"
   },
   {
    "duration": 9,
    "start_time": "2022-11-26T09:25:07.276Z"
   },
   {
    "duration": 39,
    "start_time": "2022-11-26T09:25:07.286Z"
   },
   {
    "duration": 14,
    "start_time": "2022-11-26T09:25:07.327Z"
   },
   {
    "duration": 338,
    "start_time": "2022-11-26T09:25:07.342Z"
   },
   {
    "duration": 73,
    "start_time": "2022-11-26T09:25:07.682Z"
   },
   {
    "duration": 5,
    "start_time": "2022-11-26T09:25:07.756Z"
   },
   {
    "duration": 571,
    "start_time": "2022-11-26T09:25:07.762Z"
   },
   {
    "duration": 4,
    "start_time": "2022-11-26T09:25:08.334Z"
   },
   {
    "duration": 2264,
    "start_time": "2022-11-26T09:25:08.339Z"
   },
   {
    "duration": 29,
    "start_time": "2022-11-26T09:25:10.604Z"
   },
   {
    "duration": 5,
    "start_time": "2022-11-26T09:25:10.634Z"
   },
   {
    "duration": 347,
    "start_time": "2022-11-26T09:25:10.641Z"
   },
   {
    "duration": 4,
    "start_time": "2022-11-26T09:25:10.990Z"
   },
   {
    "duration": 1321,
    "start_time": "2022-11-26T09:25:10.995Z"
   },
   {
    "duration": 5,
    "start_time": "2022-11-26T09:25:12.320Z"
   },
   {
    "duration": 14,
    "start_time": "2022-11-26T09:25:12.327Z"
   },
   {
    "duration": 23,
    "start_time": "2022-11-26T09:25:12.342Z"
   },
   {
    "duration": 387,
    "start_time": "2022-11-26T09:25:12.367Z"
   },
   {
    "duration": 413,
    "start_time": "2022-11-26T09:25:12.755Z"
   },
   {
    "duration": 2125,
    "start_time": "2022-11-26T09:25:13.169Z"
   },
   {
    "duration": 10,
    "start_time": "2022-11-26T09:25:15.295Z"
   },
   {
    "duration": 1961,
    "start_time": "2022-11-26T09:25:15.306Z"
   },
   {
    "duration": 9,
    "start_time": "2022-11-26T09:25:17.269Z"
   },
   {
    "duration": 1924,
    "start_time": "2022-11-26T09:25:17.280Z"
   },
   {
    "duration": 9,
    "start_time": "2022-11-26T09:25:19.206Z"
   },
   {
    "duration": 41,
    "start_time": "2022-11-26T09:25:19.217Z"
   },
   {
    "duration": 464,
    "start_time": "2022-11-26T09:25:19.259Z"
   },
   {
    "duration": 480,
    "start_time": "2022-11-26T09:25:19.725Z"
   },
   {
    "duration": 37,
    "start_time": "2022-11-26T09:25:20.207Z"
   },
   {
    "duration": 15,
    "start_time": "2022-11-26T09:25:20.245Z"
   },
   {
    "duration": 6,
    "start_time": "2022-11-26T09:25:20.261Z"
   },
   {
    "duration": 468,
    "start_time": "2022-11-26T09:25:33.150Z"
   },
   {
    "duration": 295,
    "start_time": "2022-11-26T09:26:45.936Z"
   },
   {
    "duration": 889,
    "start_time": "2022-11-26T09:26:46.232Z"
   },
   {
    "duration": 90,
    "start_time": "2022-11-26T09:26:47.123Z"
   },
   {
    "duration": 14,
    "start_time": "2022-11-26T09:26:47.214Z"
   },
   {
    "duration": 1101,
    "start_time": "2022-11-26T09:26:47.229Z"
   },
   {
    "duration": 30,
    "start_time": "2022-11-26T09:26:48.331Z"
   },
   {
    "duration": 60,
    "start_time": "2022-11-26T09:26:48.362Z"
   },
   {
    "duration": 4,
    "start_time": "2022-11-26T09:26:48.423Z"
   },
   {
    "duration": 31,
    "start_time": "2022-11-26T09:26:48.428Z"
   },
   {
    "duration": 17,
    "start_time": "2022-11-26T09:26:48.462Z"
   },
   {
    "duration": 7,
    "start_time": "2022-11-26T09:26:48.481Z"
   },
   {
    "duration": 7,
    "start_time": "2022-11-26T09:26:48.489Z"
   },
   {
    "duration": 33,
    "start_time": "2022-11-26T09:26:48.497Z"
   },
   {
    "duration": 22,
    "start_time": "2022-11-26T09:26:48.531Z"
   },
   {
    "duration": 7,
    "start_time": "2022-11-26T09:26:48.554Z"
   },
   {
    "duration": 15,
    "start_time": "2022-11-26T09:26:48.562Z"
   },
   {
    "duration": 20,
    "start_time": "2022-11-26T09:26:48.578Z"
   },
   {
    "duration": 33,
    "start_time": "2022-11-26T09:26:48.600Z"
   },
   {
    "duration": 334,
    "start_time": "2022-11-26T09:26:48.634Z"
   },
   {
    "duration": 81,
    "start_time": "2022-11-26T09:26:48.969Z"
   },
   {
    "duration": 5,
    "start_time": "2022-11-26T09:26:49.052Z"
   },
   {
    "duration": 567,
    "start_time": "2022-11-26T09:26:49.058Z"
   },
   {
    "duration": 4,
    "start_time": "2022-11-26T09:26:49.627Z"
   },
   {
    "duration": 2321,
    "start_time": "2022-11-26T09:26:49.633Z"
   },
   {
    "duration": 22,
    "start_time": "2022-11-26T09:26:51.955Z"
   },
   {
    "duration": 4,
    "start_time": "2022-11-26T09:26:51.978Z"
   },
   {
    "duration": 380,
    "start_time": "2022-11-26T09:26:51.983Z"
   },
   {
    "duration": 4,
    "start_time": "2022-11-26T09:26:52.366Z"
   },
   {
    "duration": 1243,
    "start_time": "2022-11-26T09:26:52.371Z"
   },
   {
    "duration": 5,
    "start_time": "2022-11-26T09:26:53.620Z"
   },
   {
    "duration": 12,
    "start_time": "2022-11-26T09:26:53.627Z"
   },
   {
    "duration": 23,
    "start_time": "2022-11-26T09:26:53.641Z"
   },
   {
    "duration": 392,
    "start_time": "2022-11-26T09:26:53.666Z"
   },
   {
    "duration": 393,
    "start_time": "2022-11-26T09:26:54.060Z"
   },
   {
    "duration": 2152,
    "start_time": "2022-11-26T09:26:54.455Z"
   },
   {
    "duration": 17,
    "start_time": "2022-11-26T09:26:56.609Z"
   },
   {
    "duration": 1916,
    "start_time": "2022-11-26T09:26:56.628Z"
   },
   {
    "duration": 12,
    "start_time": "2022-11-26T09:26:58.546Z"
   },
   {
    "duration": 2015,
    "start_time": "2022-11-26T09:26:58.560Z"
   },
   {
    "duration": 10,
    "start_time": "2022-11-26T09:27:00.576Z"
   },
   {
    "duration": 41,
    "start_time": "2022-11-26T09:27:00.588Z"
   },
   {
    "duration": 493,
    "start_time": "2022-11-26T09:27:00.631Z"
   },
   {
    "duration": 508,
    "start_time": "2022-11-26T09:27:01.126Z"
   },
   {
    "duration": 32,
    "start_time": "2022-11-26T09:27:01.636Z"
   },
   {
    "duration": 17,
    "start_time": "2022-11-26T09:27:01.669Z"
   },
   {
    "duration": 35,
    "start_time": "2022-11-26T09:27:01.687Z"
   },
   {
    "duration": 2595,
    "start_time": "2022-11-26T09:27:01.723Z"
   },
   {
    "duration": 4,
    "start_time": "2022-11-26T09:27:04.319Z"
   },
   {
    "duration": 561,
    "start_time": "2022-11-26T09:27:04.324Z"
   },
   {
    "duration": 40,
    "start_time": "2022-11-26T09:27:04.886Z"
   },
   {
    "duration": 15,
    "start_time": "2022-11-26T09:27:04.927Z"
   },
   {
    "duration": 592,
    "start_time": "2022-11-26T09:27:04.943Z"
   },
   {
    "duration": 29,
    "start_time": "2022-11-26T09:27:05.536Z"
   },
   {
    "duration": 14,
    "start_time": "2022-11-26T09:27:05.567Z"
   },
   {
    "duration": 461,
    "start_time": "2022-11-26T09:27:05.583Z"
   },
   {
    "duration": 11,
    "start_time": "2022-11-26T09:27:06.046Z"
   },
   {
    "duration": 10,
    "start_time": "2022-11-26T09:27:06.059Z"
   },
   {
    "duration": 8,
    "start_time": "2022-11-26T09:27:06.071Z"
   },
   {
    "duration": 8,
    "start_time": "2022-11-26T09:27:06.081Z"
   },
   {
    "duration": 9,
    "start_time": "2022-11-26T09:27:06.121Z"
   },
   {
    "duration": 4682,
    "start_time": "2022-11-26T09:27:46.074Z"
   },
   {
    "duration": 4,
    "start_time": "2022-11-26T09:27:54.768Z"
   },
   {
    "duration": 283,
    "start_time": "2022-11-26T09:28:16.430Z"
   },
   {
    "duration": 806,
    "start_time": "2022-11-26T09:28:16.715Z"
   },
   {
    "duration": 85,
    "start_time": "2022-11-26T09:28:17.522Z"
   },
   {
    "duration": 14,
    "start_time": "2022-11-26T09:28:17.609Z"
   },
   {
    "duration": 683,
    "start_time": "2022-11-26T09:28:17.625Z"
   },
   {
    "duration": 34,
    "start_time": "2022-11-26T09:28:18.309Z"
   },
   {
    "duration": 47,
    "start_time": "2022-11-26T09:28:18.344Z"
   },
   {
    "duration": 5,
    "start_time": "2022-11-26T09:28:18.392Z"
   },
   {
    "duration": 40,
    "start_time": "2022-11-26T09:28:18.398Z"
   },
   {
    "duration": 18,
    "start_time": "2022-11-26T09:28:18.440Z"
   },
   {
    "duration": 7,
    "start_time": "2022-11-26T09:28:18.459Z"
   },
   {
    "duration": 7,
    "start_time": "2022-11-26T09:28:18.467Z"
   },
   {
    "duration": 14,
    "start_time": "2022-11-26T09:28:18.475Z"
   },
   {
    "duration": 43,
    "start_time": "2022-11-26T09:28:18.491Z"
   },
   {
    "duration": 5,
    "start_time": "2022-11-26T09:28:18.536Z"
   },
   {
    "duration": 6,
    "start_time": "2022-11-26T09:28:18.543Z"
   },
   {
    "duration": 18,
    "start_time": "2022-11-26T09:28:18.551Z"
   },
   {
    "duration": 19,
    "start_time": "2022-11-26T09:28:18.571Z"
   },
   {
    "duration": 211,
    "start_time": "2022-11-26T09:28:18.592Z"
   },
   {
    "duration": 70,
    "start_time": "2022-11-26T09:28:18.804Z"
   },
   {
    "duration": 4,
    "start_time": "2022-11-26T09:28:18.876Z"
   },
   {
    "duration": 334,
    "start_time": "2022-11-26T09:28:18.881Z"
   },
   {
    "duration": 5,
    "start_time": "2022-11-26T09:28:19.217Z"
   },
   {
    "duration": 1188,
    "start_time": "2022-11-26T09:28:19.224Z"
   },
   {
    "duration": 27,
    "start_time": "2022-11-26T09:28:20.414Z"
   },
   {
    "duration": 4,
    "start_time": "2022-11-26T09:28:20.443Z"
   },
   {
    "duration": 181,
    "start_time": "2022-11-26T09:28:20.448Z"
   },
   {
    "duration": 3,
    "start_time": "2022-11-26T09:28:20.633Z"
   },
   {
    "duration": 656,
    "start_time": "2022-11-26T09:28:20.637Z"
   },
   {
    "duration": 5,
    "start_time": "2022-11-26T09:28:21.295Z"
   },
   {
    "duration": 354,
    "start_time": "2022-11-26T09:28:21.301Z"
   },
   {
    "duration": 26,
    "start_time": "2022-11-26T09:28:21.656Z"
   },
   {
    "duration": 210,
    "start_time": "2022-11-26T09:28:21.683Z"
   },
   {
    "duration": 216,
    "start_time": "2022-11-26T09:28:21.895Z"
   },
   {
    "duration": 1842,
    "start_time": "2022-11-26T09:28:22.113Z"
   },
   {
    "duration": 10,
    "start_time": "2022-11-26T09:28:23.957Z"
   },
   {
    "duration": 1434,
    "start_time": "2022-11-26T09:28:23.969Z"
   },
   {
    "duration": 20,
    "start_time": "2022-11-26T09:28:25.404Z"
   },
   {
    "duration": 1463,
    "start_time": "2022-11-26T09:28:25.425Z"
   },
   {
    "duration": 11,
    "start_time": "2022-11-26T09:28:26.889Z"
   },
   {
    "duration": 47,
    "start_time": "2022-11-26T09:28:26.901Z"
   },
   {
    "duration": 293,
    "start_time": "2022-11-26T09:28:26.950Z"
   },
   {
    "duration": 284,
    "start_time": "2022-11-26T09:28:27.245Z"
   },
   {
    "duration": 30,
    "start_time": "2022-11-26T09:28:27.531Z"
   },
   {
    "duration": 15,
    "start_time": "2022-11-26T09:28:27.563Z"
   },
   {
    "duration": 339,
    "start_time": "2022-11-26T09:28:27.579Z"
   },
   {
    "duration": 0,
    "start_time": "2022-11-26T09:28:27.921Z"
   },
   {
    "duration": 0,
    "start_time": "2022-11-26T09:28:27.922Z"
   },
   {
    "duration": 0,
    "start_time": "2022-11-26T09:28:27.922Z"
   },
   {
    "duration": 0,
    "start_time": "2022-11-26T09:28:27.924Z"
   },
   {
    "duration": 0,
    "start_time": "2022-11-26T09:28:27.925Z"
   },
   {
    "duration": 0,
    "start_time": "2022-11-26T09:28:27.926Z"
   },
   {
    "duration": 0,
    "start_time": "2022-11-26T09:28:27.927Z"
   },
   {
    "duration": 0,
    "start_time": "2022-11-26T09:28:27.928Z"
   },
   {
    "duration": 0,
    "start_time": "2022-11-26T09:28:27.929Z"
   },
   {
    "duration": 0,
    "start_time": "2022-11-26T09:28:27.931Z"
   },
   {
    "duration": 0,
    "start_time": "2022-11-26T09:28:27.932Z"
   },
   {
    "duration": 31,
    "start_time": "2022-11-26T09:33:11.867Z"
   },
   {
    "duration": 15,
    "start_time": "2022-11-26T09:33:11.900Z"
   },
   {
    "duration": 195,
    "start_time": "2022-11-26T09:33:11.917Z"
   },
   {
    "duration": 30,
    "start_time": "2022-11-26T09:33:19.247Z"
   },
   {
    "duration": 14,
    "start_time": "2022-11-26T09:33:19.279Z"
   },
   {
    "duration": 160,
    "start_time": "2022-11-26T09:33:19.295Z"
   },
   {
    "duration": 8,
    "start_time": "2022-11-26T09:33:26.877Z"
   },
   {
    "duration": 12,
    "start_time": "2022-11-26T09:33:26.887Z"
   },
   {
    "duration": 9,
    "start_time": "2022-11-26T09:33:30.918Z"
   },
   {
    "duration": 33,
    "start_time": "2022-11-26T09:33:30.928Z"
   },
   {
    "duration": 46,
    "start_time": "2022-11-26T09:33:30.963Z"
   },
   {
    "duration": 322,
    "start_time": "2022-11-26T11:22:59.055Z"
   },
   {
    "duration": 844,
    "start_time": "2022-11-26T11:22:59.378Z"
   },
   {
    "duration": 90,
    "start_time": "2022-11-26T11:23:00.224Z"
   },
   {
    "duration": 13,
    "start_time": "2022-11-26T11:23:00.316Z"
   },
   {
    "duration": 703,
    "start_time": "2022-11-26T11:23:00.331Z"
   },
   {
    "duration": 28,
    "start_time": "2022-11-26T11:23:01.035Z"
   },
   {
    "duration": 65,
    "start_time": "2022-11-26T11:23:01.064Z"
   },
   {
    "duration": 4,
    "start_time": "2022-11-26T11:23:01.131Z"
   },
   {
    "duration": 76,
    "start_time": "2022-11-26T11:23:01.137Z"
   },
   {
    "duration": 53,
    "start_time": "2022-11-26T11:23:01.216Z"
   },
   {
    "duration": 31,
    "start_time": "2022-11-26T11:23:01.271Z"
   },
   {
    "duration": 32,
    "start_time": "2022-11-26T11:23:01.304Z"
   },
   {
    "duration": 38,
    "start_time": "2022-11-26T11:23:01.338Z"
   },
   {
    "duration": 27,
    "start_time": "2022-11-26T11:23:01.378Z"
   },
   {
    "duration": 4,
    "start_time": "2022-11-26T11:23:01.406Z"
   },
   {
    "duration": 15,
    "start_time": "2022-11-26T11:23:01.412Z"
   },
   {
    "duration": 27,
    "start_time": "2022-11-26T11:23:01.428Z"
   },
   {
    "duration": 17,
    "start_time": "2022-11-26T11:23:01.456Z"
   },
   {
    "duration": 220,
    "start_time": "2022-11-26T11:23:01.475Z"
   },
   {
    "duration": 75,
    "start_time": "2022-11-26T11:23:01.697Z"
   },
   {
    "duration": 5,
    "start_time": "2022-11-26T11:23:01.773Z"
   },
   {
    "duration": 322,
    "start_time": "2022-11-26T11:23:01.780Z"
   },
   {
    "duration": 4,
    "start_time": "2022-11-26T11:23:02.103Z"
   },
   {
    "duration": 1277,
    "start_time": "2022-11-26T11:23:02.109Z"
   },
   {
    "duration": 34,
    "start_time": "2022-11-26T11:23:03.388Z"
   },
   {
    "duration": 5,
    "start_time": "2022-11-26T11:23:03.424Z"
   },
   {
    "duration": 175,
    "start_time": "2022-11-26T11:23:03.430Z"
   },
   {
    "duration": 12,
    "start_time": "2022-11-26T11:23:03.610Z"
   },
   {
    "duration": 677,
    "start_time": "2022-11-26T11:23:03.624Z"
   },
   {
    "duration": 5,
    "start_time": "2022-11-26T11:23:04.302Z"
   },
   {
    "duration": 20,
    "start_time": "2022-11-26T11:23:04.308Z"
   },
   {
    "duration": 28,
    "start_time": "2022-11-26T11:23:04.329Z"
   },
   {
    "duration": 223,
    "start_time": "2022-11-26T11:23:04.358Z"
   },
   {
    "duration": 226,
    "start_time": "2022-11-26T11:23:04.582Z"
   },
   {
    "duration": 1739,
    "start_time": "2022-11-26T11:23:04.810Z"
   },
   {
    "duration": 12,
    "start_time": "2022-11-26T11:23:06.551Z"
   },
   {
    "duration": 1429,
    "start_time": "2022-11-26T11:23:06.565Z"
   },
   {
    "duration": 25,
    "start_time": "2022-11-26T11:23:07.996Z"
   },
   {
    "duration": 1456,
    "start_time": "2022-11-26T11:23:08.023Z"
   },
   {
    "duration": 10,
    "start_time": "2022-11-26T11:23:09.480Z"
   },
   {
    "duration": 45,
    "start_time": "2022-11-26T11:23:09.491Z"
   },
   {
    "duration": 302,
    "start_time": "2022-11-26T11:23:09.538Z"
   },
   {
    "duration": 295,
    "start_time": "2022-11-26T11:23:09.841Z"
   },
   {
    "duration": 32,
    "start_time": "2022-11-26T11:23:10.137Z"
   },
   {
    "duration": 14,
    "start_time": "2022-11-26T11:23:10.171Z"
   },
   {
    "duration": 324,
    "start_time": "2022-11-26T11:23:10.186Z"
   },
   {
    "duration": 0,
    "start_time": "2022-11-26T11:23:10.511Z"
   },
   {
    "duration": 0,
    "start_time": "2022-11-26T11:23:10.512Z"
   },
   {
    "duration": 0,
    "start_time": "2022-11-26T11:23:10.521Z"
   },
   {
    "duration": 0,
    "start_time": "2022-11-26T11:23:10.522Z"
   },
   {
    "duration": 0,
    "start_time": "2022-11-26T11:23:10.523Z"
   },
   {
    "duration": 0,
    "start_time": "2022-11-26T11:23:10.524Z"
   },
   {
    "duration": 0,
    "start_time": "2022-11-26T11:23:10.525Z"
   },
   {
    "duration": 0,
    "start_time": "2022-11-26T11:23:10.526Z"
   },
   {
    "duration": 0,
    "start_time": "2022-11-26T11:23:10.527Z"
   },
   {
    "duration": 0,
    "start_time": "2022-11-26T11:23:10.528Z"
   },
   {
    "duration": 0,
    "start_time": "2022-11-26T11:23:10.529Z"
   },
   {
    "duration": 341,
    "start_time": "2022-11-26T18:18:55.792Z"
   },
   {
    "duration": 341,
    "start_time": "2022-11-26T18:26:22.488Z"
   },
   {
    "duration": 1195,
    "start_time": "2022-11-26T18:26:22.831Z"
   },
   {
    "duration": 286,
    "start_time": "2022-11-26T18:26:24.029Z"
   },
   {
    "duration": 25,
    "start_time": "2022-11-26T18:26:24.319Z"
   },
   {
    "duration": 982,
    "start_time": "2022-11-26T18:26:24.346Z"
   },
   {
    "duration": 57,
    "start_time": "2022-11-26T18:26:25.330Z"
   },
   {
    "duration": 98,
    "start_time": "2022-11-26T18:26:25.389Z"
   },
   {
    "duration": 7,
    "start_time": "2022-11-26T18:26:25.490Z"
   },
   {
    "duration": 57,
    "start_time": "2022-11-26T18:26:25.499Z"
   },
   {
    "duration": 30,
    "start_time": "2022-11-26T18:26:25.560Z"
   },
   {
    "duration": 11,
    "start_time": "2022-11-26T18:26:25.593Z"
   },
   {
    "duration": 13,
    "start_time": "2022-11-26T18:26:25.607Z"
   },
   {
    "duration": 51,
    "start_time": "2022-11-26T18:26:25.622Z"
   },
   {
    "duration": 36,
    "start_time": "2022-11-26T18:26:25.676Z"
   },
   {
    "duration": 7,
    "start_time": "2022-11-26T18:26:25.714Z"
   },
   {
    "duration": 9,
    "start_time": "2022-11-26T18:26:25.750Z"
   },
   {
    "duration": 30,
    "start_time": "2022-11-26T18:26:25.762Z"
   },
   {
    "duration": 28,
    "start_time": "2022-11-26T18:26:25.795Z"
   },
   {
    "duration": 336,
    "start_time": "2022-11-26T18:26:25.852Z"
   },
   {
    "duration": 113,
    "start_time": "2022-11-26T18:26:26.193Z"
   },
   {
    "duration": 8,
    "start_time": "2022-11-26T18:26:26.309Z"
   },
   {
    "duration": 407,
    "start_time": "2022-11-26T18:26:26.318Z"
   },
   {
    "duration": 6,
    "start_time": "2022-11-26T18:26:26.727Z"
   },
   {
    "duration": 1575,
    "start_time": "2022-11-26T18:26:26.737Z"
   },
   {
    "duration": 37,
    "start_time": "2022-11-26T18:26:28.315Z"
   },
   {
    "duration": 7,
    "start_time": "2022-11-26T18:26:28.354Z"
   },
   {
    "duration": 218,
    "start_time": "2022-11-26T18:26:28.363Z"
   },
   {
    "duration": 4,
    "start_time": "2022-11-26T18:26:28.585Z"
   },
   {
    "duration": 866,
    "start_time": "2022-11-26T18:26:28.591Z"
   },
   {
    "duration": 7,
    "start_time": "2022-11-26T18:26:29.460Z"
   },
   {
    "duration": 32,
    "start_time": "2022-11-26T18:26:29.469Z"
   },
   {
    "duration": 48,
    "start_time": "2022-11-26T18:26:29.504Z"
   },
   {
    "duration": 409,
    "start_time": "2022-11-26T18:26:29.555Z"
   },
   {
    "duration": 414,
    "start_time": "2022-11-26T18:26:29.967Z"
   },
   {
    "duration": 2258,
    "start_time": "2022-11-26T18:26:30.383Z"
   },
   {
    "duration": 18,
    "start_time": "2022-11-26T18:26:32.643Z"
   },
   {
    "duration": 2392,
    "start_time": "2022-11-26T18:26:32.664Z"
   },
   {
    "duration": 13,
    "start_time": "2022-11-26T18:26:35.059Z"
   },
   {
    "duration": 2076,
    "start_time": "2022-11-26T18:26:35.075Z"
   },
   {
    "duration": 15,
    "start_time": "2022-11-26T18:26:37.154Z"
   },
   {
    "duration": 52,
    "start_time": "2022-11-26T18:26:37.172Z"
   },
   {
    "duration": 581,
    "start_time": "2022-11-26T18:26:37.226Z"
   },
   {
    "duration": 504,
    "start_time": "2022-11-26T18:26:37.809Z"
   },
   {
    "duration": 61,
    "start_time": "2022-11-26T18:26:38.316Z"
   },
   {
    "duration": 32,
    "start_time": "2022-11-26T18:26:38.379Z"
   },
   {
    "duration": 566,
    "start_time": "2022-11-26T18:26:38.414Z"
   },
   {
    "duration": 0,
    "start_time": "2022-11-26T18:26:38.982Z"
   },
   {
    "duration": 0,
    "start_time": "2022-11-26T18:26:38.984Z"
   },
   {
    "duration": 0,
    "start_time": "2022-11-26T18:26:38.986Z"
   },
   {
    "duration": 0,
    "start_time": "2022-11-26T18:26:38.987Z"
   },
   {
    "duration": 0,
    "start_time": "2022-11-26T18:26:38.989Z"
   },
   {
    "duration": 0,
    "start_time": "2022-11-26T18:26:38.990Z"
   },
   {
    "duration": 0,
    "start_time": "2022-11-26T18:26:38.992Z"
   },
   {
    "duration": 0,
    "start_time": "2022-11-26T18:26:38.994Z"
   },
   {
    "duration": 0,
    "start_time": "2022-11-26T18:26:38.996Z"
   },
   {
    "duration": 0,
    "start_time": "2022-11-26T18:26:38.997Z"
   },
   {
    "duration": 0,
    "start_time": "2022-11-26T18:26:38.998Z"
   },
   {
    "duration": 67,
    "start_time": "2022-11-26T18:28:14.789Z"
   },
   {
    "duration": 43,
    "start_time": "2022-11-26T18:28:14.863Z"
   },
   {
    "duration": 339,
    "start_time": "2022-11-26T18:28:14.912Z"
   },
   {
    "duration": 56,
    "start_time": "2022-11-26T18:28:21.333Z"
   },
   {
    "duration": 25,
    "start_time": "2022-11-26T18:28:21.392Z"
   },
   {
    "duration": 302,
    "start_time": "2022-11-26T18:28:21.452Z"
   },
   {
    "duration": 13,
    "start_time": "2022-11-26T18:28:29.789Z"
   },
   {
    "duration": 26,
    "start_time": "2022-11-26T18:28:29.805Z"
   },
   {
    "duration": 36,
    "start_time": "2022-11-26T18:28:29.835Z"
   },
   {
    "duration": 29,
    "start_time": "2022-11-26T18:28:29.873Z"
   },
   {
    "duration": 163,
    "start_time": "2022-11-26T18:28:29.905Z"
   },
   {
    "duration": 8166,
    "start_time": "2022-11-28T02:12:59.316Z"
   },
   {
    "duration": 312,
    "start_time": "2022-11-28T02:13:07.484Z"
   },
   {
    "duration": 1089,
    "start_time": "2022-11-28T02:13:07.797Z"
   },
   {
    "duration": 234,
    "start_time": "2022-11-28T02:13:08.888Z"
   },
   {
    "duration": 15,
    "start_time": "2022-11-28T02:13:09.124Z"
   },
   {
    "duration": 1172,
    "start_time": "2022-11-28T02:13:09.140Z"
   },
   {
    "duration": 30,
    "start_time": "2022-11-28T02:13:10.314Z"
   },
   {
    "duration": 59,
    "start_time": "2022-11-28T02:13:10.345Z"
   },
   {
    "duration": 4,
    "start_time": "2022-11-28T02:13:10.405Z"
   },
   {
    "duration": 22,
    "start_time": "2022-11-28T02:13:10.412Z"
   },
   {
    "duration": 18,
    "start_time": "2022-11-28T02:13:10.435Z"
   },
   {
    "duration": 26,
    "start_time": "2022-11-28T02:13:10.454Z"
   },
   {
    "duration": 7,
    "start_time": "2022-11-28T02:13:10.482Z"
   },
   {
    "duration": 17,
    "start_time": "2022-11-28T02:13:10.491Z"
   },
   {
    "duration": 23,
    "start_time": "2022-11-28T02:13:10.509Z"
   },
   {
    "duration": 4,
    "start_time": "2022-11-28T02:13:10.533Z"
   },
   {
    "duration": 10,
    "start_time": "2022-11-28T02:13:10.539Z"
   },
   {
    "duration": 36,
    "start_time": "2022-11-28T02:13:10.550Z"
   },
   {
    "duration": 16,
    "start_time": "2022-11-28T02:13:10.588Z"
   },
   {
    "duration": 325,
    "start_time": "2022-11-28T02:13:10.605Z"
   },
   {
    "duration": 77,
    "start_time": "2022-11-28T02:13:10.932Z"
   },
   {
    "duration": 5,
    "start_time": "2022-11-28T02:13:11.010Z"
   },
   {
    "duration": 600,
    "start_time": "2022-11-28T02:13:11.016Z"
   },
   {
    "duration": 4,
    "start_time": "2022-11-28T02:13:11.618Z"
   },
   {
    "duration": 2306,
    "start_time": "2022-11-28T02:13:11.623Z"
   },
   {
    "duration": 33,
    "start_time": "2022-11-28T02:13:13.930Z"
   },
   {
    "duration": 7,
    "start_time": "2022-11-28T02:13:13.977Z"
   },
   {
    "duration": 328,
    "start_time": "2022-11-28T02:13:13.988Z"
   },
   {
    "duration": 4,
    "start_time": "2022-11-28T02:13:14.318Z"
   },
   {
    "duration": 1278,
    "start_time": "2022-11-28T02:13:14.324Z"
   },
   {
    "duration": 5,
    "start_time": "2022-11-28T02:13:15.603Z"
   },
   {
    "duration": 16,
    "start_time": "2022-11-28T02:13:15.610Z"
   },
   {
    "duration": 27,
    "start_time": "2022-11-28T02:13:15.628Z"
   },
   {
    "duration": 388,
    "start_time": "2022-11-28T02:13:15.659Z"
   },
   {
    "duration": 380,
    "start_time": "2022-11-28T02:13:16.048Z"
   },
   {
    "duration": 2182,
    "start_time": "2022-11-28T02:13:16.430Z"
   },
   {
    "duration": 11,
    "start_time": "2022-11-28T02:13:18.614Z"
   },
   {
    "duration": 1883,
    "start_time": "2022-11-28T02:13:18.627Z"
   },
   {
    "duration": 11,
    "start_time": "2022-11-28T02:13:20.511Z"
   },
   {
    "duration": 2037,
    "start_time": "2022-11-28T02:13:20.523Z"
   },
   {
    "duration": 17,
    "start_time": "2022-11-28T02:13:22.561Z"
   },
   {
    "duration": 34,
    "start_time": "2022-11-28T02:13:22.579Z"
   },
   {
    "duration": 525,
    "start_time": "2022-11-28T02:13:22.615Z"
   },
   {
    "duration": 504,
    "start_time": "2022-11-28T02:13:23.142Z"
   },
   {
    "duration": 41,
    "start_time": "2022-11-28T02:13:23.648Z"
   },
   {
    "duration": 17,
    "start_time": "2022-11-28T02:13:23.691Z"
   },
   {
    "duration": 4,
    "start_time": "2022-11-28T02:13:23.709Z"
   },
   {
    "duration": 445,
    "start_time": "2022-11-28T02:13:23.715Z"
   },
   {
    "duration": 41,
    "start_time": "2022-11-28T02:13:24.162Z"
   },
   {
    "duration": 19,
    "start_time": "2022-11-28T02:13:24.205Z"
   },
   {
    "duration": 392,
    "start_time": "2022-11-28T02:13:24.225Z"
   },
   {
    "duration": 514,
    "start_time": "2022-11-28T02:13:24.619Z"
   },
   {
    "duration": 46,
    "start_time": "2022-11-28T02:13:25.135Z"
   },
   {
    "duration": 15,
    "start_time": "2022-11-28T02:13:25.183Z"
   },
   {
    "duration": 414,
    "start_time": "2022-11-28T02:13:25.199Z"
   },
   {
    "duration": 8,
    "start_time": "2022-11-28T02:13:25.614Z"
   },
   {
    "duration": 12,
    "start_time": "2022-11-28T02:13:25.624Z"
   },
   {
    "duration": 12,
    "start_time": "2022-11-28T02:13:25.637Z"
   },
   {
    "duration": 30,
    "start_time": "2022-11-28T02:13:25.650Z"
   },
   {
    "duration": 12,
    "start_time": "2022-11-28T02:13:25.682Z"
   },
   {
    "duration": 598,
    "start_time": "2022-11-28T02:17:19.332Z"
   },
   {
    "duration": 504,
    "start_time": "2022-11-28T02:18:07.534Z"
   },
   {
    "duration": 112,
    "start_time": "2022-11-28T02:18:23.158Z"
   },
   {
    "duration": 475,
    "start_time": "2022-11-28T02:18:30.972Z"
   },
   {
    "duration": 451,
    "start_time": "2022-11-28T02:18:36.796Z"
   },
   {
    "duration": 496,
    "start_time": "2022-11-28T02:18:46.637Z"
   },
   {
    "duration": 544,
    "start_time": "2022-11-28T02:18:55.884Z"
   },
   {
    "duration": 535,
    "start_time": "2022-11-28T02:19:14.595Z"
   },
   {
    "duration": 551,
    "start_time": "2022-11-28T02:19:21.691Z"
   },
   {
    "duration": 461,
    "start_time": "2022-11-28T02:19:47.081Z"
   },
   {
    "duration": 2,
    "start_time": "2022-11-28T02:23:29.081Z"
   },
   {
    "duration": 336,
    "start_time": "2022-11-28T02:24:18.496Z"
   },
   {
    "duration": 3,
    "start_time": "2022-11-28T02:24:32.550Z"
   },
   {
    "duration": 75,
    "start_time": "2022-11-28T02:25:42.996Z"
   },
   {
    "duration": 3,
    "start_time": "2022-11-28T02:26:13.587Z"
   },
   {
    "duration": 2,
    "start_time": "2022-11-28T02:26:51.162Z"
   }
  ],
  "kernelspec": {
   "display_name": "Python 3 (ipykernel)",
   "language": "python",
   "name": "python3"
  },
  "language_info": {
   "codemirror_mode": {
    "name": "ipython",
    "version": 3
   },
   "file_extension": ".py",
   "mimetype": "text/x-python",
   "name": "python",
   "nbconvert_exporter": "python",
   "pygments_lexer": "ipython3",
   "version": "3.9.12"
  },
  "toc": {
   "base_numbering": 1,
   "nav_menu": {
    "height": "280px",
    "width": "385px"
   },
   "number_sections": true,
   "sideBar": true,
   "skip_h1_title": true,
   "title_cell": "Table of Contents",
   "title_sidebar": "Contents",
   "toc_cell": false,
   "toc_position": {},
   "toc_section_display": true,
   "toc_window_display": false
  }
 },
 "nbformat": 4,
 "nbformat_minor": 5
}
